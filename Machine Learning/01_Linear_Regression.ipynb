# 선형회귀
#### 캐글에서 Advertising Dataset을 가지고 와 선형회귀 실습 진행 
- https://velog.io/@wwoo/가장-쉽게-배우는-머신러닝-1주차-캐글Kaggle-선형회귀-실습 블로그 참조  
- https://www.kaggle.com/code/ybifoundation/simple-linear-regression 캐글 노트북 참조
import numpy as np
import pandas as pd
import matplotlib.pyplot as plt 
import seaborn as sns
from sklearn.model_selection import train_test_split
from sklearn.linear_model import LinearRegression
from sklearn.metrics import mean_absolute_error, mean_absolute_percentage_error, mean_squared_error
# 데이터 불러오기
df = pd.read_csv('advertising.csv')
df
# 데이터 형태 확인하기 
df.shape
# 데이터 분포 확인하기 
sns.pairplot(df, x_vars=['TV', 'Newspaper', 'Radio'], y_vars=['Sales'], height=4)

# 그래프를 통해 tv와 sales의 관계를 선형으로 모델링할 수 있음을 알 수 있음 
# 데이터 가공
x_data = np.array(df[['TV']], dtype=np.float32)
y_data = np.array(df['Sales'], dtype=np.float32)

print(x_data.shape)
print(y_data.shape)

x_data = x_data.reshape((-1, 1))
y_data = y_data.reshape((-1, 1))

print(x_data.shape)
print(y_data.shape)
# 학습 데이터와 검증 데이터로 분할
x_train, x_val, y_train, y_val = train_test_split(x_data, y_data, test_size=0.2, random_state=2021)

print(x_train.shape, x_val.shape)
print(y_train.shape, y_val.shape)
# 모델 선택
model = LinearRegression()
# 모델 훈련
model.fit(x_train, y_train)
model.coef_
# 모델 예측
y_pred = model.predict(x_data)
y_pred
# 모델 정확도
mean_absolute_error(y_data, y_pred)
mean_absolute_percentage_error(y_data, y_pred)
mean_squared_error(y_data, y_pred)
# 데이터 시각화 
y_pred = model.predict(x_val)

plt.scatter(x_val, y_val)
plt.scatter(x_val, y_pred, color='r')
plt.show()
