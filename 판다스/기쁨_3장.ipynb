{
 "cells": [
  {
   "cell_type": "markdown",
   "id": "869799e3",
   "metadata": {},
   "source": [
    "# 3 - 1"
   ]
  },
  {
   "cell_type": "code",
   "execution_count": 2,
   "id": "34821851",
   "metadata": {},
   "outputs": [
    {
     "name": "stdout",
     "output_type": "stream",
     "text": [
      "0    banana\n",
      "1        42\n",
      "dtype: object\n"
     ]
    }
   ],
   "source": [
    "import pandas as pd\n",
    "\n",
    "s = pd.Series(['banana', 42])\n",
    "print(s)"
   ]
  },
  {
   "cell_type": "code",
   "execution_count": 3,
   "id": "d7002360",
   "metadata": {},
   "outputs": [
    {
     "name": "stdout",
     "output_type": "stream",
     "text": [
      "Person         Wes McKinney\n",
      "Who       Creator of Pandas\n",
      "dtype: object\n"
     ]
    }
   ],
   "source": [
    "s = pd.Series(data=['Wes McKinney', 'Creator of Pandas'], index = ['Person', 'Who'])\n",
    "print(s)"
   ]
  },
  {
   "cell_type": "code",
   "execution_count": 4,
   "id": "ac24f425",
   "metadata": {},
   "outputs": [
    {
     "name": "stdout",
     "output_type": "stream",
     "text": [
      "                Name    Occupation        Born        Died  Age\n",
      "0  Rosaline Franklin       Chemist  1920-07-25  1958-04-16   37\n",
      "1     William Gosset  Statistician  1876-06-13  1937-10-16   61\n"
     ]
    }
   ],
   "source": [
    "scientists = pd.DataFrame({\n",
    "    \"Name\" : [\"Rosaline Franklin\", \"William Gosset\"],\n",
    "    \"Occupation\" : [\"Chemist\", \"Statistician\"],\n",
    "    \"Born\" : [\"1920-07-25\", \"1876-06-13\"],\n",
    "    \"Died\" : [\"1958-04-16\", \"1937-10-16\"],\n",
    "    \"Age\" : [37, 61],\n",
    "})\n",
    "print(scientists)"
   ]
  },
  {
   "cell_type": "code",
   "execution_count": 5,
   "id": "95472915",
   "metadata": {},
   "outputs": [
    {
     "name": "stdout",
     "output_type": "stream",
     "text": [
      "                     Occupation        Born Dide  Age\n",
      "Rosaline Franklin       Chemist  1920-07-25  NaN   37\n",
      "Willian Gosset     Statistician  1876-06-13  NaN   61\n"
     ]
    }
   ],
   "source": [
    "scientists = pd.DataFrame(\n",
    "    data = {\n",
    "        \"Occupation\" : [\"Chemist\", \"Statistician\"],\n",
    "        \"Born\" : [\"1920-07-25\", \"1876-06-13\"],\n",
    "        \"Died\" : [\"1958-04-16\", \"1937-10-16\"],\n",
    "        \"Age\" : [37, 61],\n",
    "    },\n",
    "    index = [\"Rosaline Franklin\", \"Willian Gosset\"],\n",
    "    columns = [\"Occupation\", \"Born\", \"Dide\", \"Age\"],\n",
    ")\n",
    "print(scientists)"
   ]
  },
  {
   "cell_type": "markdown",
   "id": "6b7ab6d4",
   "metadata": {},
   "source": [
    "# 3 - 2"
   ]
  },
  {
   "cell_type": "code",
   "execution_count": 6,
   "id": "0457b172",
   "metadata": {},
   "outputs": [
    {
     "name": "stdout",
     "output_type": "stream",
     "text": [
      "                     Occupation        Born        Died  Age\n",
      "Rosaline Franklin       Chemist  1920-07-25  1958-04-16   37\n",
      "William Gosset     Statistician  1876-06-13  1937-10-16   61\n"
     ]
    }
   ],
   "source": [
    "scientists = pd.DataFrame(\n",
    "    data = {\n",
    "            \"Occupation\" : [\"Chemist\", \"Statistician\"],\n",
    "            \"Born\" : [\"1920-07-25\", \"1876-06-13\"],\n",
    "            \"Died\" : [\"1958-04-16\", \"1937-10-16\"],\n",
    "            \"Age\" : [37, 61],\n",
    "    },\n",
    "    index = [\"Rosaline Franklin\", \"William Gosset\"],\n",
    "    columns = [\"Occupation\", \"Born\", \"Died\", \"Age\"],\n",
    ")\n",
    "print(scientists)"
   ]
  },
  {
   "cell_type": "code",
   "execution_count": 7,
   "id": "c40820aa",
   "metadata": {},
   "outputs": [
    {
     "name": "stdout",
     "output_type": "stream",
     "text": [
      "<class 'pandas.core.series.Series'>\n"
     ]
    }
   ],
   "source": [
    "first_row = scientists.loc['William Gosset']\n",
    "print(type(first_row))"
   ]
  },
  {
   "cell_type": "code",
   "execution_count": 8,
   "id": "e8a99728",
   "metadata": {},
   "outputs": [
    {
     "name": "stdout",
     "output_type": "stream",
     "text": [
      "Occupation    Statistician\n",
      "Born            1876-06-13\n",
      "Died            1937-10-16\n",
      "Age                     61\n",
      "Name: William Gosset, dtype: object\n"
     ]
    }
   ],
   "source": [
    "print(first_row)"
   ]
  },
  {
   "cell_type": "code",
   "execution_count": 9,
   "id": "320d4db4",
   "metadata": {},
   "outputs": [
    {
     "name": "stdout",
     "output_type": "stream",
     "text": [
      "Index(['Occupation', 'Born', 'Died', 'Age'], dtype='object')\n"
     ]
    }
   ],
   "source": [
    "print(first_row.index)"
   ]
  },
  {
   "cell_type": "code",
   "execution_count": 10,
   "id": "bce8b237",
   "metadata": {},
   "outputs": [
    {
     "name": "stdout",
     "output_type": "stream",
     "text": [
      "['Statistician' '1876-06-13' '1937-10-16' 61]\n"
     ]
    }
   ],
   "source": [
    "print(first_row.values)"
   ]
  },
  {
   "cell_type": "code",
   "execution_count": 11,
   "id": "e67092d9",
   "metadata": {},
   "outputs": [
    {
     "name": "stdout",
     "output_type": "stream",
     "text": [
      "Index(['Occupation', 'Born', 'Died', 'Age'], dtype='object')\n"
     ]
    }
   ],
   "source": [
    "print(first_row.keys())"
   ]
  },
  {
   "cell_type": "code",
   "execution_count": 12,
   "id": "8dd9e52e",
   "metadata": {},
   "outputs": [
    {
     "name": "stdout",
     "output_type": "stream",
     "text": [
      "Occupation\n"
     ]
    }
   ],
   "source": [
    "print(first_row.index[0])"
   ]
  },
  {
   "cell_type": "code",
   "execution_count": 13,
   "id": "4d51e43c",
   "metadata": {},
   "outputs": [
    {
     "name": "stdout",
     "output_type": "stream",
     "text": [
      "Occupation\n"
     ]
    }
   ],
   "source": [
    "print(first_row.keys()[0])"
   ]
  },
  {
   "cell_type": "code",
   "execution_count": 14,
   "id": "810d527d",
   "metadata": {},
   "outputs": [
    {
     "name": "stdout",
     "output_type": "stream",
     "text": [
      "Rosaline Franklin    37\n",
      "William Gosset       61\n",
      "Name: Age, dtype: int64\n"
     ]
    }
   ],
   "source": [
    "ages = scientists['Age']\n",
    "print(ages)"
   ]
  },
  {
   "cell_type": "code",
   "execution_count": 15,
   "id": "a968d4c8",
   "metadata": {},
   "outputs": [
    {
     "name": "stdout",
     "output_type": "stream",
     "text": [
      "49.0\n"
     ]
    }
   ],
   "source": [
    "print(ages.mean())"
   ]
  },
  {
   "cell_type": "code",
   "execution_count": 16,
   "id": "a77f9f4c",
   "metadata": {},
   "outputs": [
    {
     "name": "stdout",
     "output_type": "stream",
     "text": [
      "37\n"
     ]
    }
   ],
   "source": [
    "print(ages.min())"
   ]
  },
  {
   "cell_type": "code",
   "execution_count": 17,
   "id": "48e1516c",
   "metadata": {},
   "outputs": [
    {
     "name": "stdout",
     "output_type": "stream",
     "text": [
      "61\n"
     ]
    }
   ],
   "source": [
    "print(ages.max())"
   ]
  },
  {
   "cell_type": "code",
   "execution_count": 18,
   "id": "2b338a9e",
   "metadata": {},
   "outputs": [
    {
     "name": "stdout",
     "output_type": "stream",
     "text": [
      "16.97056274847714\n"
     ]
    }
   ],
   "source": [
    "print(ages.std())"
   ]
  },
  {
   "cell_type": "code",
   "execution_count": 19,
   "id": "a07906a8",
   "metadata": {},
   "outputs": [],
   "source": [
    "scientists = pd.read_csv('data/scientists.csv')"
   ]
  },
  {
   "cell_type": "code",
   "execution_count": 20,
   "id": "db9d4de4",
   "metadata": {},
   "outputs": [
    {
     "name": "stdout",
     "output_type": "stream",
     "text": [
      "0    37\n",
      "1    61\n",
      "2    90\n",
      "3    66\n",
      "4    56\n",
      "5    45\n",
      "6    41\n",
      "7    77\n",
      "Name: Age, dtype: int64\n"
     ]
    }
   ],
   "source": [
    "ages = scientists['Age']\n",
    "print(ages)"
   ]
  },
  {
   "cell_type": "code",
   "execution_count": 21,
   "id": "d3f8ebef",
   "metadata": {},
   "outputs": [
    {
     "name": "stdout",
     "output_type": "stream",
     "text": [
      "count     8.000000\n",
      "mean     59.125000\n",
      "std      18.325918\n",
      "min      37.000000\n",
      "25%      44.000000\n",
      "50%      58.500000\n",
      "75%      68.750000\n",
      "max      90.000000\n",
      "Name: Age, dtype: float64\n"
     ]
    }
   ],
   "source": [
    "print(ages.describe())"
   ]
  },
  {
   "cell_type": "code",
   "execution_count": 22,
   "id": "07d2fc57",
   "metadata": {},
   "outputs": [
    {
     "name": "stdout",
     "output_type": "stream",
     "text": [
      "59.125\n"
     ]
    }
   ],
   "source": [
    "print(ages.mean())"
   ]
  },
  {
   "cell_type": "code",
   "execution_count": 23,
   "id": "25b5ec83",
   "metadata": {},
   "outputs": [
    {
     "name": "stdout",
     "output_type": "stream",
     "text": [
      "1    61\n",
      "2    90\n",
      "3    66\n",
      "7    77\n",
      "Name: Age, dtype: int64\n"
     ]
    }
   ],
   "source": [
    "print(ages[ages > ages.mean()])"
   ]
  },
  {
   "cell_type": "code",
   "execution_count": 24,
   "id": "dd790cb3",
   "metadata": {},
   "outputs": [
    {
     "name": "stdout",
     "output_type": "stream",
     "text": [
      "0    False\n",
      "1     True\n",
      "2     True\n",
      "3     True\n",
      "4    False\n",
      "5    False\n",
      "6    False\n",
      "7     True\n",
      "Name: Age, dtype: bool\n"
     ]
    }
   ],
   "source": [
    "print(ages > ages.mean())"
   ]
  },
  {
   "cell_type": "code",
   "execution_count": 25,
   "id": "ddedb664",
   "metadata": {},
   "outputs": [
    {
     "name": "stdout",
     "output_type": "stream",
     "text": [
      "<class 'pandas.core.series.Series'>\n"
     ]
    }
   ],
   "source": [
    "print(type(ages > ages.mean()))"
   ]
  },
  {
   "cell_type": "code",
   "execution_count": 26,
   "id": "9c0dba7c",
   "metadata": {},
   "outputs": [
    {
     "name": "stdout",
     "output_type": "stream",
     "text": [
      "0    37\n",
      "1    61\n",
      "4    56\n",
      "5    45\n",
      "7    77\n",
      "Name: Age, dtype: int64\n"
     ]
    }
   ],
   "source": [
    "manual_bool_values = [\n",
    "    True,\n",
    "    True,\n",
    "    False,\n",
    "    False,\n",
    "    True,\n",
    "    True,\n",
    "    False,\n",
    "    True,\n",
    "]\n",
    "print(ages[manual_bool_values])"
   ]
  },
  {
   "cell_type": "code",
   "execution_count": 27,
   "id": "6c0e7164",
   "metadata": {},
   "outputs": [
    {
     "name": "stdout",
     "output_type": "stream",
     "text": [
      "0     74\n",
      "1    122\n",
      "2    180\n",
      "3    132\n",
      "4    112\n",
      "5     90\n",
      "6     82\n",
      "7    154\n",
      "Name: Age, dtype: int64\n"
     ]
    }
   ],
   "source": [
    "print(ages + ages)"
   ]
  },
  {
   "cell_type": "code",
   "execution_count": 28,
   "id": "d6582726",
   "metadata": {},
   "outputs": [
    {
     "name": "stdout",
     "output_type": "stream",
     "text": [
      "0    1369\n",
      "1    3721\n",
      "2    8100\n",
      "3    4356\n",
      "4    3136\n",
      "5    2025\n",
      "6    1681\n",
      "7    5929\n",
      "Name: Age, dtype: int64\n"
     ]
    }
   ],
   "source": [
    "print(ages * ages)"
   ]
  },
  {
   "cell_type": "code",
   "execution_count": 29,
   "id": "83cb199a",
   "metadata": {},
   "outputs": [
    {
     "name": "stdout",
     "output_type": "stream",
     "text": [
      "0    137\n",
      "1    161\n",
      "2    190\n",
      "3    166\n",
      "4    156\n",
      "5    145\n",
      "6    141\n",
      "7    177\n",
      "Name: Age, dtype: int64\n"
     ]
    }
   ],
   "source": [
    "print(ages + 100)"
   ]
  },
  {
   "cell_type": "code",
   "execution_count": 30,
   "id": "a621991d",
   "metadata": {},
   "outputs": [
    {
     "name": "stdout",
     "output_type": "stream",
     "text": [
      "0     74\n",
      "1    122\n",
      "2    180\n",
      "3    132\n",
      "4    112\n",
      "5     90\n",
      "6     82\n",
      "7    154\n",
      "Name: Age, dtype: int64\n"
     ]
    }
   ],
   "source": [
    "print(ages * 2)"
   ]
  },
  {
   "cell_type": "code",
   "execution_count": 31,
   "id": "1d57430c",
   "metadata": {},
   "outputs": [
    {
     "name": "stdout",
     "output_type": "stream",
     "text": [
      "0     38.0\n",
      "1    161.0\n",
      "2      NaN\n",
      "3      NaN\n",
      "4      NaN\n",
      "5      NaN\n",
      "6      NaN\n",
      "7      NaN\n",
      "dtype: float64\n"
     ]
    }
   ],
   "source": [
    "print(ages + pd.Series([1, 100]))"
   ]
  },
  {
   "cell_type": "code",
   "execution_count": 32,
   "id": "52a0fce6",
   "metadata": {},
   "outputs": [
    {
     "ename": "ValueError",
     "evalue": "operands could not be broadcast together with shapes (8,) (2,) ",
     "output_type": "error",
     "traceback": [
      "\u001b[1;31m---------------------------------------------------------------------------\u001b[0m",
      "\u001b[1;31mValueError\u001b[0m                                Traceback (most recent call last)",
      "Cell \u001b[1;32mIn[32], line 3\u001b[0m\n\u001b[0;32m      1\u001b[0m \u001b[38;5;28;01mimport\u001b[39;00m \u001b[38;5;21;01mnumpy\u001b[39;00m \u001b[38;5;28;01mas\u001b[39;00m \u001b[38;5;21;01mnp\u001b[39;00m\n\u001b[1;32m----> 3\u001b[0m \u001b[38;5;28mprint\u001b[39m(ages \u001b[38;5;241m+\u001b[39m np\u001b[38;5;241m.\u001b[39marray([\u001b[38;5;241m1\u001b[39m, \u001b[38;5;241m100\u001b[39m]))\n",
      "File \u001b[1;32m~\\anaconda3\\Lib\\site-packages\\pandas\\core\\ops\\common.py:81\u001b[0m, in \u001b[0;36m_unpack_zerodim_and_defer.<locals>.new_method\u001b[1;34m(self, other)\u001b[0m\n\u001b[0;32m     77\u001b[0m             \u001b[38;5;28;01mreturn\u001b[39;00m \u001b[38;5;28mNotImplemented\u001b[39m\n\u001b[0;32m     79\u001b[0m other \u001b[38;5;241m=\u001b[39m item_from_zerodim(other)\n\u001b[1;32m---> 81\u001b[0m \u001b[38;5;28;01mreturn\u001b[39;00m method(\u001b[38;5;28mself\u001b[39m, other)\n",
      "File \u001b[1;32m~\\anaconda3\\Lib\\site-packages\\pandas\\core\\arraylike.py:186\u001b[0m, in \u001b[0;36mOpsMixin.__add__\u001b[1;34m(self, other)\u001b[0m\n\u001b[0;32m     98\u001b[0m \u001b[38;5;129m@unpack_zerodim_and_defer\u001b[39m(\u001b[38;5;124m\"\u001b[39m\u001b[38;5;124m__add__\u001b[39m\u001b[38;5;124m\"\u001b[39m)\n\u001b[0;32m     99\u001b[0m \u001b[38;5;28;01mdef\u001b[39;00m \u001b[38;5;21m__add__\u001b[39m(\u001b[38;5;28mself\u001b[39m, other):\n\u001b[0;32m    100\u001b[0m \u001b[38;5;250m    \u001b[39m\u001b[38;5;124;03m\"\"\"\u001b[39;00m\n\u001b[0;32m    101\u001b[0m \u001b[38;5;124;03m    Get Addition of DataFrame and other, column-wise.\u001b[39;00m\n\u001b[0;32m    102\u001b[0m \n\u001b[1;32m   (...)\u001b[0m\n\u001b[0;32m    184\u001b[0m \u001b[38;5;124;03m    moose     3.0     NaN\u001b[39;00m\n\u001b[0;32m    185\u001b[0m \u001b[38;5;124;03m    \"\"\"\u001b[39;00m\n\u001b[1;32m--> 186\u001b[0m     \u001b[38;5;28;01mreturn\u001b[39;00m \u001b[38;5;28mself\u001b[39m\u001b[38;5;241m.\u001b[39m_arith_method(other, operator\u001b[38;5;241m.\u001b[39madd)\n",
      "File \u001b[1;32m~\\anaconda3\\Lib\\site-packages\\pandas\\core\\series.py:6112\u001b[0m, in \u001b[0;36mSeries._arith_method\u001b[1;34m(self, other, op)\u001b[0m\n\u001b[0;32m   6110\u001b[0m \u001b[38;5;28;01mdef\u001b[39;00m \u001b[38;5;21m_arith_method\u001b[39m(\u001b[38;5;28mself\u001b[39m, other, op):\n\u001b[0;32m   6111\u001b[0m     \u001b[38;5;28mself\u001b[39m, other \u001b[38;5;241m=\u001b[39m ops\u001b[38;5;241m.\u001b[39malign_method_SERIES(\u001b[38;5;28mself\u001b[39m, other)\n\u001b[1;32m-> 6112\u001b[0m     \u001b[38;5;28;01mreturn\u001b[39;00m base\u001b[38;5;241m.\u001b[39mIndexOpsMixin\u001b[38;5;241m.\u001b[39m_arith_method(\u001b[38;5;28mself\u001b[39m, other, op)\n",
      "File \u001b[1;32m~\\anaconda3\\Lib\\site-packages\\pandas\\core\\base.py:1348\u001b[0m, in \u001b[0;36mIndexOpsMixin._arith_method\u001b[1;34m(self, other, op)\u001b[0m\n\u001b[0;32m   1345\u001b[0m rvalues \u001b[38;5;241m=\u001b[39m ensure_wrapped_if_datetimelike(rvalues)\n\u001b[0;32m   1347\u001b[0m \u001b[38;5;28;01mwith\u001b[39;00m np\u001b[38;5;241m.\u001b[39merrstate(\u001b[38;5;28mall\u001b[39m\u001b[38;5;241m=\u001b[39m\u001b[38;5;124m\"\u001b[39m\u001b[38;5;124mignore\u001b[39m\u001b[38;5;124m\"\u001b[39m):\n\u001b[1;32m-> 1348\u001b[0m     result \u001b[38;5;241m=\u001b[39m ops\u001b[38;5;241m.\u001b[39marithmetic_op(lvalues, rvalues, op)\n\u001b[0;32m   1350\u001b[0m \u001b[38;5;28;01mreturn\u001b[39;00m \u001b[38;5;28mself\u001b[39m\u001b[38;5;241m.\u001b[39m_construct_result(result, name\u001b[38;5;241m=\u001b[39mres_name)\n",
      "File \u001b[1;32m~\\anaconda3\\Lib\\site-packages\\pandas\\core\\ops\\array_ops.py:232\u001b[0m, in \u001b[0;36marithmetic_op\u001b[1;34m(left, right, op)\u001b[0m\n\u001b[0;32m    228\u001b[0m     _bool_arith_check(op, left, right)\n\u001b[0;32m    230\u001b[0m     \u001b[38;5;66;03m# error: Argument 1 to \"_na_arithmetic_op\" has incompatible type\u001b[39;00m\n\u001b[0;32m    231\u001b[0m     \u001b[38;5;66;03m# \"Union[ExtensionArray, ndarray[Any, Any]]\"; expected \"ndarray[Any, Any]\"\u001b[39;00m\n\u001b[1;32m--> 232\u001b[0m     res_values \u001b[38;5;241m=\u001b[39m _na_arithmetic_op(left, right, op)  \u001b[38;5;66;03m# type: ignore[arg-type]\u001b[39;00m\n\u001b[0;32m    234\u001b[0m \u001b[38;5;28;01mreturn\u001b[39;00m res_values\n",
      "File \u001b[1;32m~\\anaconda3\\Lib\\site-packages\\pandas\\core\\ops\\array_ops.py:171\u001b[0m, in \u001b[0;36m_na_arithmetic_op\u001b[1;34m(left, right, op, is_cmp)\u001b[0m\n\u001b[0;32m    168\u001b[0m     func \u001b[38;5;241m=\u001b[39m partial(expressions\u001b[38;5;241m.\u001b[39mevaluate, op)\n\u001b[0;32m    170\u001b[0m \u001b[38;5;28;01mtry\u001b[39;00m:\n\u001b[1;32m--> 171\u001b[0m     result \u001b[38;5;241m=\u001b[39m func(left, right)\n\u001b[0;32m    172\u001b[0m \u001b[38;5;28;01mexcept\u001b[39;00m \u001b[38;5;167;01mTypeError\u001b[39;00m:\n\u001b[0;32m    173\u001b[0m     \u001b[38;5;28;01mif\u001b[39;00m \u001b[38;5;129;01mnot\u001b[39;00m is_cmp \u001b[38;5;129;01mand\u001b[39;00m (is_object_dtype(left\u001b[38;5;241m.\u001b[39mdtype) \u001b[38;5;129;01mor\u001b[39;00m is_object_dtype(right)):\n\u001b[0;32m    174\u001b[0m         \u001b[38;5;66;03m# For object dtype, fallback to a masked operation (only operating\u001b[39;00m\n\u001b[0;32m    175\u001b[0m         \u001b[38;5;66;03m#  on the non-missing values)\u001b[39;00m\n\u001b[0;32m    176\u001b[0m         \u001b[38;5;66;03m# Don't do this for comparisons, as that will handle complex numbers\u001b[39;00m\n\u001b[0;32m    177\u001b[0m         \u001b[38;5;66;03m#  incorrectly, see GH#32047\u001b[39;00m\n",
      "File \u001b[1;32m~\\anaconda3\\Lib\\site-packages\\pandas\\core\\computation\\expressions.py:239\u001b[0m, in \u001b[0;36mevaluate\u001b[1;34m(op, a, b, use_numexpr)\u001b[0m\n\u001b[0;32m    236\u001b[0m \u001b[38;5;28;01mif\u001b[39;00m op_str \u001b[38;5;129;01mis\u001b[39;00m \u001b[38;5;129;01mnot\u001b[39;00m \u001b[38;5;28;01mNone\u001b[39;00m:\n\u001b[0;32m    237\u001b[0m     \u001b[38;5;28;01mif\u001b[39;00m use_numexpr:\n\u001b[0;32m    238\u001b[0m         \u001b[38;5;66;03m# error: \"None\" not callable\u001b[39;00m\n\u001b[1;32m--> 239\u001b[0m         \u001b[38;5;28;01mreturn\u001b[39;00m _evaluate(op, op_str, a, b)  \u001b[38;5;66;03m# type: ignore[misc]\u001b[39;00m\n\u001b[0;32m    240\u001b[0m \u001b[38;5;28;01mreturn\u001b[39;00m _evaluate_standard(op, op_str, a, b)\n",
      "File \u001b[1;32m~\\anaconda3\\Lib\\site-packages\\pandas\\core\\computation\\expressions.py:128\u001b[0m, in \u001b[0;36m_evaluate_numexpr\u001b[1;34m(op, op_str, a, b)\u001b[0m\n\u001b[0;32m    125\u001b[0m     _store_test_result(result \u001b[38;5;129;01mis\u001b[39;00m \u001b[38;5;129;01mnot\u001b[39;00m \u001b[38;5;28;01mNone\u001b[39;00m)\n\u001b[0;32m    127\u001b[0m \u001b[38;5;28;01mif\u001b[39;00m result \u001b[38;5;129;01mis\u001b[39;00m \u001b[38;5;28;01mNone\u001b[39;00m:\n\u001b[1;32m--> 128\u001b[0m     result \u001b[38;5;241m=\u001b[39m _evaluate_standard(op, op_str, a, b)\n\u001b[0;32m    130\u001b[0m \u001b[38;5;28;01mreturn\u001b[39;00m result\n",
      "File \u001b[1;32m~\\anaconda3\\Lib\\site-packages\\pandas\\core\\computation\\expressions.py:70\u001b[0m, in \u001b[0;36m_evaluate_standard\u001b[1;34m(op, op_str, a, b)\u001b[0m\n\u001b[0;32m     68\u001b[0m \u001b[38;5;28;01mif\u001b[39;00m _TEST_MODE:\n\u001b[0;32m     69\u001b[0m     _store_test_result(\u001b[38;5;28;01mFalse\u001b[39;00m)\n\u001b[1;32m---> 70\u001b[0m \u001b[38;5;28;01mreturn\u001b[39;00m op(a, b)\n",
      "\u001b[1;31mValueError\u001b[0m: operands could not be broadcast together with shapes (8,) (2,) "
     ]
    }
   ],
   "source": [
    "import numpy as np\n",
    "\n",
    "print(ages + np.array([1, 100]))"
   ]
  },
  {
   "cell_type": "code",
   "execution_count": null,
   "id": "6f17535d",
   "metadata": {},
   "outputs": [],
   "source": [
    "print(ages)"
   ]
  },
  {
   "cell_type": "code",
   "execution_count": null,
   "id": "da16787a",
   "metadata": {},
   "outputs": [],
   "source": [
    "rev_ages = ages.sort_index(ascending = False)\n",
    "print(rev_ages)"
   ]
  },
  {
   "cell_type": "code",
   "execution_count": 33,
   "id": "88e47c91",
   "metadata": {},
   "outputs": [
    {
     "name": "stdout",
     "output_type": "stream",
     "text": [
      "0     74\n",
      "1    122\n",
      "2    180\n",
      "3    132\n",
      "4    112\n",
      "5     90\n",
      "6     82\n",
      "7    154\n",
      "Name: Age, dtype: int64\n"
     ]
    }
   ],
   "source": [
    "print(ages * 2)"
   ]
  },
  {
   "cell_type": "code",
   "execution_count": 34,
   "id": "cb0d3f53",
   "metadata": {},
   "outputs": [
    {
     "ename": "NameError",
     "evalue": "name 'rev_ages' is not defined",
     "output_type": "error",
     "traceback": [
      "\u001b[1;31m---------------------------------------------------------------------------\u001b[0m",
      "\u001b[1;31mNameError\u001b[0m                                 Traceback (most recent call last)",
      "Cell \u001b[1;32mIn[34], line 1\u001b[0m\n\u001b[1;32m----> 1\u001b[0m \u001b[38;5;28mprint\u001b[39m(ages \u001b[38;5;241m+\u001b[39m rev_ages)\n",
      "\u001b[1;31mNameError\u001b[0m: name 'rev_ages' is not defined"
     ]
    }
   ],
   "source": [
    "print(ages + rev_ages)"
   ]
  },
  {
   "cell_type": "markdown",
   "id": "f07d2804",
   "metadata": {},
   "source": [
    "# 3 - 3"
   ]
  },
  {
   "cell_type": "code",
   "execution_count": 35,
   "id": "cabf388f",
   "metadata": {},
   "outputs": [
    {
     "data": {
      "text/plain": [
       "RangeIndex(start=0, stop=8, step=1)"
      ]
     },
     "execution_count": 35,
     "metadata": {},
     "output_type": "execute_result"
    }
   ],
   "source": [
    "scientists.index"
   ]
  },
  {
   "cell_type": "code",
   "execution_count": 36,
   "id": "e297e097",
   "metadata": {},
   "outputs": [
    {
     "data": {
      "text/plain": [
       "Index(['Name', 'Born', 'Died', 'Age', 'Occupation'], dtype='object')"
      ]
     },
     "execution_count": 36,
     "metadata": {},
     "output_type": "execute_result"
    }
   ],
   "source": [
    "scientists.columns"
   ]
  },
  {
   "cell_type": "code",
   "execution_count": 37,
   "id": "071c6405",
   "metadata": {},
   "outputs": [
    {
     "data": {
      "text/plain": [
       "array([['Rosaline Franklin', '1920-07-25', '1958-04-16', 37, 'Chemist'],\n",
       "       ['William Gosset', '1876-06-13', '1937-10-16', 61, 'Statistician'],\n",
       "       ['Florence Nightingale', '1820-05-12', '1910-08-13', 90, 'Nurse'],\n",
       "       ['Marie Curie', '1867-11-07', '1934-07-04', 66, 'Chemist'],\n",
       "       ['Rachel Carson', '1907-05-27', '1964-04-14', 56, 'Biologist'],\n",
       "       ['John Snow', '1813-03-15', '1858-06-16', 45, 'Physician'],\n",
       "       ['Alan Turing', '1912-06-23', '1954-06-07', 41,\n",
       "        'Computer Scientist'],\n",
       "       ['Johann Gauss', '1777-04-30', '1855-02-23', 77, 'Mathematician']],\n",
       "      dtype=object)"
      ]
     },
     "execution_count": 37,
     "metadata": {},
     "output_type": "execute_result"
    }
   ],
   "source": [
    "scientists.values"
   ]
  },
  {
   "cell_type": "code",
   "execution_count": 38,
   "id": "dc3149d7",
   "metadata": {},
   "outputs": [
    {
     "name": "stdout",
     "output_type": "stream",
     "text": [
      "                   Name        Born        Died  Age     Occupation\n",
      "1        William Gosset  1876-06-13  1937-10-16   61   Statistician\n",
      "2  Florence Nightingale  1820-05-12  1910-08-13   90          Nurse\n",
      "3           Marie Curie  1867-11-07  1934-07-04   66        Chemist\n",
      "7          Johann Gauss  1777-04-30  1855-02-23   77  Mathematician\n"
     ]
    }
   ],
   "source": [
    "print(scientists.loc[scientists['Age'] > scientists['Age'].mean()])"
   ]
  },
  {
   "cell_type": "code",
   "execution_count": 39,
   "id": "4b1b42f2",
   "metadata": {},
   "outputs": [
    {
     "name": "stdout",
     "output_type": "stream",
     "text": [
      "                   Name        Born        Died  Age    Occupation\n",
      "0     Rosaline Franklin  1920-07-25  1958-04-16   37       Chemist\n",
      "1        William Gosset  1876-06-13  1937-10-16   61  Statistician\n",
      "2  Florence Nightingale  1820-05-12  1910-08-13   90         Nurse\n",
      "3           Marie Curie  1867-11-07  1934-07-04   66       Chemist\n"
     ]
    }
   ],
   "source": [
    "first_half = scientists[:4]\n",
    "second_half = scientists[4:]\n",
    "print(first_half)"
   ]
  },
  {
   "cell_type": "code",
   "execution_count": 40,
   "id": "0391c452",
   "metadata": {},
   "outputs": [
    {
     "name": "stdout",
     "output_type": "stream",
     "text": [
      "            Name        Born        Died  Age          Occupation\n",
      "4  Rachel Carson  1907-05-27  1964-04-14   56           Biologist\n",
      "5      John Snow  1813-03-15  1858-06-16   45           Physician\n",
      "6    Alan Turing  1912-06-23  1954-06-07   41  Computer Scientist\n",
      "7   Johann Gauss  1777-04-30  1855-02-23   77       Mathematician\n"
     ]
    }
   ],
   "source": [
    "print(second_half)"
   ]
  },
  {
   "cell_type": "code",
   "execution_count": 41,
   "id": "f711f024",
   "metadata": {},
   "outputs": [
    {
     "name": "stdout",
     "output_type": "stream",
     "text": [
      "                                       Name                  Born  \\\n",
      "0        Rosaline FranklinRosaline Franklin  1920-07-251920-07-25   \n",
      "1              William GossetWilliam Gosset  1876-06-131876-06-13   \n",
      "2  Florence NightingaleFlorence Nightingale  1820-05-121820-05-12   \n",
      "3                    Marie CurieMarie Curie  1867-11-071867-11-07   \n",
      "4                Rachel CarsonRachel Carson  1907-05-271907-05-27   \n",
      "5                        John SnowJohn Snow  1813-03-151813-03-15   \n",
      "6                    Alan TuringAlan Turing  1912-06-231912-06-23   \n",
      "7                  Johann GaussJohann Gauss  1777-04-301777-04-30   \n",
      "\n",
      "                   Died  Age                            Occupation  \n",
      "0  1958-04-161958-04-16   74                        ChemistChemist  \n",
      "1  1937-10-161937-10-16  122              StatisticianStatistician  \n",
      "2  1910-08-131910-08-13  180                            NurseNurse  \n",
      "3  1934-07-041934-07-04  132                        ChemistChemist  \n",
      "4  1964-04-141964-04-14  112                    BiologistBiologist  \n",
      "5  1858-06-161858-06-16   90                    PhysicianPhysician  \n",
      "6  1954-06-071954-06-07   82  Computer ScientistComputer Scientist  \n",
      "7  1855-02-231855-02-23  154            MathematicianMathematician  \n"
     ]
    }
   ],
   "source": [
    "print(scientists * 2)"
   ]
  },
  {
   "cell_type": "code",
   "execution_count": 42,
   "id": "ac8574f1",
   "metadata": {},
   "outputs": [
    {
     "name": "stdout",
     "output_type": "stream",
     "text": [
      "    0   1   2\n",
      "0   2   4   6\n",
      "1   8  10  12\n",
      "2  14  16  18\n"
     ]
    }
   ],
   "source": [
    "df1 = df2 = pd.DataFrame(data = [[1, 2, 3], [4, 5, 6], [7, 8, 9]])\n",
    "df_added = df1.add(df2)\n",
    "print(df_added)"
   ]
  },
  {
   "cell_type": "markdown",
   "id": "ebfaf452",
   "metadata": {},
   "source": [
    "# 3 - 4"
   ]
  },
  {
   "cell_type": "code",
   "execution_count": 43,
   "id": "b1b04dd3",
   "metadata": {},
   "outputs": [
    {
     "name": "stdout",
     "output_type": "stream",
     "text": [
      "Name          object\n",
      "Born          object\n",
      "Died          object\n",
      "Age            int64\n",
      "Occupation    object\n",
      "dtype: object\n"
     ]
    }
   ],
   "source": [
    "print(scientists.dtypes)"
   ]
  },
  {
   "cell_type": "code",
   "execution_count": 44,
   "id": "044b0b42",
   "metadata": {},
   "outputs": [
    {
     "name": "stdout",
     "output_type": "stream",
     "text": [
      "0   1920-07-25\n",
      "1   1876-06-13\n",
      "2   1820-05-12\n",
      "3   1867-11-07\n",
      "4   1907-05-27\n",
      "5   1813-03-15\n",
      "6   1912-06-23\n",
      "7   1777-04-30\n",
      "Name: Born, dtype: datetime64[ns]\n"
     ]
    }
   ],
   "source": [
    "born_datetime = pd.to_datetime(scientists['Born'], format = '%Y-%m-%d')\n",
    "print(born_datetime)"
   ]
  },
  {
   "cell_type": "code",
   "execution_count": 45,
   "id": "1800534b",
   "metadata": {},
   "outputs": [
    {
     "name": "stdout",
     "output_type": "stream",
     "text": [
      "0   1958-04-16\n",
      "1   1937-10-16\n",
      "2   1910-08-13\n",
      "3   1934-07-04\n",
      "4   1964-04-14\n",
      "5   1858-06-16\n",
      "6   1954-06-07\n",
      "7   1855-02-23\n",
      "Name: Died, dtype: datetime64[ns]\n"
     ]
    }
   ],
   "source": [
    "died_datetime = pd.to_datetime(scientists['Died'], format = '%Y-%m-%d')\n",
    "print(died_datetime)"
   ]
  },
  {
   "cell_type": "code",
   "execution_count": 46,
   "id": "6ea936ef",
   "metadata": {},
   "outputs": [],
   "source": [
    "scientists['born_dt'], scientists['died_dt'] = (born_datetime, died_datetime)"
   ]
  },
  {
   "cell_type": "code",
   "execution_count": 47,
   "id": "45960138",
   "metadata": {},
   "outputs": [
    {
     "name": "stdout",
     "output_type": "stream",
     "text": [
      "                   Name        Born        Died  Age    Occupation    born_dt  \\\n",
      "0     Rosaline Franklin  1920-07-25  1958-04-16   37       Chemist 1920-07-25   \n",
      "1        William Gosset  1876-06-13  1937-10-16   61  Statistician 1876-06-13   \n",
      "2  Florence Nightingale  1820-05-12  1910-08-13   90         Nurse 1820-05-12   \n",
      "3           Marie Curie  1867-11-07  1934-07-04   66       Chemist 1867-11-07   \n",
      "4         Rachel Carson  1907-05-27  1964-04-14   56     Biologist 1907-05-27   \n",
      "\n",
      "     died_dt  \n",
      "0 1958-04-16  \n",
      "1 1937-10-16  \n",
      "2 1910-08-13  \n",
      "3 1934-07-04  \n",
      "4 1964-04-14  \n"
     ]
    }
   ],
   "source": [
    "print(scientists.head())"
   ]
  },
  {
   "cell_type": "code",
   "execution_count": 48,
   "id": "59c3fa83",
   "metadata": {},
   "outputs": [
    {
     "name": "stdout",
     "output_type": "stream",
     "text": [
      "(8, 7)\n"
     ]
    }
   ],
   "source": [
    "print(scientists.shape)"
   ]
  },
  {
   "cell_type": "code",
   "execution_count": 49,
   "id": "c29a2ece",
   "metadata": {},
   "outputs": [
    {
     "name": "stdout",
     "output_type": "stream",
     "text": [
      "Name                  object\n",
      "Born                  object\n",
      "Died                  object\n",
      "Age                    int64\n",
      "Occupation            object\n",
      "born_dt       datetime64[ns]\n",
      "died_dt       datetime64[ns]\n",
      "dtype: object\n"
     ]
    }
   ],
   "source": [
    "print(scientists.dtypes)"
   ]
  },
  {
   "cell_type": "code",
   "execution_count": 50,
   "id": "fb8f3e95",
   "metadata": {},
   "outputs": [
    {
     "name": "stdout",
     "output_type": "stream",
     "text": [
      "0    37\n",
      "1    61\n",
      "2    90\n",
      "3    66\n",
      "4    56\n",
      "5    45\n",
      "6    41\n",
      "7    77\n",
      "Name: Age, dtype: int64\n"
     ]
    }
   ],
   "source": [
    "print(scientists['Age'])"
   ]
  },
  {
   "cell_type": "code",
   "execution_count": 51,
   "id": "95bba0b6",
   "metadata": {},
   "outputs": [
    {
     "name": "stdout",
     "output_type": "stream",
     "text": [
      "1    61\n",
      "5    45\n",
      "0    37\n",
      "7    77\n",
      "2    90\n",
      "4    56\n",
      "3    66\n",
      "6    41\n",
      "Name: Age, dtype: int64\n"
     ]
    }
   ],
   "source": [
    "print(scientists[\"Age\"].sample(frac = 1, random_state = 42))"
   ]
  },
  {
   "cell_type": "code",
   "execution_count": 52,
   "id": "bbae3fa5",
   "metadata": {},
   "outputs": [],
   "source": [
    "# 무작위가 되는 지 해봄\n",
    "# print(scientists[\"Age\"].sample(frac = 1))"
   ]
  },
  {
   "cell_type": "code",
   "execution_count": 53,
   "id": "a2fb7476",
   "metadata": {},
   "outputs": [
    {
     "name": "stdout",
     "output_type": "stream",
     "text": [
      "0    37\n",
      "1    61\n",
      "2    90\n",
      "3    66\n",
      "4    56\n",
      "5    45\n",
      "6    41\n",
      "7    77\n",
      "Name: Age, dtype: int64\n"
     ]
    }
   ],
   "source": [
    "scientists[\"Age\"] = scientists[\"Age\"].sample(frac = 1, random_state = 42)\n",
    "print(scientists['Age'])"
   ]
  },
  {
   "cell_type": "code",
   "execution_count": 54,
   "id": "d555b5f1",
   "metadata": {},
   "outputs": [
    {
     "name": "stdout",
     "output_type": "stream",
     "text": [
      "0    61\n",
      "1    45\n",
      "2    37\n",
      "3    77\n",
      "4    90\n",
      "5    56\n",
      "6    66\n",
      "7    41\n",
      "Name: Age, dtype: int64\n"
     ]
    }
   ],
   "source": [
    "scientists[\"Age\"] = scientists[\"Age\"].sample(frac = 1, random_state = 42).values\n",
    "print(scientists['Age'])"
   ]
  },
  {
   "cell_type": "code",
   "execution_count": 55,
   "id": "15f716ff",
   "metadata": {},
   "outputs": [
    {
     "name": "stdout",
     "output_type": "stream",
     "text": [
      "                   Name        Born        Died  Age          Occupation  \\\n",
      "0     Rosaline Franklin  1920-07-25  1958-04-16   61             Chemist   \n",
      "1        William Gosset  1876-06-13  1937-10-16   45        Statistician   \n",
      "2  Florence Nightingale  1820-05-12  1910-08-13   37               Nurse   \n",
      "3           Marie Curie  1867-11-07  1934-07-04   77             Chemist   \n",
      "4         Rachel Carson  1907-05-27  1964-04-14   90           Biologist   \n",
      "5             John Snow  1813-03-15  1858-06-16   56           Physician   \n",
      "6           Alan Turing  1912-06-23  1954-06-07   66  Computer Scientist   \n",
      "7          Johann Gauss  1777-04-30  1855-02-23   41       Mathematician   \n",
      "\n",
      "     born_dt    died_dt   age_days  \n",
      "0 1920-07-25 1958-04-16 13779 days  \n",
      "1 1876-06-13 1937-10-16 22404 days  \n",
      "2 1820-05-12 1910-08-13 32964 days  \n",
      "3 1867-11-07 1934-07-04 24345 days  \n",
      "4 1907-05-27 1964-04-14 20777 days  \n",
      "5 1813-03-15 1858-06-16 16529 days  \n",
      "6 1912-06-23 1954-06-07 15324 days  \n",
      "7 1777-04-30 1855-02-23 28422 days  \n"
     ]
    }
   ],
   "source": [
    "scientists['age_days'] = (scientists['died_dt'] - scientists['born_dt'])\n",
    "print(scientists)"
   ]
  },
  {
   "cell_type": "code",
   "execution_count": 56,
   "id": "2584d3a2",
   "metadata": {},
   "outputs": [
    {
     "name": "stdout",
     "output_type": "stream",
     "text": [
      "                   Name        Born        Died  Age          Occupation  \\\n",
      "0     Rosaline Franklin  1920-07-25  1958-04-16   61             Chemist   \n",
      "1        William Gosset  1876-06-13  1937-10-16   45        Statistician   \n",
      "2  Florence Nightingale  1820-05-12  1910-08-13   37               Nurse   \n",
      "3           Marie Curie  1867-11-07  1934-07-04   77             Chemist   \n",
      "4         Rachel Carson  1907-05-27  1964-04-14   90           Biologist   \n",
      "5             John Snow  1813-03-15  1858-06-16   56           Physician   \n",
      "6           Alan Turing  1912-06-23  1954-06-07   66  Computer Scientist   \n",
      "7          Johann Gauss  1777-04-30  1855-02-23   41       Mathematician   \n",
      "\n",
      "     born_dt    died_dt   age_days  age_years  \n",
      "0 1920-07-25 1958-04-16 13779 days       37.0  \n",
      "1 1876-06-13 1937-10-16 22404 days       61.0  \n",
      "2 1820-05-12 1910-08-13 32964 days       90.0  \n",
      "3 1867-11-07 1934-07-04 24345 days       66.0  \n",
      "4 1907-05-27 1964-04-14 20777 days       56.0  \n",
      "5 1813-03-15 1858-06-16 16529 days       45.0  \n",
      "6 1912-06-23 1954-06-07 15324 days       41.0  \n",
      "7 1777-04-30 1855-02-23 28422 days       77.0  \n"
     ]
    }
   ],
   "source": [
    "scientists['age_years'] = (scientists['age_days'].dt.days / 365).apply(np.floor)\n",
    "print(scientists)"
   ]
  },
  {
   "cell_type": "code",
   "execution_count": 57,
   "id": "0289db5c",
   "metadata": {},
   "outputs": [
    {
     "name": "stdout",
     "output_type": "stream",
     "text": [
      "                   Name        Born        Died  Age          Occupation  \\\n",
      "0     Rosaline Franklin  1920-07-25  1958-04-16   61             Chemist   \n",
      "1        William Gosset  1876-06-13  1937-10-16   45        Statistician   \n",
      "2  Florence Nightingale  1820-05-12  1910-08-13   37               Nurse   \n",
      "3           Marie Curie  1867-11-07  1934-07-04   77             Chemist   \n",
      "4         Rachel Carson  1907-05-27  1964-04-14   90           Biologist   \n",
      "5             John Snow  1813-03-15  1858-06-16   56           Physician   \n",
      "6           Alan Turing  1912-06-23  1954-06-07   66  Computer Scientist   \n",
      "7          Johann Gauss  1777-04-30  1855-02-23   41       Mathematician   \n",
      "\n",
      "     born_dt    died_dt   age_days  age_years age_days_assign  age_year_assign  \n",
      "0 1920-07-25 1958-04-16 13779 days       37.0      13779 days             37.0  \n",
      "1 1876-06-13 1937-10-16 22404 days       61.0      22404 days             61.0  \n",
      "2 1820-05-12 1910-08-13 32964 days       90.0      32964 days             90.0  \n",
      "3 1867-11-07 1934-07-04 24345 days       66.0      24345 days             66.0  \n",
      "4 1907-05-27 1964-04-14 20777 days       56.0      20777 days             56.0  \n",
      "5 1813-03-15 1858-06-16 16529 days       45.0      16529 days             45.0  \n",
      "6 1912-06-23 1954-06-07 15324 days       41.0      15324 days             41.0  \n",
      "7 1777-04-30 1855-02-23 28422 days       77.0      28422 days             77.0  \n"
     ]
    }
   ],
   "source": [
    "scientists = scientists.assign(\n",
    "    age_days_assign = scientists['died_dt'] - scientists['born_dt'],\n",
    "    age_year_assign = (scientists['age_days'].dt.days / 365)\n",
    "                        .apply(np.floor))\n",
    "print(scientists)"
   ]
  },
  {
   "cell_type": "code",
   "execution_count": 58,
   "id": "c75ecdcd",
   "metadata": {},
   "outputs": [
    {
     "name": "stdout",
     "output_type": "stream",
     "text": [
      "                   Name        Born        Died  Age          Occupation  \\\n",
      "0     Rosaline Franklin  1920-07-25  1958-04-16   61             Chemist   \n",
      "1        William Gosset  1876-06-13  1937-10-16   45        Statistician   \n",
      "2  Florence Nightingale  1820-05-12  1910-08-13   37               Nurse   \n",
      "3           Marie Curie  1867-11-07  1934-07-04   77             Chemist   \n",
      "4         Rachel Carson  1907-05-27  1964-04-14   90           Biologist   \n",
      "5             John Snow  1813-03-15  1858-06-16   56           Physician   \n",
      "6           Alan Turing  1912-06-23  1954-06-07   66  Computer Scientist   \n",
      "7          Johann Gauss  1777-04-30  1855-02-23   41       Mathematician   \n",
      "\n",
      "     born_dt    died_dt   age_days  age_years age_days_assign  age_year_assign  \n",
      "0 1920-07-25 1958-04-16 13779 days       37.0      13779 days             37.0  \n",
      "1 1876-06-13 1937-10-16 22404 days       61.0      22404 days             61.0  \n",
      "2 1820-05-12 1910-08-13 32964 days       90.0      32964 days             90.0  \n",
      "3 1867-11-07 1934-07-04 24345 days       66.0      24345 days             66.0  \n",
      "4 1907-05-27 1964-04-14 20777 days       56.0      20777 days             56.0  \n",
      "5 1813-03-15 1858-06-16 16529 days       45.0      16529 days             45.0  \n",
      "6 1912-06-23 1954-06-07 15324 days       41.0      15324 days             41.0  \n",
      "7 1777-04-30 1855-02-23 28422 days       77.0      28422 days             77.0  \n"
     ]
    }
   ],
   "source": [
    "scientists = scientists.assign(\n",
    "    age_days_assign = scientists['died_dt'] - scientists['born_dt'],\n",
    "    age_year_assign = lambda df_:\n",
    "    (df_['age_days_assign'].dt.days / 365).apply(np.floor))\n",
    "print(scientists)"
   ]
  },
  {
   "cell_type": "code",
   "execution_count": 59,
   "id": "0f7ff52d",
   "metadata": {},
   "outputs": [
    {
     "name": "stdout",
     "output_type": "stream",
     "text": [
      "Index(['Name', 'Born', 'Died', 'Age', 'Occupation', 'born_dt', 'died_dt',\n",
      "       'age_days', 'age_years', 'age_days_assign', 'age_year_assign'],\n",
      "      dtype='object')\n"
     ]
    }
   ],
   "source": [
    "print(scientists.columns)"
   ]
  },
  {
   "cell_type": "code",
   "execution_count": 60,
   "id": "46aa0ecb",
   "metadata": {},
   "outputs": [],
   "source": [
    "scientists_droppend = scientists.drop(['Age'], axis = 'columns')"
   ]
  },
  {
   "cell_type": "code",
   "execution_count": 61,
   "id": "6c3de010",
   "metadata": {},
   "outputs": [
    {
     "name": "stdout",
     "output_type": "stream",
     "text": [
      "Index(['Name', 'Born', 'Died', 'Occupation', 'born_dt', 'died_dt', 'age_days',\n",
      "       'age_years', 'age_days_assign', 'age_year_assign'],\n",
      "      dtype='object')\n"
     ]
    }
   ],
   "source": [
    "print(scientists_droppend.columns)"
   ]
  },
  {
   "cell_type": "markdown",
   "id": "bdeaa984",
   "metadata": {},
   "source": [
    "# 3 - 5"
   ]
  },
  {
   "cell_type": "code",
   "execution_count": 62,
   "id": "287a5e74",
   "metadata": {},
   "outputs": [
    {
     "name": "stdout",
     "output_type": "stream",
     "text": [
      "0       Rosaline Franklin\n",
      "1          William Gosset\n",
      "2    Florence Nightingale\n",
      "3             Marie Curie\n",
      "4           Rachel Carson\n",
      "5               John Snow\n",
      "6             Alan Turing\n",
      "7            Johann Gauss\n",
      "Name: Name, dtype: object\n"
     ]
    }
   ],
   "source": [
    "names = scientists['Name']\n",
    "print(names)"
   ]
  },
  {
   "cell_type": "code",
   "execution_count": 63,
   "id": "21ff22c6",
   "metadata": {},
   "outputs": [],
   "source": [
    "names.to_pickle('output/scientists_names_series.pickle')"
   ]
  },
  {
   "cell_type": "code",
   "execution_count": 64,
   "id": "91932914",
   "metadata": {},
   "outputs": [
    {
     "name": "stdout",
     "output_type": "stream",
     "text": [
      "0       Rosaline Franklin\n",
      "1          William Gosset\n",
      "2    Florence Nightingale\n",
      "3             Marie Curie\n",
      "4           Rachel Carson\n",
      "5               John Snow\n",
      "6             Alan Turing\n",
      "7            Johann Gauss\n",
      "Name: Name, dtype: object\n"
     ]
    }
   ],
   "source": [
    "series_pickle = pd.read_pickle('output/scientists_names_series.pickle')\n",
    "print(series_pickle)"
   ]
  },
  {
   "cell_type": "code",
   "execution_count": 65,
   "id": "01e85b4e",
   "metadata": {},
   "outputs": [
    {
     "name": "stdout",
     "output_type": "stream",
     "text": [
      "                   Name        Born        Died  Age          Occupation  \\\n",
      "0     Rosaline Franklin  1920-07-25  1958-04-16   61             Chemist   \n",
      "1        William Gosset  1876-06-13  1937-10-16   45        Statistician   \n",
      "2  Florence Nightingale  1820-05-12  1910-08-13   37               Nurse   \n",
      "3           Marie Curie  1867-11-07  1934-07-04   77             Chemist   \n",
      "4         Rachel Carson  1907-05-27  1964-04-14   90           Biologist   \n",
      "5             John Snow  1813-03-15  1858-06-16   56           Physician   \n",
      "6           Alan Turing  1912-06-23  1954-06-07   66  Computer Scientist   \n",
      "7          Johann Gauss  1777-04-30  1855-02-23   41       Mathematician   \n",
      "\n",
      "     born_dt    died_dt   age_days  age_years age_days_assign  age_year_assign  \n",
      "0 1920-07-25 1958-04-16 13779 days       37.0      13779 days             37.0  \n",
      "1 1876-06-13 1937-10-16 22404 days       61.0      22404 days             61.0  \n",
      "2 1820-05-12 1910-08-13 32964 days       90.0      32964 days             90.0  \n",
      "3 1867-11-07 1934-07-04 24345 days       66.0      24345 days             66.0  \n",
      "4 1907-05-27 1964-04-14 20777 days       56.0      20777 days             56.0  \n",
      "5 1813-03-15 1858-06-16 16529 days       45.0      16529 days             45.0  \n",
      "6 1912-06-23 1954-06-07 15324 days       41.0      15324 days             41.0  \n",
      "7 1777-04-30 1855-02-23 28422 days       77.0      28422 days             77.0  \n"
     ]
    }
   ],
   "source": [
    "dateframe_pickle = pd.read_pickle('output/scientists_df.pickle')\n",
    "print(dateframe_pickle)"
   ]
  },
  {
   "cell_type": "code",
   "execution_count": 87,
   "id": "5ffd8d3b",
   "metadata": {},
   "outputs": [],
   "source": [
    "scientists.to_csv('output/scientists_df_no_index.csv', index = False)"
   ]
  },
  {
   "cell_type": "code",
   "execution_count": 80,
   "id": "a156f46a",
   "metadata": {},
   "outputs": [],
   "source": [
    "# 인덱스가 없어진다고 해서 없앤 파일을 다시 불러왔지만 인덱스가 없어지지 않음 왜?\n",
    "# df = pd.read_csv('output/scientists_df_no_index.csv')\n",
    "# print(df)\n",
    "\n",
    "## df = pd.read_csv('output/scientists_df_no_index.csv') 없애기 위해 drop도 사용했지만 먹히지 않았음.\n",
    "## 현재 파일에서 인덱스를 없애고 싶다면 아래 코드를 사용하면 없애는 것 대신 숨기기 가능함. \n",
    "## df = pd.read_csv('output/sientists_df_no_index.csv')\n",
    "## df2 = df.style.hide(axis = 'index')\n",
    " \n",
    "### 혹은 축 대신에 특정 컬럼을 이름으로 지정할 수 있다. \n",
    "### df2 = df.set_index('name')\n",
    "### df2"
   ]
  },
  {
   "cell_type": "code",
   "execution_count": 94,
   "id": "14dc6499",
   "metadata": {
    "scrolled": true
   },
   "outputs": [
    {
     "data": {
      "text/html": [
       "<style type=\"text/css\">\n",
       "</style>\n",
       "<table id=\"T_ae34e\">\n",
       "  <thead>\n",
       "    <tr>\n",
       "      <th id=\"T_ae34e_level0_col0\" class=\"col_heading level0 col0\" >Name</th>\n",
       "      <th id=\"T_ae34e_level0_col1\" class=\"col_heading level0 col1\" >Born</th>\n",
       "      <th id=\"T_ae34e_level0_col2\" class=\"col_heading level0 col2\" >Died</th>\n",
       "      <th id=\"T_ae34e_level0_col3\" class=\"col_heading level0 col3\" >Age</th>\n",
       "      <th id=\"T_ae34e_level0_col4\" class=\"col_heading level0 col4\" >Occupation</th>\n",
       "      <th id=\"T_ae34e_level0_col5\" class=\"col_heading level0 col5\" >born_dt</th>\n",
       "      <th id=\"T_ae34e_level0_col6\" class=\"col_heading level0 col6\" >died_dt</th>\n",
       "      <th id=\"T_ae34e_level0_col7\" class=\"col_heading level0 col7\" >age_days</th>\n",
       "      <th id=\"T_ae34e_level0_col8\" class=\"col_heading level0 col8\" >age_years</th>\n",
       "      <th id=\"T_ae34e_level0_col9\" class=\"col_heading level0 col9\" >age_days_assign</th>\n",
       "      <th id=\"T_ae34e_level0_col10\" class=\"col_heading level0 col10\" >age_year_assign</th>\n",
       "    </tr>\n",
       "  </thead>\n",
       "  <tbody>\n",
       "    <tr>\n",
       "      <td id=\"T_ae34e_row0_col0\" class=\"data row0 col0\" >Rosaline Franklin</td>\n",
       "      <td id=\"T_ae34e_row0_col1\" class=\"data row0 col1\" >1920-07-25</td>\n",
       "      <td id=\"T_ae34e_row0_col2\" class=\"data row0 col2\" >1958-04-16</td>\n",
       "      <td id=\"T_ae34e_row0_col3\" class=\"data row0 col3\" >61</td>\n",
       "      <td id=\"T_ae34e_row0_col4\" class=\"data row0 col4\" >Chemist</td>\n",
       "      <td id=\"T_ae34e_row0_col5\" class=\"data row0 col5\" >1920-07-25</td>\n",
       "      <td id=\"T_ae34e_row0_col6\" class=\"data row0 col6\" >1958-04-16</td>\n",
       "      <td id=\"T_ae34e_row0_col7\" class=\"data row0 col7\" >13779 days</td>\n",
       "      <td id=\"T_ae34e_row0_col8\" class=\"data row0 col8\" >37.000000</td>\n",
       "      <td id=\"T_ae34e_row0_col9\" class=\"data row0 col9\" >13779 days</td>\n",
       "      <td id=\"T_ae34e_row0_col10\" class=\"data row0 col10\" >37.000000</td>\n",
       "    </tr>\n",
       "    <tr>\n",
       "      <td id=\"T_ae34e_row1_col0\" class=\"data row1 col0\" >William Gosset</td>\n",
       "      <td id=\"T_ae34e_row1_col1\" class=\"data row1 col1\" >1876-06-13</td>\n",
       "      <td id=\"T_ae34e_row1_col2\" class=\"data row1 col2\" >1937-10-16</td>\n",
       "      <td id=\"T_ae34e_row1_col3\" class=\"data row1 col3\" >45</td>\n",
       "      <td id=\"T_ae34e_row1_col4\" class=\"data row1 col4\" >Statistician</td>\n",
       "      <td id=\"T_ae34e_row1_col5\" class=\"data row1 col5\" >1876-06-13</td>\n",
       "      <td id=\"T_ae34e_row1_col6\" class=\"data row1 col6\" >1937-10-16</td>\n",
       "      <td id=\"T_ae34e_row1_col7\" class=\"data row1 col7\" >22404 days</td>\n",
       "      <td id=\"T_ae34e_row1_col8\" class=\"data row1 col8\" >61.000000</td>\n",
       "      <td id=\"T_ae34e_row1_col9\" class=\"data row1 col9\" >22404 days</td>\n",
       "      <td id=\"T_ae34e_row1_col10\" class=\"data row1 col10\" >61.000000</td>\n",
       "    </tr>\n",
       "    <tr>\n",
       "      <td id=\"T_ae34e_row2_col0\" class=\"data row2 col0\" >Florence Nightingale</td>\n",
       "      <td id=\"T_ae34e_row2_col1\" class=\"data row2 col1\" >1820-05-12</td>\n",
       "      <td id=\"T_ae34e_row2_col2\" class=\"data row2 col2\" >1910-08-13</td>\n",
       "      <td id=\"T_ae34e_row2_col3\" class=\"data row2 col3\" >37</td>\n",
       "      <td id=\"T_ae34e_row2_col4\" class=\"data row2 col4\" >Nurse</td>\n",
       "      <td id=\"T_ae34e_row2_col5\" class=\"data row2 col5\" >1820-05-12</td>\n",
       "      <td id=\"T_ae34e_row2_col6\" class=\"data row2 col6\" >1910-08-13</td>\n",
       "      <td id=\"T_ae34e_row2_col7\" class=\"data row2 col7\" >32964 days</td>\n",
       "      <td id=\"T_ae34e_row2_col8\" class=\"data row2 col8\" >90.000000</td>\n",
       "      <td id=\"T_ae34e_row2_col9\" class=\"data row2 col9\" >32964 days</td>\n",
       "      <td id=\"T_ae34e_row2_col10\" class=\"data row2 col10\" >90.000000</td>\n",
       "    </tr>\n",
       "    <tr>\n",
       "      <td id=\"T_ae34e_row3_col0\" class=\"data row3 col0\" >Marie Curie</td>\n",
       "      <td id=\"T_ae34e_row3_col1\" class=\"data row3 col1\" >1867-11-07</td>\n",
       "      <td id=\"T_ae34e_row3_col2\" class=\"data row3 col2\" >1934-07-04</td>\n",
       "      <td id=\"T_ae34e_row3_col3\" class=\"data row3 col3\" >77</td>\n",
       "      <td id=\"T_ae34e_row3_col4\" class=\"data row3 col4\" >Chemist</td>\n",
       "      <td id=\"T_ae34e_row3_col5\" class=\"data row3 col5\" >1867-11-07</td>\n",
       "      <td id=\"T_ae34e_row3_col6\" class=\"data row3 col6\" >1934-07-04</td>\n",
       "      <td id=\"T_ae34e_row3_col7\" class=\"data row3 col7\" >24345 days</td>\n",
       "      <td id=\"T_ae34e_row3_col8\" class=\"data row3 col8\" >66.000000</td>\n",
       "      <td id=\"T_ae34e_row3_col9\" class=\"data row3 col9\" >24345 days</td>\n",
       "      <td id=\"T_ae34e_row3_col10\" class=\"data row3 col10\" >66.000000</td>\n",
       "    </tr>\n",
       "    <tr>\n",
       "      <td id=\"T_ae34e_row4_col0\" class=\"data row4 col0\" >Rachel Carson</td>\n",
       "      <td id=\"T_ae34e_row4_col1\" class=\"data row4 col1\" >1907-05-27</td>\n",
       "      <td id=\"T_ae34e_row4_col2\" class=\"data row4 col2\" >1964-04-14</td>\n",
       "      <td id=\"T_ae34e_row4_col3\" class=\"data row4 col3\" >90</td>\n",
       "      <td id=\"T_ae34e_row4_col4\" class=\"data row4 col4\" >Biologist</td>\n",
       "      <td id=\"T_ae34e_row4_col5\" class=\"data row4 col5\" >1907-05-27</td>\n",
       "      <td id=\"T_ae34e_row4_col6\" class=\"data row4 col6\" >1964-04-14</td>\n",
       "      <td id=\"T_ae34e_row4_col7\" class=\"data row4 col7\" >20777 days</td>\n",
       "      <td id=\"T_ae34e_row4_col8\" class=\"data row4 col8\" >56.000000</td>\n",
       "      <td id=\"T_ae34e_row4_col9\" class=\"data row4 col9\" >20777 days</td>\n",
       "      <td id=\"T_ae34e_row4_col10\" class=\"data row4 col10\" >56.000000</td>\n",
       "    </tr>\n",
       "    <tr>\n",
       "      <td id=\"T_ae34e_row5_col0\" class=\"data row5 col0\" >John Snow</td>\n",
       "      <td id=\"T_ae34e_row5_col1\" class=\"data row5 col1\" >1813-03-15</td>\n",
       "      <td id=\"T_ae34e_row5_col2\" class=\"data row5 col2\" >1858-06-16</td>\n",
       "      <td id=\"T_ae34e_row5_col3\" class=\"data row5 col3\" >56</td>\n",
       "      <td id=\"T_ae34e_row5_col4\" class=\"data row5 col4\" >Physician</td>\n",
       "      <td id=\"T_ae34e_row5_col5\" class=\"data row5 col5\" >1813-03-15</td>\n",
       "      <td id=\"T_ae34e_row5_col6\" class=\"data row5 col6\" >1858-06-16</td>\n",
       "      <td id=\"T_ae34e_row5_col7\" class=\"data row5 col7\" >16529 days</td>\n",
       "      <td id=\"T_ae34e_row5_col8\" class=\"data row5 col8\" >45.000000</td>\n",
       "      <td id=\"T_ae34e_row5_col9\" class=\"data row5 col9\" >16529 days</td>\n",
       "      <td id=\"T_ae34e_row5_col10\" class=\"data row5 col10\" >45.000000</td>\n",
       "    </tr>\n",
       "    <tr>\n",
       "      <td id=\"T_ae34e_row6_col0\" class=\"data row6 col0\" >Alan Turing</td>\n",
       "      <td id=\"T_ae34e_row6_col1\" class=\"data row6 col1\" >1912-06-23</td>\n",
       "      <td id=\"T_ae34e_row6_col2\" class=\"data row6 col2\" >1954-06-07</td>\n",
       "      <td id=\"T_ae34e_row6_col3\" class=\"data row6 col3\" >66</td>\n",
       "      <td id=\"T_ae34e_row6_col4\" class=\"data row6 col4\" >Computer Scientist</td>\n",
       "      <td id=\"T_ae34e_row6_col5\" class=\"data row6 col5\" >1912-06-23</td>\n",
       "      <td id=\"T_ae34e_row6_col6\" class=\"data row6 col6\" >1954-06-07</td>\n",
       "      <td id=\"T_ae34e_row6_col7\" class=\"data row6 col7\" >15324 days</td>\n",
       "      <td id=\"T_ae34e_row6_col8\" class=\"data row6 col8\" >41.000000</td>\n",
       "      <td id=\"T_ae34e_row6_col9\" class=\"data row6 col9\" >15324 days</td>\n",
       "      <td id=\"T_ae34e_row6_col10\" class=\"data row6 col10\" >41.000000</td>\n",
       "    </tr>\n",
       "    <tr>\n",
       "      <td id=\"T_ae34e_row7_col0\" class=\"data row7 col0\" >Johann Gauss</td>\n",
       "      <td id=\"T_ae34e_row7_col1\" class=\"data row7 col1\" >1777-04-30</td>\n",
       "      <td id=\"T_ae34e_row7_col2\" class=\"data row7 col2\" >1855-02-23</td>\n",
       "      <td id=\"T_ae34e_row7_col3\" class=\"data row7 col3\" >41</td>\n",
       "      <td id=\"T_ae34e_row7_col4\" class=\"data row7 col4\" >Mathematician</td>\n",
       "      <td id=\"T_ae34e_row7_col5\" class=\"data row7 col5\" >1777-04-30</td>\n",
       "      <td id=\"T_ae34e_row7_col6\" class=\"data row7 col6\" >1855-02-23</td>\n",
       "      <td id=\"T_ae34e_row7_col7\" class=\"data row7 col7\" >28422 days</td>\n",
       "      <td id=\"T_ae34e_row7_col8\" class=\"data row7 col8\" >77.000000</td>\n",
       "      <td id=\"T_ae34e_row7_col9\" class=\"data row7 col9\" >28422 days</td>\n",
       "      <td id=\"T_ae34e_row7_col10\" class=\"data row7 col10\" >77.000000</td>\n",
       "    </tr>\n",
       "  </tbody>\n",
       "</table>\n"
      ],
      "text/plain": [
       "<pandas.io.formats.style.Styler at 0x1aa4349af50>"
      ]
     },
     "execution_count": 94,
     "metadata": {},
     "output_type": "execute_result"
    }
   ],
   "source": [
    "df = pd.read_csv('output/scientists_df_no_index.csv')\n",
    "df2 = df.style.hide(axis = 'index')\n",
    "df2"
   ]
  },
  {
   "cell_type": "code",
   "execution_count": null,
   "id": "6dc7019c",
   "metadata": {},
   "outputs": [],
   "source": [
    "# print(df2)와 df2의 출력물이 다른데 왜 다를까?\n",
    "## print(df2) print 개념이 'df2가 어떤 파일인지 설명해줘'라는 의미, '지금 내가 하는 것이 뭔지 보여달라'고 생각하면 됨.\n",
    "## df2는 데이터 프레임 자체를 불러오는 방법"
   ]
  },
  {
   "cell_type": "code",
   "execution_count": 71,
   "id": "959142d5",
   "metadata": {},
   "outputs": [
    {
     "name": "stdout",
     "output_type": "stream",
     "text": [
      "Requirement already satisfied: openpyxl in c:\\users\\hpky0\\anaconda3\\lib\\site-packages (3.0.10)\n",
      "Requirement already satisfied: et_xmlfile in c:\\users\\hpky0\\anaconda3\\lib\\site-packages (from openpyxl) (1.1.0)\n"
     ]
    }
   ],
   "source": [
    "!pip install openpyxl"
   ]
  },
  {
   "cell_type": "code",
   "execution_count": 72,
   "id": "85580da9",
   "metadata": {},
   "outputs": [
    {
     "name": "stdout",
     "output_type": "stream",
     "text": [
      "0       Rosaline Franklin\n",
      "1          William Gosset\n",
      "2    Florence Nightingale\n",
      "3             Marie Curie\n",
      "4           Rachel Carson\n",
      "5               John Snow\n",
      "6             Alan Turing\n",
      "7            Johann Gauss\n",
      "Name: Name, dtype: object\n"
     ]
    }
   ],
   "source": [
    "names = scientists['Name']\n",
    "print(names)"
   ]
  },
  {
   "cell_type": "code",
   "execution_count": 73,
   "id": "f8d03151",
   "metadata": {},
   "outputs": [],
   "source": [
    "names_df = names.to_frame()"
   ]
  },
  {
   "cell_type": "code",
   "execution_count": 74,
   "id": "9e481c6b",
   "metadata": {},
   "outputs": [],
   "source": [
    "names_df.to_excel('output/scientists_names_series_df.xls',\n",
    "                 engine = 'openpyxl')"
   ]
  },
  {
   "cell_type": "code",
   "execution_count": 75,
   "id": "1121e037",
   "metadata": {},
   "outputs": [],
   "source": [
    "scientists.to_excel('output/scientists_df.xlsx',\n",
    "                   sheet_name = 'scientists',\n",
    "                   index = False)"
   ]
  },
  {
   "cell_type": "code",
   "execution_count": 76,
   "id": "501410ef",
   "metadata": {},
   "outputs": [
    {
     "name": "stdout",
     "output_type": "stream",
     "text": [
      "Requirement already satisfied: pyarrow in c:\\users\\hpky0\\anaconda3\\lib\\site-packages (11.0.0)\n",
      "Requirement already satisfied: numpy>=1.16.6 in c:\\users\\hpky0\\anaconda3\\lib\\site-packages (from pyarrow) (1.24.3)\n"
     ]
    }
   ],
   "source": [
    "!pip install pyarrow"
   ]
  },
  {
   "cell_type": "code",
   "execution_count": 77,
   "id": "e65bcd33",
   "metadata": {},
   "outputs": [],
   "source": [
    "scientists.to_feather('output/scientists.feather')"
   ]
  },
  {
   "cell_type": "code",
   "execution_count": 75,
   "id": "3bd20617",
   "metadata": {},
   "outputs": [
    {
     "name": "stdout",
     "output_type": "stream",
     "text": [
      "                   Name        Born        Died  Age          Occupation  \\\n",
      "0     Rosaline Franklin  1920-07-25  1958-04-16   61             Chemist   \n",
      "1        William Gosset  1876-06-13  1937-10-16   45        Statistician   \n",
      "2  Florence Nightingale  1820-05-12  1910-08-13   37               Nurse   \n",
      "3           Marie Curie  1867-11-07  1934-07-04   77             Chemist   \n",
      "4         Rachel Carson  1907-05-27  1964-04-14   90           Biologist   \n",
      "5             John Snow  1813-03-15  1858-06-16   56           Physician   \n",
      "6           Alan Turing  1912-06-23  1954-06-07   66  Computer Scientist   \n",
      "7          Johann Gauss  1777-04-30  1855-02-23   41       Mathematician   \n",
      "\n",
      "     born_dt    died_dt   age_days  age_years age_days_assign  age_year_assign  \n",
      "0 1920-07-25 1958-04-16 13779 days       37.0      13779 days             37.0  \n",
      "1 1876-06-13 1937-10-16 22404 days       61.0      22404 days             61.0  \n",
      "2 1820-05-12 1910-08-13 32964 days       90.0      32964 days             90.0  \n",
      "3 1867-11-07 1934-07-04 24345 days       66.0      24345 days             66.0  \n",
      "4 1907-05-27 1964-04-14 20777 days       56.0      20777 days             56.0  \n",
      "5 1813-03-15 1858-06-16 16529 days       45.0      16529 days             45.0  \n",
      "6 1912-06-23 1954-06-07 15324 days       41.0      15324 days             41.0  \n",
      "7 1777-04-30 1855-02-23 28422 days       77.0      28422 days             77.0  \n"
     ]
    }
   ],
   "source": [
    "sci_feather = pd.read_feather('output/scientists.feather')\n",
    "print(sci_feather)"
   ]
  },
  {
   "cell_type": "markdown",
   "id": "dccded41",
   "metadata": {},
   "source": [
    "### 중간에 In[*]이 떠서 알아보니 무한 루프에 걸렸다고 함.\n",
    "    - http://mobilelab.khu.ac.kr/wordpress/webpythonbbs/?order_by=fn_hit&order_type=desc&vid=1744 참고 한 곳\n",
    "    - Kernel에서 Restart&Clear Output을 누르면 새로 돌릴 수 있음.\n",
    "    - 무한 루프는 pip install pyarrow 작성 시 conda install -c conda-forge pyarrow도 함께 작성해서인 것이라고 추측함. (책 p106 참고)"
   ]
  },
  {
   "cell_type": "code",
   "execution_count": 76,
   "id": "3217d792",
   "metadata": {},
   "outputs": [],
   "source": [
    "sci_sub_dict = scientists.head(2)"
   ]
  },
  {
   "cell_type": "code",
   "execution_count": 77,
   "id": "0746a664",
   "metadata": {},
   "outputs": [],
   "source": [
    "sci_dict = sci_sub_dict.to_dict()"
   ]
  },
  {
   "cell_type": "code",
   "execution_count": 78,
   "id": "3eb1424f",
   "metadata": {},
   "outputs": [
    {
     "name": "stdout",
     "output_type": "stream",
     "text": [
      "{'Age': {0: 61, 1: 45},\n",
      " 'Born': {0: '1920-07-25', 1: '1876-06-13'},\n",
      " 'Died': {0: '1958-04-16', 1: '1937-10-16'},\n",
      " 'Name': {0: 'Rosaline Franklin', 1: 'William Gosset'},\n",
      " 'Occupation': {0: 'Chemist', 1: 'Statistician'},\n",
      " 'age_days': {0: Timedelta('13779 days 00:00:00'),\n",
      "              1: Timedelta('22404 days 00:00:00')},\n",
      " 'age_days_assign': {0: Timedelta('13779 days 00:00:00'),\n",
      "                     1: Timedelta('22404 days 00:00:00')},\n",
      " 'age_year_assign': {0: 37.0, 1: 61.0},\n",
      " 'age_years': {0: 37.0, 1: 61.0},\n",
      " 'born_dt': {0: Timestamp('1920-07-25 00:00:00'),\n",
      "             1: Timestamp('1876-06-13 00:00:00')},\n",
      " 'died_dt': {0: Timestamp('1958-04-16 00:00:00'),\n",
      "             1: Timestamp('1937-10-16 00:00:00')}}\n"
     ]
    }
   ],
   "source": [
    "import pprint\n",
    "pprint.pprint(sci_dict)"
   ]
  },
  {
   "cell_type": "code",
   "execution_count": 79,
   "id": "0a594aa2",
   "metadata": {},
   "outputs": [
    {
     "name": "stdout",
     "output_type": "stream",
     "text": [
      "                Name        Born        Died  Age    Occupation    born_dt  \\\n",
      "0  Rosaline Franklin  1920-07-25  1958-04-16   61       Chemist 1920-07-25   \n",
      "1     William Gosset  1876-06-13  1937-10-16   45  Statistician 1876-06-13   \n",
      "\n",
      "     died_dt   age_days  age_years age_days_assign  age_year_assign  \n",
      "0 1958-04-16 13779 days       37.0      13779 days             37.0  \n",
      "1 1937-10-16 22404 days       61.0      22404 days             61.0  \n"
     ]
    }
   ],
   "source": [
    "sci_dict_df = pd.DataFrame.from_dict(sci_dict)\n",
    "print(sci_dict_df)"
   ]
  },
  {
   "cell_type": "code",
   "execution_count": 80,
   "id": "f7cdc892",
   "metadata": {},
   "outputs": [
    {
     "name": "stdout",
     "output_type": "stream",
     "text": [
      "('[\\n'\n",
      " '  {\\n'\n",
      " '    \"Name\":\"Rosaline Franklin\",\\n'\n",
      " '    \"Born\":\"1920-07-25\",\\n'\n",
      " '    \"Died\":\"1958-04-16\",\\n'\n",
      " '    \"Age\":61,\\n'\n",
      " '    \"Occupation\":\"Chemist\",\\n'\n",
      " '    \"born_dt\":\"1920-07-25T00:00:00.000\",\\n'\n",
      " '    \"died_dt\":\"1958-04-16T00:00:00.000\",\\n'\n",
      " '    \"age_days\":\"P13779DT0H0M0S\",\\n'\n",
      " '    \"age_years\":37.0,\\n'\n",
      " '    \"age_days_assign\":\"P13779DT0H0M0S\",\\n'\n",
      " '    \"age_year_assign\":37.0\\n'\n",
      " '  },\\n'\n",
      " '  {\\n'\n",
      " '    \"Name\":\"William Gosset\",\\n'\n",
      " '    \"Born\":\"1876-06-13\",\\n'\n",
      " '    \"Died\":\"1937-10-16\",\\n'\n",
      " '    \"Age\":45,\\n'\n",
      " '    \"Occupation\":\"Statistician\",\\n'\n",
      " '    \"born_dt\":\"1876-06-13T00:00:00.000\",\\n'\n",
      " '    \"died_dt\":\"1937-10-16T00:00:00.000\",\\n'\n",
      " '    \"age_days\":\"P22404DT0H0M0S\",\\n'\n",
      " '    \"age_years\":61.0,\\n'\n",
      " '    \"age_days_assign\":\"P22404DT0H0M0S\",\\n'\n",
      " '    \"age_year_assign\":61.0\\n'\n",
      " '  }\\n'\n",
      " ']')\n"
     ]
    }
   ],
   "source": [
    "sci_json = sci_sub_dict.to_json(orient = 'records', indent = 2, date_format = 'iso')\n",
    "pprint.pprint(sci_json)"
   ]
  },
  {
   "cell_type": "code",
   "execution_count": 78,
   "id": "dc64f80a",
   "metadata": {},
   "outputs": [
    {
     "name": "stdout",
     "output_type": "stream",
     "text": [
      "                Name        Born        Died  Age    Occupation  \\\n",
      "0  Rosaline Franklin  1920-07-25  1958-04-16   61       Chemist   \n",
      "1     William Gosset  1876-06-13  1937-10-16   45  Statistician   \n",
      "\n",
      "                   born_dt                  died_dt        age_days  \\\n",
      "0  1920-07-25T00:00:00.000  1958-04-16T00:00:00.000  P13779DT0H0M0S   \n",
      "1  1876-06-13T00:00:00.000  1937-10-16T00:00:00.000  P22404DT0H0M0S   \n",
      "\n",
      "   age_years age_days_assign  age_year_assign  \n",
      "0         37  P13779DT0H0M0S               37  \n",
      "1         61  P22404DT0H0M0S               61  \n"
     ]
    }
   ],
   "source": [
    "sci_json_df = pd.read_json(\n",
    "    ('[\\n'\n",
    " '  {\\n'\n",
    " '    \"Name\":\"Rosaline Franklin\",\\n'\n",
    " '    \"Born\":\"1920-07-25\",\\n'\n",
    " '    \"Died\":\"1958-04-16\",\\n'\n",
    " '    \"Age\":61,\\n'\n",
    " '    \"Occupation\":\"Chemist\",\\n'\n",
    " '    \"born_dt\":\"1920-07-25T00:00:00.000\",\\n'\n",
    " '    \"died_dt\":\"1958-04-16T00:00:00.000\",\\n'\n",
    " '    \"age_days\":\"P13779DT0H0M0S\",\\n'\n",
    " '    \"age_years\":37.0,\\n'\n",
    " '    \"age_days_assign\":\"P13779DT0H0M0S\",\\n'\n",
    " '    \"age_year_assign\":37.0\\n'\n",
    " '  },\\n'\n",
    " '  {\\n'\n",
    " '    \"Name\":\"William Gosset\",\\n'\n",
    " '    \"Born\":\"1876-06-13\",\\n'\n",
    " '    \"Died\":\"1937-10-16\",\\n'\n",
    " '    \"Age\":45,\\n'\n",
    " '    \"Occupation\":\"Statistician\",\\n'\n",
    " '    \"born_dt\":\"1876-06-13T00:00:00.000\",\\n'\n",
    " '    \"died_dt\":\"1937-10-16T00:00:00.000\",\\n'\n",
    " '    \"age_days\":\"P22404DT0H0M0S\",\\n'\n",
    " '    \"age_years\":61.0,\\n'\n",
    " '    \"age_days_assign\":\"P22404DT0H0M0S\",\\n'\n",
    " '    \"age_year_assign\":61.0\\n'\n",
    " '  }\\n'\n",
    " ']'),\n",
    "    orient = 'records'\n",
    ")\n",
    "print(sci_json_df)\n",
    "# print를 안하면 sci_json_df 파일이 표로 나타남 "
   ]
  },
  {
   "cell_type": "code",
   "execution_count": 82,
   "id": "2caedd29",
   "metadata": {},
   "outputs": [
    {
     "name": "stdout",
     "output_type": "stream",
     "text": [
      "Name               object\n",
      "Born               object\n",
      "Died               object\n",
      "Age                 int64\n",
      "Occupation         object\n",
      "born_dt            object\n",
      "died_dt            object\n",
      "age_days           object\n",
      "age_years           int64\n",
      "age_days_assign    object\n",
      "age_year_assign     int64\n",
      "dtype: object\n"
     ]
    }
   ],
   "source": [
    "print(sci_json_df.dtypes)"
   ]
  },
  {
   "cell_type": "code",
   "execution_count": 83,
   "id": "c37112cd",
   "metadata": {},
   "outputs": [
    {
     "name": "stdout",
     "output_type": "stream",
     "text": [
      "                Name        Born        Died  Age    Occupation  \\\n",
      "0  Rosaline Franklin  1920-07-25  1958-04-16   61       Chemist   \n",
      "1     William Gosset  1876-06-13  1937-10-16   45  Statistician   \n",
      "\n",
      "                   born_dt                  died_dt        age_days  \\\n",
      "0  1920-07-25T00:00:00.000  1958-04-16T00:00:00.000  P13779DT0H0M0S   \n",
      "1  1876-06-13T00:00:00.000  1937-10-16T00:00:00.000  P22404DT0H0M0S   \n",
      "\n",
      "   age_years age_days_assign  age_year_assign died_dt_json  \n",
      "0         37  P13779DT0H0M0S               37   1958-04-16  \n",
      "1         61  P22404DT0H0M0S               61   1937-10-16  \n"
     ]
    }
   ],
   "source": [
    "sci_json_df['died_dt_json'] = pd.to_datetime(sci_json_df['died_dt'])\n",
    "print(sci_json_df)"
   ]
  },
  {
   "cell_type": "code",
   "execution_count": 84,
   "id": "e5af9dbd",
   "metadata": {},
   "outputs": [
    {
     "name": "stdout",
     "output_type": "stream",
     "text": [
      "Name                       object\n",
      "Born                       object\n",
      "Died                       object\n",
      "Age                         int64\n",
      "Occupation                 object\n",
      "born_dt                    object\n",
      "died_dt                    object\n",
      "age_days                   object\n",
      "age_years                   int64\n",
      "age_days_assign            object\n",
      "age_year_assign             int64\n",
      "died_dt_json       datetime64[ns]\n",
      "dtype: object\n"
     ]
    }
   ],
   "source": [
    "print(sci_json_df.dtypes)"
   ]
  }
 ],
 "metadata": {
  "kernelspec": {
   "display_name": "Python 3 (ipykernel)",
   "language": "python",
   "name": "python3"
  },
  "language_info": {
   "codemirror_mode": {
    "name": "ipython",
    "version": 3
   },
   "file_extension": ".py",
   "mimetype": "text/x-python",
   "name": "python",
   "nbconvert_exporter": "python",
   "pygments_lexer": "ipython3",
   "version": "3.11.5"
  }
 },
 "nbformat": 4,
 "nbformat_minor": 5
}
