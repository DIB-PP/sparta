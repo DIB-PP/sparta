{
 "cells": [
  {
   "cell_type": "markdown",
   "id": "106963ac",
   "metadata": {},
   "source": [
    "# 7 - 2"
   ]
  },
  {
   "cell_type": "code",
   "execution_count": 1,
   "id": "d47b4408",
   "metadata": {},
   "outputs": [
    {
     "name": "stdout",
     "output_type": "stream",
     "text": [
      "    A   B   C   D\n",
      "0  a0  b0  c0  d0\n",
      "1  a1  b1  c1  d1\n",
      "2  a2  b2  c2  d2\n",
      "3  a3  b3  c3  d3\n"
     ]
    }
   ],
   "source": [
    "import pandas as pd\n",
    "\n",
    "df1 = pd.read_csv('data/concat_1.csv')\n",
    "df2 = pd.read_csv('data/concat_2.csv')\n",
    "df3 = pd.read_csv('data/concat_3.csv')\n",
    "print(df1)"
   ]
  },
  {
   "cell_type": "code",
   "execution_count": 2,
   "id": "95fe9d55",
   "metadata": {},
   "outputs": [
    {
     "name": "stdout",
     "output_type": "stream",
     "text": [
      "    A   B   C   D\n",
      "0  a4  b4  c4  d4\n",
      "1  a5  b5  c5  d5\n",
      "2  a6  b6  c6  d6\n",
      "3  a7  b7  c7  d7\n"
     ]
    }
   ],
   "source": [
    "print(df2)"
   ]
  },
  {
   "cell_type": "code",
   "execution_count": 3,
   "id": "fc162d9f",
   "metadata": {},
   "outputs": [
    {
     "name": "stdout",
     "output_type": "stream",
     "text": [
      "     A    B    C    D\n",
      "0   a8   b8   c8   d8\n",
      "1   a9   b9   c9   d9\n",
      "2  a10  b10  c10  d10\n",
      "3  a11  b11  c11  d11\n"
     ]
    }
   ],
   "source": [
    "print(df3)"
   ]
  },
  {
   "cell_type": "code",
   "execution_count": 4,
   "id": "22cfce27",
   "metadata": {},
   "outputs": [
    {
     "name": "stdout",
     "output_type": "stream",
     "text": [
      "RangeIndex(start=0, stop=4, step=1)\n"
     ]
    }
   ],
   "source": [
    "print(df1.index)"
   ]
  },
  {
   "cell_type": "code",
   "execution_count": 5,
   "id": "3784aacb",
   "metadata": {},
   "outputs": [
    {
     "name": "stdout",
     "output_type": "stream",
     "text": [
      "Index(['A', 'B', 'C', 'D'], dtype='object')\n"
     ]
    }
   ],
   "source": [
    "print(df1.columns)"
   ]
  },
  {
   "cell_type": "code",
   "execution_count": 6,
   "id": "458419bf",
   "metadata": {},
   "outputs": [
    {
     "name": "stdout",
     "output_type": "stream",
     "text": [
      "[['a0' 'b0' 'c0' 'd0']\n",
      " ['a1' 'b1' 'c1' 'd1']\n",
      " ['a2' 'b2' 'c2' 'd2']\n",
      " ['a3' 'b3' 'c3' 'd3']]\n"
     ]
    }
   ],
   "source": [
    "print(df1.values)"
   ]
  },
  {
   "cell_type": "code",
   "execution_count": 7,
   "id": "531e36e7",
   "metadata": {},
   "outputs": [
    {
     "name": "stdout",
     "output_type": "stream",
     "text": [
      "     A    B    C    D\n",
      "0   a0   b0   c0   d0\n",
      "1   a1   b1   c1   d1\n",
      "2   a2   b2   c2   d2\n",
      "3   a3   b3   c3   d3\n",
      "0   a4   b4   c4   d4\n",
      "1   a5   b5   c5   d5\n",
      "2   a6   b6   c6   d6\n",
      "3   a7   b7   c7   d7\n",
      "0   a8   b8   c8   d8\n",
      "1   a9   b9   c9   d9\n",
      "2  a10  b10  c10  d10\n",
      "3  a11  b11  c11  d11\n"
     ]
    }
   ],
   "source": [
    "row_concat = pd.concat([df1, df2, df3])\n",
    "print(row_concat)"
   ]
  },
  {
   "cell_type": "code",
   "execution_count": 8,
   "id": "0b649b40",
   "metadata": {},
   "outputs": [
    {
     "name": "stdout",
     "output_type": "stream",
     "text": [
      "A    a3\n",
      "B    b3\n",
      "C    c3\n",
      "D    d3\n",
      "Name: 3, dtype: object\n"
     ]
    }
   ],
   "source": [
    "print(row_concat.iloc[3, :])"
   ]
  },
  {
   "cell_type": "code",
   "execution_count": 9,
   "id": "1b01be8d",
   "metadata": {},
   "outputs": [
    {
     "name": "stdout",
     "output_type": "stream",
     "text": [
      "0    n1\n",
      "1    n2\n",
      "2    n3\n",
      "3    n4\n",
      "dtype: object\n"
     ]
    }
   ],
   "source": [
    "new_row_series = pd.Series(['n1', 'n2', 'n3', 'n4'])\n",
    "print(new_row_series)"
   ]
  },
  {
   "cell_type": "code",
   "execution_count": 10,
   "id": "16d038a9",
   "metadata": {},
   "outputs": [
    {
     "name": "stdout",
     "output_type": "stream",
     "text": [
      "     A    B    C    D    0\n",
      "0   a0   b0   c0   d0  NaN\n",
      "1   a1   b1   c1   d1  NaN\n",
      "2   a2   b2   c2   d2  NaN\n",
      "3   a3   b3   c3   d3  NaN\n",
      "0  NaN  NaN  NaN  NaN   n1\n",
      "1  NaN  NaN  NaN  NaN   n2\n",
      "2  NaN  NaN  NaN  NaN   n3\n",
      "3  NaN  NaN  NaN  NaN   n4\n"
     ]
    }
   ],
   "source": [
    "print(pd.concat([df1, new_row_series]))"
   ]
  },
  {
   "cell_type": "code",
   "execution_count": 11,
   "id": "d043dffa",
   "metadata": {},
   "outputs": [
    {
     "name": "stdout",
     "output_type": "stream",
     "text": [
      "    A   B   C   D\n",
      "0  n1  n2  n3  n4\n"
     ]
    }
   ],
   "source": [
    "new_row_df = pd.DataFrame(\n",
    "    data = [['n1', 'n2', 'n3', 'n4']],\n",
    "    columns = ['A', 'B', 'C', 'D'],\n",
    ")\n",
    "print(new_row_df)"
   ]
  },
  {
   "cell_type": "code",
   "execution_count": 12,
   "id": "5c83165c",
   "metadata": {},
   "outputs": [
    {
     "name": "stdout",
     "output_type": "stream",
     "text": [
      "    A   B   C   D\n",
      "0  a0  b0  c0  d0\n",
      "1  a1  b1  c1  d1\n",
      "2  a2  b2  c2  d2\n",
      "3  a3  b3  c3  d3\n",
      "0  n1  n2  n3  n4\n"
     ]
    }
   ],
   "source": [
    "print(pd.concat([df1, new_row_df]))"
   ]
  },
  {
   "cell_type": "code",
   "execution_count": 13,
   "id": "37aeb7dd",
   "metadata": {},
   "outputs": [
    {
     "name": "stdout",
     "output_type": "stream",
     "text": [
      "      A    B    C    D\n",
      "0    a0   b0   c0   d0\n",
      "1    a1   b1   c1   d1\n",
      "2    a2   b2   c2   d2\n",
      "3    a3   b3   c3   d3\n",
      "4    a4   b4   c4   d4\n",
      "5    a5   b5   c5   d5\n",
      "6    a6   b6   c6   d6\n",
      "7    a7   b7   c7   d7\n",
      "8    a8   b8   c8   d8\n",
      "9    a9   b9   c9   d9\n",
      "10  a10  b10  c10  d10\n",
      "11  a11  b11  c11  d11\n"
     ]
    }
   ],
   "source": [
    "row_concat_i = pd.concat([df1, df2, df3], ignore_index = True)\n",
    "print(row_concat_i)"
   ]
  },
  {
   "cell_type": "code",
   "execution_count": 14,
   "id": "4a45136d",
   "metadata": {},
   "outputs": [
    {
     "name": "stdout",
     "output_type": "stream",
     "text": [
      "    A   B   C   D   A   B   C   D    A    B    C    D\n",
      "0  a0  b0  c0  d0  a4  b4  c4  d4   a8   b8   c8   d8\n",
      "1  a1  b1  c1  d1  a5  b5  c5  d5   a9   b9   c9   d9\n",
      "2  a2  b2  c2  d2  a6  b6  c6  d6  a10  b10  c10  d10\n",
      "3  a3  b3  c3  d3  a7  b7  c7  d7  a11  b11  c11  d11\n"
     ]
    }
   ],
   "source": [
    "col_concat = pd.concat([df1, df2, df3], axis = 'columns')\n",
    "print(col_concat)"
   ]
  },
  {
   "cell_type": "code",
   "execution_count": 15,
   "id": "1d0d96ca",
   "metadata": {},
   "outputs": [
    {
     "name": "stdout",
     "output_type": "stream",
     "text": [
      "    A   A    A\n",
      "0  a0  a4   a8\n",
      "1  a1  a5   a9\n",
      "2  a2  a6  a10\n",
      "3  a3  a7  a11\n"
     ]
    }
   ],
   "source": [
    "print(col_concat['A'])"
   ]
  },
  {
   "cell_type": "code",
   "execution_count": 16,
   "id": "0e0ec7a6",
   "metadata": {},
   "outputs": [
    {
     "name": "stdout",
     "output_type": "stream",
     "text": [
      "    A   B   C   D   A   B   C   D    A    B    C    D new_col_list\n",
      "0  a0  b0  c0  d0  a4  b4  c4  d4   a8   b8   c8   d8           n1\n",
      "1  a1  b1  c1  d1  a5  b5  c5  d5   a9   b9   c9   d9           n2\n",
      "2  a2  b2  c2  d2  a6  b6  c6  d6  a10  b10  c10  d10           n3\n",
      "3  a3  b3  c3  d3  a7  b7  c7  d7  a11  b11  c11  d11           n4\n"
     ]
    }
   ],
   "source": [
    "col_concat['new_col_list'] = ['n1', 'n2', 'n3', 'n4']\n",
    "print(col_concat)"
   ]
  },
  {
   "cell_type": "code",
   "execution_count": 17,
   "id": "6c36d204",
   "metadata": {},
   "outputs": [
    {
     "name": "stdout",
     "output_type": "stream",
     "text": [
      "    A   B   C   D   A   B   C   D    A    B    C    D new_col_list  \\\n",
      "0  a0  b0  c0  d0  a4  b4  c4  d4   a8   b8   c8   d8           n1   \n",
      "1  a1  b1  c1  d1  a5  b5  c5  d5   a9   b9   c9   d9           n2   \n",
      "2  a2  b2  c2  d2  a6  b6  c6  d6  a10  b10  c10  d10           n3   \n",
      "3  a3  b3  c3  d3  a7  b7  c7  d7  a11  b11  c11  d11           n4   \n",
      "\n",
      "  new_col_series  \n",
      "0             n1  \n",
      "1             n2  \n",
      "2             n3  \n",
      "3             n4  \n"
     ]
    }
   ],
   "source": [
    "col_concat['new_col_series'] = pd.Series(['n1', 'n2', 'n3', 'n4'])\n",
    "print(col_concat)"
   ]
  },
  {
   "cell_type": "code",
   "execution_count": 18,
   "id": "4837be41",
   "metadata": {},
   "outputs": [
    {
     "name": "stdout",
     "output_type": "stream",
     "text": [
      "   0   1   2   3   4   5   6   7    8    9    10   11\n",
      "0  a0  b0  c0  d0  a4  b4  c4  d4   a8   b8   c8   d8\n",
      "1  a1  b1  c1  d1  a5  b5  c5  d5   a9   b9   c9   d9\n",
      "2  a2  b2  c2  d2  a6  b6  c6  d6  a10  b10  c10  d10\n",
      "3  a3  b3  c3  d3  a7  b7  c7  d7  a11  b11  c11  d11\n"
     ]
    }
   ],
   "source": [
    "print(pd.concat([df1, df2, df3], axis = 'columns', ignore_index = True))"
   ]
  },
  {
   "cell_type": "code",
   "execution_count": 19,
   "id": "42f7a6ba",
   "metadata": {},
   "outputs": [
    {
     "name": "stdout",
     "output_type": "stream",
     "text": [
      "    A   B   C   D\n",
      "0  a0  b0  c0  d0\n",
      "1  a1  b1  c1  d1\n",
      "2  a2  b2  c2  d2\n",
      "3  a3  b3  c3  d3\n"
     ]
    }
   ],
   "source": [
    "df1.columns = ['A', 'B', 'C', 'D']\n",
    "df2.columns = ['E', 'F', 'G', 'H']\n",
    "df3.columns = ['A', 'C', 'F', 'H']\n",
    "print(df1)"
   ]
  },
  {
   "cell_type": "code",
   "execution_count": 20,
   "id": "3a724c86",
   "metadata": {},
   "outputs": [
    {
     "name": "stdout",
     "output_type": "stream",
     "text": [
      "    E   F   G   H\n",
      "0  a4  b4  c4  d4\n",
      "1  a5  b5  c5  d5\n",
      "2  a6  b6  c6  d6\n",
      "3  a7  b7  c7  d7\n"
     ]
    }
   ],
   "source": [
    "print(df2)"
   ]
  },
  {
   "cell_type": "code",
   "execution_count": 21,
   "id": "32087b31",
   "metadata": {},
   "outputs": [
    {
     "name": "stdout",
     "output_type": "stream",
     "text": [
      "     A    C    F    H\n",
      "0   a8   b8   c8   d8\n",
      "1   a9   b9   c9   d9\n",
      "2  a10  b10  c10  d10\n",
      "3  a11  b11  c11  d11\n"
     ]
    }
   ],
   "source": [
    "print(df3)"
   ]
  },
  {
   "cell_type": "code",
   "execution_count": 22,
   "id": "bf461bba",
   "metadata": {},
   "outputs": [
    {
     "name": "stdout",
     "output_type": "stream",
     "text": [
      "     A    B    C    D    E    F    G    H\n",
      "0   a0   b0   c0   d0  NaN  NaN  NaN  NaN\n",
      "1   a1   b1   c1   d1  NaN  NaN  NaN  NaN\n",
      "2   a2   b2   c2   d2  NaN  NaN  NaN  NaN\n",
      "3   a3   b3   c3   d3  NaN  NaN  NaN  NaN\n",
      "0  NaN  NaN  NaN  NaN   a4   b4   c4   d4\n",
      "1  NaN  NaN  NaN  NaN   a5   b5   c5   d5\n",
      "2  NaN  NaN  NaN  NaN   a6   b6   c6   d6\n",
      "3  NaN  NaN  NaN  NaN   a7   b7   c7   d7\n",
      "0   a8  NaN   b8  NaN  NaN   c8  NaN   d8\n",
      "1   a9  NaN   b9  NaN  NaN   c9  NaN   d9\n",
      "2  a10  NaN  b10  NaN  NaN  c10  NaN  d10\n",
      "3  a11  NaN  b11  NaN  NaN  c11  NaN  d11\n"
     ]
    }
   ],
   "source": [
    "row_concat = pd.concat([df1, df2, df3])\n",
    "print(row_concat)"
   ]
  },
  {
   "cell_type": "code",
   "execution_count": 23,
   "id": "548f258a",
   "metadata": {},
   "outputs": [
    {
     "name": "stdout",
     "output_type": "stream",
     "text": [
      "Empty DataFrame\n",
      "Columns: []\n",
      "Index: [0, 1, 2, 3, 0, 1, 2, 3, 0, 1, 2, 3]\n"
     ]
    }
   ],
   "source": [
    "print(pd.concat([df1, df2, df3], join = 'inner'))"
   ]
  },
  {
   "cell_type": "code",
   "execution_count": 24,
   "id": "3c7a6287",
   "metadata": {},
   "outputs": [
    {
     "name": "stdout",
     "output_type": "stream",
     "text": [
      "     A    C\n",
      "0   a0   c0\n",
      "1   a1   c1\n",
      "2   a2   c2\n",
      "3   a3   c3\n",
      "0   a8   b8\n",
      "1   a9   b9\n",
      "2  a10  b10\n",
      "3  a11  b11\n"
     ]
    }
   ],
   "source": [
    "print(pd.concat([df1, df3], ignore_index = False, join = 'inner'))"
   ]
  },
  {
   "cell_type": "code",
   "execution_count": 25,
   "id": "5d40a11b",
   "metadata": {},
   "outputs": [
    {
     "name": "stdout",
     "output_type": "stream",
     "text": [
      "    A   B   C   D\n",
      "0  a0  b0  c0  d0\n",
      "1  a1  b1  c1  d1\n",
      "2  a2  b2  c2  d2\n",
      "3  a3  b3  c3  d3\n"
     ]
    }
   ],
   "source": [
    "df1.index = [0, 1, 2, 3]\n",
    "df2.index = [4, 5, 6, 7]\n",
    "df3.index = [0, 2, 5, 7]\n",
    "print(df1)"
   ]
  },
  {
   "cell_type": "code",
   "execution_count": 26,
   "id": "932e1cf2",
   "metadata": {},
   "outputs": [
    {
     "name": "stdout",
     "output_type": "stream",
     "text": [
      "    E   F   G   H\n",
      "4  a4  b4  c4  d4\n",
      "5  a5  b5  c5  d5\n",
      "6  a6  b6  c6  d6\n",
      "7  a7  b7  c7  d7\n"
     ]
    }
   ],
   "source": [
    "print(df2)"
   ]
  },
  {
   "cell_type": "code",
   "execution_count": 27,
   "id": "803680a0",
   "metadata": {},
   "outputs": [
    {
     "name": "stdout",
     "output_type": "stream",
     "text": [
      "     A    C    F    H\n",
      "0   a8   b8   c8   d8\n",
      "2   a9   b9   c9   d9\n",
      "5  a10  b10  c10  d10\n",
      "7  a11  b11  c11  d11\n"
     ]
    }
   ],
   "source": [
    "print(df3)"
   ]
  },
  {
   "cell_type": "code",
   "execution_count": 28,
   "id": "17e7101f",
   "metadata": {},
   "outputs": [
    {
     "name": "stdout",
     "output_type": "stream",
     "text": [
      "     A    B    C    D    E    F    G    H    A    C    F    H\n",
      "0   a0   b0   c0   d0  NaN  NaN  NaN  NaN   a8   b8   c8   d8\n",
      "1   a1   b1   c1   d1  NaN  NaN  NaN  NaN  NaN  NaN  NaN  NaN\n",
      "2   a2   b2   c2   d2  NaN  NaN  NaN  NaN   a9   b9   c9   d9\n",
      "3   a3   b3   c3   d3  NaN  NaN  NaN  NaN  NaN  NaN  NaN  NaN\n",
      "4  NaN  NaN  NaN  NaN   a4   b4   c4   d4  NaN  NaN  NaN  NaN\n",
      "5  NaN  NaN  NaN  NaN   a5   b5   c5   d5  a10  b10  c10  d10\n",
      "6  NaN  NaN  NaN  NaN   a6   b6   c6   d6  NaN  NaN  NaN  NaN\n",
      "7  NaN  NaN  NaN  NaN   a7   b7   c7   d7  a11  b11  c11  d11\n"
     ]
    }
   ],
   "source": [
    "col_concat = pd.concat([df1, df2, df3], axis = 'columns')\n",
    "print(col_concat)"
   ]
  },
  {
   "cell_type": "code",
   "execution_count": 29,
   "id": "54d9ae2d",
   "metadata": {},
   "outputs": [
    {
     "name": "stdout",
     "output_type": "stream",
     "text": [
      "    A   B   C   D   A   C   F   H\n",
      "0  a0  b0  c0  d0  a8  b8  c8  d8\n",
      "2  a2  b2  c2  d2  a9  b9  c9  d9\n"
     ]
    }
   ],
   "source": [
    "print(pd.concat([df1, df3], axis = 'columns', join = 'inner'))"
   ]
  },
  {
   "cell_type": "markdown",
   "id": "250df908",
   "metadata": {},
   "source": [
    "# 7 - 3"
   ]
  },
  {
   "cell_type": "code",
   "execution_count": 30,
   "id": "c8c9cdf8",
   "metadata": {},
   "outputs": [],
   "source": [
    "# !pip install pathlib "
   ]
  },
  {
   "cell_type": "code",
   "execution_count": 31,
   "id": "faf38e92",
   "metadata": {
    "scrolled": false
   },
   "outputs": [
    {
     "name": "stdout",
     "output_type": "stream",
     "text": [
      "[]\n"
     ]
    }
   ],
   "source": [
    "from pathlib import Path  # path 작성 시 대문자 필수 Path!! 안그러면 인식이 안됨.\n",
    "\n",
    "billboard_data_files = (\n",
    "    Path('.')\n",
    "    .glob('billboard-by_week')\n",
    ")\n",
    "\n",
    "billboard_data_files = sorted(list(billboard_data_files))\n",
    "print(billboard_data_files)"
   ]
  },
  {
   "cell_type": "markdown",
   "id": "88c886c5",
   "metadata": {},
   "source": [
    "---"
   ]
  },
  {
   "cell_type": "markdown",
   "id": "66833fc5",
   "metadata": {},
   "source": [
    "# 문제 발생 및 해결"
   ]
  },
  {
   "cell_type": "markdown",
   "id": "75cc3b9b",
   "metadata": {},
   "source": [
    "### p228 코드 작성했으나 빈 파일로 나옴.\n",
    "### 파이썬 버전 문제인가싶어 버전 알아봄."
   ]
  },
  {
   "cell_type": "code",
   "execution_count": 32,
   "id": "b890ff2b",
   "metadata": {},
   "outputs": [
    {
     "name": "stdout",
     "output_type": "stream",
     "text": [
      "3.11.5 | packaged by Anaconda, Inc. | (main, Sep 11 2023, 13:26:23) [MSC v.1916 64 bit (AMD64)]\n"
     ]
    }
   ],
   "source": [
    "# 파이썬버전 확인 \n",
    "import sys\n",
    "print(sys.version)"
   ]
  },
  {
   "cell_type": "markdown",
   "id": "347e8efa",
   "metadata": {},
   "source": [
    "### 노을 언니와 시현 언니도 같은 문제가 발생해 같이 풀어봄.\n",
    "### 각자의 코드를 서로 공유해봄.\n",
    "### 시현 언니 코드 \n",
    "```\n",
    "from pathlib import Path  # path 작성 시 대문자 필수 Path!! 안그러면 인식이 안됨.\n",
    "\n",
    "billboard_data_files = (\n",
    "    Path('/')\n",
    "    .glob('data/billboard-by_week/billboard-*.csv')\n",
    ")\n",
    "\n",
    "billboard_data_files = sorted(list(billboard_data_files))\n",
    "print(billboard_data_files)\n",
    "```\n",
    "### 노을 언니 코드\n",
    "```\n",
    "from pathlib import Path\n",
    "billboard_data_files = sorted(list(Path(r'C:\\Users\\hpky0\\Desktop\\판다스\\data\\billboard-by_week').glob('billboard-*.csv')))\n",
    "print(billboard_data_files)\n",
    "```"
   ]
  },
  {
   "cell_type": "code",
   "execution_count": 33,
   "id": "e6f80da9",
   "metadata": {},
   "outputs": [
    {
     "name": "stdout",
     "output_type": "stream",
     "text": [
      "[]\n"
     ]
    }
   ],
   "source": [
    "# 시현 언니 코드 확인\n",
    "from pathlib import Path  # path 작성 시 대문자 필수 Path!! 안그러면 인식이 안됨.\n",
    "\n",
    "billboard_data_files = (\n",
    "    Path('/')\n",
    "    .glob('data/billboard-by_week/billboard-*.csv')\n",
    ")\n",
    "\n",
    "billboard_data_files = sorted(list(billboard_data_files))\n",
    "print(billboard_data_files)"
   ]
  },
  {
   "cell_type": "code",
   "execution_count": 34,
   "id": "4d910915",
   "metadata": {
    "scrolled": false
   },
   "outputs": [
    {
     "ename": "SyntaxError",
     "evalue": "(unicode error) 'unicodeescape' codec can't decode bytes in position 2-3: truncated \\UXXXXXXXX escape (3107191666.py, line 3)",
     "output_type": "error",
     "traceback": [
      "\u001b[1;36m  Cell \u001b[1;32mIn[34], line 3\u001b[1;36m\u001b[0m\n\u001b[1;33m    billboard_data_files = sorted(list(Path('C:\\Users\\hpky0\\Desktop\\판다스\\data\\billboard-by_week').glob('billboard-*.csv')))\u001b[0m\n\u001b[1;37m                                                                                               ^\u001b[0m\n\u001b[1;31mSyntaxError\u001b[0m\u001b[1;31m:\u001b[0m (unicode error) 'unicodeescape' codec can't decode bytes in position 2-3: truncated \\UXXXXXXXX escape\n"
     ]
    }
   ],
   "source": [
    "# 노을 언니 코드 확인\n",
    "from pathlib import Path\n",
    "billboard_data_files = sorted(list(Path('C:\\Users\\hpky0\\Desktop\\판다스\\data\\billboard-by_week').glob('billboard-*.csv')))\n",
    "print(billboard_data_files)"
   ]
  },
  {
   "cell_type": "markdown",
   "id": "230bfdd4",
   "metadata": {},
   "source": [
    "### 노을 언니 코드는 오류 코드가 떠서 코드를 해석해봄.\n",
    "> (unicode error) 'unicodeescape' codec can't decode bytes in position 2-3: truncated \\UXXXXXXXX escape\n",
    "해석 > (유니코드 오류) 'unicodeescape' 코덱은 위치 2-3의 바이트를 디코딩할 수 없습니다 : 잘린 \\UXXXXXXXX 이스케이프\n",
    "### 오류 코드를 구글에 검색해봄\n",
    "### [유니코드 오류 해결 방법](https://twdatastory.tistory.com/entry/%ED%8C%8C%EC%9D%B4%EC%8D%AC-unicode-error-unicodeescape-codec-cant-decode-bytes)에 대해 알아보니 파일명을 표시한 따옴표 앞에 r을 붙여주면 된다고 해서 적용해봄"
   ]
  },
  {
   "cell_type": "code",
   "execution_count": 35,
   "id": "8cb62f39",
   "metadata": {},
   "outputs": [
    {
     "name": "stdout",
     "output_type": "stream",
     "text": [
      "[WindowsPath('C:/Users/hpky0/Desktop/판다스/data/billboard-by_week/billboard-01.csv'), WindowsPath('C:/Users/hpky0/Desktop/판다스/data/billboard-by_week/billboard-02.csv'), WindowsPath('C:/Users/hpky0/Desktop/판다스/data/billboard-by_week/billboard-03.csv'), WindowsPath('C:/Users/hpky0/Desktop/판다스/data/billboard-by_week/billboard-04.csv'), WindowsPath('C:/Users/hpky0/Desktop/판다스/data/billboard-by_week/billboard-05.csv'), WindowsPath('C:/Users/hpky0/Desktop/판다스/data/billboard-by_week/billboard-06.csv'), WindowsPath('C:/Users/hpky0/Desktop/판다스/data/billboard-by_week/billboard-07.csv'), WindowsPath('C:/Users/hpky0/Desktop/판다스/data/billboard-by_week/billboard-08.csv'), WindowsPath('C:/Users/hpky0/Desktop/판다스/data/billboard-by_week/billboard-09.csv'), WindowsPath('C:/Users/hpky0/Desktop/판다스/data/billboard-by_week/billboard-10.csv'), WindowsPath('C:/Users/hpky0/Desktop/판다스/data/billboard-by_week/billboard-11.csv'), WindowsPath('C:/Users/hpky0/Desktop/판다스/data/billboard-by_week/billboard-12.csv'), WindowsPath('C:/Users/hpky0/Desktop/판다스/data/billboard-by_week/billboard-13.csv'), WindowsPath('C:/Users/hpky0/Desktop/판다스/data/billboard-by_week/billboard-14.csv'), WindowsPath('C:/Users/hpky0/Desktop/판다스/data/billboard-by_week/billboard-15.csv'), WindowsPath('C:/Users/hpky0/Desktop/판다스/data/billboard-by_week/billboard-16.csv'), WindowsPath('C:/Users/hpky0/Desktop/판다스/data/billboard-by_week/billboard-17.csv'), WindowsPath('C:/Users/hpky0/Desktop/판다스/data/billboard-by_week/billboard-18.csv'), WindowsPath('C:/Users/hpky0/Desktop/판다스/data/billboard-by_week/billboard-19.csv'), WindowsPath('C:/Users/hpky0/Desktop/판다스/data/billboard-by_week/billboard-20.csv'), WindowsPath('C:/Users/hpky0/Desktop/판다스/data/billboard-by_week/billboard-21.csv'), WindowsPath('C:/Users/hpky0/Desktop/판다스/data/billboard-by_week/billboard-22.csv'), WindowsPath('C:/Users/hpky0/Desktop/판다스/data/billboard-by_week/billboard-23.csv'), WindowsPath('C:/Users/hpky0/Desktop/판다스/data/billboard-by_week/billboard-24.csv'), WindowsPath('C:/Users/hpky0/Desktop/판다스/data/billboard-by_week/billboard-25.csv'), WindowsPath('C:/Users/hpky0/Desktop/판다스/data/billboard-by_week/billboard-26.csv'), WindowsPath('C:/Users/hpky0/Desktop/판다스/data/billboard-by_week/billboard-27.csv'), WindowsPath('C:/Users/hpky0/Desktop/판다스/data/billboard-by_week/billboard-28.csv'), WindowsPath('C:/Users/hpky0/Desktop/판다스/data/billboard-by_week/billboard-29.csv'), WindowsPath('C:/Users/hpky0/Desktop/판다스/data/billboard-by_week/billboard-30.csv'), WindowsPath('C:/Users/hpky0/Desktop/판다스/data/billboard-by_week/billboard-31.csv'), WindowsPath('C:/Users/hpky0/Desktop/판다스/data/billboard-by_week/billboard-32.csv'), WindowsPath('C:/Users/hpky0/Desktop/판다스/data/billboard-by_week/billboard-33.csv'), WindowsPath('C:/Users/hpky0/Desktop/판다스/data/billboard-by_week/billboard-34.csv'), WindowsPath('C:/Users/hpky0/Desktop/판다스/data/billboard-by_week/billboard-35.csv'), WindowsPath('C:/Users/hpky0/Desktop/판다스/data/billboard-by_week/billboard-36.csv'), WindowsPath('C:/Users/hpky0/Desktop/판다스/data/billboard-by_week/billboard-37.csv'), WindowsPath('C:/Users/hpky0/Desktop/판다스/data/billboard-by_week/billboard-38.csv'), WindowsPath('C:/Users/hpky0/Desktop/판다스/data/billboard-by_week/billboard-39.csv'), WindowsPath('C:/Users/hpky0/Desktop/판다스/data/billboard-by_week/billboard-40.csv'), WindowsPath('C:/Users/hpky0/Desktop/판다스/data/billboard-by_week/billboard-41.csv'), WindowsPath('C:/Users/hpky0/Desktop/판다스/data/billboard-by_week/billboard-42.csv'), WindowsPath('C:/Users/hpky0/Desktop/판다스/data/billboard-by_week/billboard-43.csv'), WindowsPath('C:/Users/hpky0/Desktop/판다스/data/billboard-by_week/billboard-44.csv'), WindowsPath('C:/Users/hpky0/Desktop/판다스/data/billboard-by_week/billboard-45.csv'), WindowsPath('C:/Users/hpky0/Desktop/판다스/data/billboard-by_week/billboard-46.csv'), WindowsPath('C:/Users/hpky0/Desktop/판다스/data/billboard-by_week/billboard-47.csv'), WindowsPath('C:/Users/hpky0/Desktop/판다스/data/billboard-by_week/billboard-48.csv'), WindowsPath('C:/Users/hpky0/Desktop/판다스/data/billboard-by_week/billboard-49.csv'), WindowsPath('C:/Users/hpky0/Desktop/판다스/data/billboard-by_week/billboard-50.csv'), WindowsPath('C:/Users/hpky0/Desktop/판다스/data/billboard-by_week/billboard-51.csv'), WindowsPath('C:/Users/hpky0/Desktop/판다스/data/billboard-by_week/billboard-52.csv'), WindowsPath('C:/Users/hpky0/Desktop/판다스/data/billboard-by_week/billboard-53.csv'), WindowsPath('C:/Users/hpky0/Desktop/판다스/data/billboard-by_week/billboard-54.csv'), WindowsPath('C:/Users/hpky0/Desktop/판다스/data/billboard-by_week/billboard-55.csv'), WindowsPath('C:/Users/hpky0/Desktop/판다스/data/billboard-by_week/billboard-56.csv'), WindowsPath('C:/Users/hpky0/Desktop/판다스/data/billboard-by_week/billboard-57.csv'), WindowsPath('C:/Users/hpky0/Desktop/판다스/data/billboard-by_week/billboard-58.csv'), WindowsPath('C:/Users/hpky0/Desktop/판다스/data/billboard-by_week/billboard-59.csv'), WindowsPath('C:/Users/hpky0/Desktop/판다스/data/billboard-by_week/billboard-60.csv'), WindowsPath('C:/Users/hpky0/Desktop/판다스/data/billboard-by_week/billboard-61.csv'), WindowsPath('C:/Users/hpky0/Desktop/판다스/data/billboard-by_week/billboard-62.csv'), WindowsPath('C:/Users/hpky0/Desktop/판다스/data/billboard-by_week/billboard-63.csv'), WindowsPath('C:/Users/hpky0/Desktop/판다스/data/billboard-by_week/billboard-64.csv'), WindowsPath('C:/Users/hpky0/Desktop/판다스/data/billboard-by_week/billboard-65.csv'), WindowsPath('C:/Users/hpky0/Desktop/판다스/data/billboard-by_week/billboard-66.csv'), WindowsPath('C:/Users/hpky0/Desktop/판다스/data/billboard-by_week/billboard-67.csv'), WindowsPath('C:/Users/hpky0/Desktop/판다스/data/billboard-by_week/billboard-68.csv'), WindowsPath('C:/Users/hpky0/Desktop/판다스/data/billboard-by_week/billboard-69.csv'), WindowsPath('C:/Users/hpky0/Desktop/판다스/data/billboard-by_week/billboard-70.csv'), WindowsPath('C:/Users/hpky0/Desktop/판다스/data/billboard-by_week/billboard-71.csv'), WindowsPath('C:/Users/hpky0/Desktop/판다스/data/billboard-by_week/billboard-72.csv'), WindowsPath('C:/Users/hpky0/Desktop/판다스/data/billboard-by_week/billboard-73.csv'), WindowsPath('C:/Users/hpky0/Desktop/판다스/data/billboard-by_week/billboard-74.csv'), WindowsPath('C:/Users/hpky0/Desktop/판다스/data/billboard-by_week/billboard-75.csv'), WindowsPath('C:/Users/hpky0/Desktop/판다스/data/billboard-by_week/billboard-76.csv')]\n"
     ]
    }
   ],
   "source": [
    "# 'r' 붙여서 결과 확인\n",
    "from pathlib import Path\n",
    "billboard_data_files = sorted(list(Path(r'C:\\Users\\hpky0\\Desktop\\판다스\\data\\billboard-by_week').glob('billboard-*.csv')))\n",
    "print(billboard_data_files)"
   ]
  },
  {
   "cell_type": "markdown",
   "id": "525127a9",
   "metadata": {},
   "source": [
    "## 해결 완료"
   ]
  },
  {
   "cell_type": "markdown",
   "id": "e254a31a",
   "metadata": {},
   "source": [
    "## Path로 파일 여는 법 추가 이해\n",
    " path가 파일을 읽을 수 있게 알려줘야하는데 그러지 못해서 오류가 남.  \n",
    "[docs](https://docs.python.org/ko/3/library/pathlib.html#methods)를 보면 Pathlib는 순수한 경로로 파일을 찾아감.  \n",
    "내가 작성한 코드로 Path를 사용하려면 Path '.'이 아니라 Path './'을 사용해야 했음. \n",
    "```\n",
    "from pathlib import Path \n",
    "\n",
    "billboard_data_files = (\n",
    "    Path('./').glob('data/billboard-by_week/billboard-*.csv')\n",
    ")\n",
    "\n",
    "billboard_data_files = sorted(list(billboard_data_files))\n",
    "print(billboard_data_files)\n",
    "```  \n",
    "Path '.'은 컴퓨터가 '.'을 문자 그대로 '.'으로 인식해서 뭘 하라고 하는건지 몰라서 빈 리스트가 나온것이고,\n",
    "Path '/'는 컴퓨터가 가긴 가는데 어디로 가야하는지를 추가로 알려주지 않아서 빈 리스트가 나온 것임.\n",
    "Paht './'은 컴퓨터에게 '현재 위치'에 있는 파일들에서 찾아달라고 하는 것이기 때문에 결괏값이 나옴. \n",
    "\n",
    "그 뒤에 glob는 파일 이름에 ' * ' 앞에 이름을 가지고 있는 모든 파일을 다 가져다 달라는 말이라서 ' data/billboard-by_week/billboard-* .csv ' 자료를 다 가져온 것임.\n",
    "\n",
    "애초에 Path로 어디서 파일을 가져와야하는지 잘못 알려줘서 판다스가 파일을 열지 못함. \n",
    "\n",
    "노을 언니의 코드가 열린 이유는 '절대경로'라서 열린 것이고 나랑 시현 언니의 코드는 '상대경로'라서 인식되지 않아 열리지 않은 것이다.  \n",
    "'절대 경로' : 최상위 제일 위에서부터 찾아 들어가는 것이다. <시작점을 알려준 것>  \n",
    "'상대 경로' : 파일의 위치를 기준으로 찾아 들어가는 것이다. <작동하고 있는 파일의 기준으로 알려준 것>\n",
    "\n",
    "'./'는 상대 경로의 작동하고 있는 파일을 인식시킨 것\n",
    "\n",
    "지금처럼 상대 경로를 모르겠으면 절대 경로를 찾아가는 것도 방법이다. "
   ]
  },
  {
   "cell_type": "markdown",
   "id": "bd2ca701",
   "metadata": {},
   "source": [
    "## 그렇다면 왜 내가 사용하던 read_csv는 안된 것일까?\n",
    "왜냐하면 [pandas-docs](https://pandas.pydata.org/pandas-docs/stable/reference/api/pandas.read_csv.html)를 살펴보면 알 수 있다. \n",
    "read_csv는 './'가 포함되어 있는 함수라서 pandas.read_csv('data/gapminder.tsv')라고 작성해도 인식이 된 것이지만 \n",
    "Path의 경우 './'가 없는 함수라서 Path('./')로 내 파일을 인식 시키고 glob을 사용해 파일을 가져오게 해야 되는 것이다. \n",
    "\n",
    "하지만 이번 같은 경우는 이번에만 그런 것이고,  \n",
    "함수별로 경로를 찾는 방식이 달라 함수를 사용할 때마다 경로를 어떻게 써야할지, 경로를 어떻게 하는지 알아보면서 코드 작성을 해야한다. "
   ]
  },
  {
   "cell_type": "markdown",
   "id": "725eed2b",
   "metadata": {},
   "source": [
    "## 진짜 해결 완료"
   ]
  },
  {
   "cell_type": "markdown",
   "id": "f3ed655f",
   "metadata": {},
   "source": [
    "---"
   ]
  },
  {
   "cell_type": "code",
   "execution_count": 36,
   "id": "5d69cf5c",
   "metadata": {},
   "outputs": [],
   "source": [
    "billboard_data_files = list(billboard_data_files)"
   ]
  },
  {
   "cell_type": "code",
   "execution_count": 37,
   "id": "c9acb063",
   "metadata": {
    "scrolled": false
   },
   "outputs": [
    {
     "name": "stdout",
     "output_type": "stream",
     "text": [
      "     year            artist                    track  time date.entered week  \\\n",
      "0    2000             2 Pac  Baby Don't Cry (Keep...  4:22   2000-02-26  wk1   \n",
      "1    2000           2Ge+her  The Hardest Part Of ...  3:15   2000-09-02  wk1   \n",
      "2    2000      3 Doors Down               Kryptonite  3:53   2000-04-08  wk1   \n",
      "3    2000      3 Doors Down                    Loser  4:24   2000-10-21  wk1   \n",
      "4    2000          504 Boyz            Wobble Wobble  3:35   2000-04-15  wk1   \n",
      "..    ...               ...                      ...   ...          ...  ...   \n",
      "312  2000       Yankee Grey     Another Nine Minutes  3:10   2000-04-29  wk1   \n",
      "313  2000  Yearwood, Trisha          Real Live Woman  3:55   2000-04-01  wk1   \n",
      "314  2000   Ying Yang Twins  Whistle While You Tw...  4:19   2000-03-18  wk1   \n",
      "315  2000     Zombie Nation            Kernkraft 400  3:30   2000-09-02  wk1   \n",
      "316  2000   matchbox twenty                     Bent  4:12   2000-04-29  wk1   \n",
      "\n",
      "     rating  \n",
      "0      87.0  \n",
      "1      91.0  \n",
      "2      81.0  \n",
      "3      76.0  \n",
      "4      57.0  \n",
      "..      ...  \n",
      "312    86.0  \n",
      "313    85.0  \n",
      "314    95.0  \n",
      "315    99.0  \n",
      "316    60.0  \n",
      "\n",
      "[317 rows x 7 columns]\n"
     ]
    }
   ],
   "source": [
    "billboard01 = pd.read_csv(billboard_data_files[0])\n",
    "billboard02 = pd.read_csv(billboard_data_files[1])\n",
    "billboard03 = pd.read_csv(billboard_data_files[2])\n",
    "print(billboard01)"
   ]
  },
  {
   "cell_type": "code",
   "execution_count": 39,
   "id": "43579f27",
   "metadata": {},
   "outputs": [
    {
     "name": "stdout",
     "output_type": "stream",
     "text": [
      "(317, 7)\n",
      "(317, 7)\n",
      "(317, 7)\n"
     ]
    }
   ],
   "source": [
    "print(billboard01.shape)\n",
    "print(billboard02.shape)\n",
    "print(billboard03.shape)"
   ]
  },
  {
   "cell_type": "code",
   "execution_count": 40,
   "id": "0bd60e54",
   "metadata": {},
   "outputs": [
    {
     "name": "stdout",
     "output_type": "stream",
     "text": [
      "(951, 7)\n"
     ]
    }
   ],
   "source": [
    "billboard = pd.concat([billboard01, billboard02, billboard03])\n",
    "print(billboard.shape)"
   ]
  },
  {
   "cell_type": "code",
   "execution_count": 41,
   "id": "885602b3",
   "metadata": {},
   "outputs": [],
   "source": [
    "# 출력이 안되는게 맞나?\n",
    "assert(\n",
    "    billboard01.shape[0]\n",
    "    + billboard02.shape[0]\n",
    "    + billboard03.shape[0]\n",
    "    == billboard.shape[0]\n",
    ")"
   ]
  },
  {
   "cell_type": "code",
   "execution_count": 44,
   "id": "18a7577e",
   "metadata": {},
   "outputs": [
    {
     "name": "stdout",
     "output_type": "stream",
     "text": [
      "C:\\Users\\hpky0\\Desktop\\판다스\\data\\billboard-by_week\\billboard-01.csv\n",
      "C:\\Users\\hpky0\\Desktop\\판다스\\data\\billboard-by_week\\billboard-02.csv\n",
      "C:\\Users\\hpky0\\Desktop\\판다스\\data\\billboard-by_week\\billboard-03.csv\n",
      "C:\\Users\\hpky0\\Desktop\\판다스\\data\\billboard-by_week\\billboard-04.csv\n",
      "C:\\Users\\hpky0\\Desktop\\판다스\\data\\billboard-by_week\\billboard-05.csv\n",
      "C:\\Users\\hpky0\\Desktop\\판다스\\data\\billboard-by_week\\billboard-06.csv\n",
      "C:\\Users\\hpky0\\Desktop\\판다스\\data\\billboard-by_week\\billboard-07.csv\n",
      "C:\\Users\\hpky0\\Desktop\\판다스\\data\\billboard-by_week\\billboard-08.csv\n",
      "C:\\Users\\hpky0\\Desktop\\판다스\\data\\billboard-by_week\\billboard-09.csv\n",
      "C:\\Users\\hpky0\\Desktop\\판다스\\data\\billboard-by_week\\billboard-10.csv\n",
      "C:\\Users\\hpky0\\Desktop\\판다스\\data\\billboard-by_week\\billboard-11.csv\n",
      "C:\\Users\\hpky0\\Desktop\\판다스\\data\\billboard-by_week\\billboard-12.csv\n",
      "C:\\Users\\hpky0\\Desktop\\판다스\\data\\billboard-by_week\\billboard-13.csv\n",
      "C:\\Users\\hpky0\\Desktop\\판다스\\data\\billboard-by_week\\billboard-14.csv\n",
      "C:\\Users\\hpky0\\Desktop\\판다스\\data\\billboard-by_week\\billboard-15.csv\n",
      "C:\\Users\\hpky0\\Desktop\\판다스\\data\\billboard-by_week\\billboard-16.csv\n",
      "C:\\Users\\hpky0\\Desktop\\판다스\\data\\billboard-by_week\\billboard-17.csv\n",
      "C:\\Users\\hpky0\\Desktop\\판다스\\data\\billboard-by_week\\billboard-18.csv\n",
      "C:\\Users\\hpky0\\Desktop\\판다스\\data\\billboard-by_week\\billboard-19.csv\n",
      "C:\\Users\\hpky0\\Desktop\\판다스\\data\\billboard-by_week\\billboard-20.csv\n",
      "C:\\Users\\hpky0\\Desktop\\판다스\\data\\billboard-by_week\\billboard-21.csv\n",
      "C:\\Users\\hpky0\\Desktop\\판다스\\data\\billboard-by_week\\billboard-22.csv\n",
      "C:\\Users\\hpky0\\Desktop\\판다스\\data\\billboard-by_week\\billboard-23.csv\n",
      "C:\\Users\\hpky0\\Desktop\\판다스\\data\\billboard-by_week\\billboard-24.csv\n",
      "C:\\Users\\hpky0\\Desktop\\판다스\\data\\billboard-by_week\\billboard-25.csv\n",
      "C:\\Users\\hpky0\\Desktop\\판다스\\data\\billboard-by_week\\billboard-26.csv\n",
      "C:\\Users\\hpky0\\Desktop\\판다스\\data\\billboard-by_week\\billboard-27.csv\n",
      "C:\\Users\\hpky0\\Desktop\\판다스\\data\\billboard-by_week\\billboard-28.csv\n",
      "C:\\Users\\hpky0\\Desktop\\판다스\\data\\billboard-by_week\\billboard-29.csv\n",
      "C:\\Users\\hpky0\\Desktop\\판다스\\data\\billboard-by_week\\billboard-30.csv\n",
      "C:\\Users\\hpky0\\Desktop\\판다스\\data\\billboard-by_week\\billboard-31.csv\n",
      "C:\\Users\\hpky0\\Desktop\\판다스\\data\\billboard-by_week\\billboard-32.csv\n",
      "C:\\Users\\hpky0\\Desktop\\판다스\\data\\billboard-by_week\\billboard-33.csv\n",
      "C:\\Users\\hpky0\\Desktop\\판다스\\data\\billboard-by_week\\billboard-34.csv\n",
      "C:\\Users\\hpky0\\Desktop\\판다스\\data\\billboard-by_week\\billboard-35.csv\n",
      "C:\\Users\\hpky0\\Desktop\\판다스\\data\\billboard-by_week\\billboard-36.csv\n",
      "C:\\Users\\hpky0\\Desktop\\판다스\\data\\billboard-by_week\\billboard-37.csv\n",
      "C:\\Users\\hpky0\\Desktop\\판다스\\data\\billboard-by_week\\billboard-38.csv\n",
      "C:\\Users\\hpky0\\Desktop\\판다스\\data\\billboard-by_week\\billboard-39.csv\n",
      "C:\\Users\\hpky0\\Desktop\\판다스\\data\\billboard-by_week\\billboard-40.csv\n",
      "C:\\Users\\hpky0\\Desktop\\판다스\\data\\billboard-by_week\\billboard-41.csv\n",
      "C:\\Users\\hpky0\\Desktop\\판다스\\data\\billboard-by_week\\billboard-42.csv\n",
      "C:\\Users\\hpky0\\Desktop\\판다스\\data\\billboard-by_week\\billboard-43.csv\n",
      "C:\\Users\\hpky0\\Desktop\\판다스\\data\\billboard-by_week\\billboard-44.csv\n",
      "C:\\Users\\hpky0\\Desktop\\판다스\\data\\billboard-by_week\\billboard-45.csv\n",
      "C:\\Users\\hpky0\\Desktop\\판다스\\data\\billboard-by_week\\billboard-46.csv\n",
      "C:\\Users\\hpky0\\Desktop\\판다스\\data\\billboard-by_week\\billboard-47.csv\n",
      "C:\\Users\\hpky0\\Desktop\\판다스\\data\\billboard-by_week\\billboard-48.csv\n",
      "C:\\Users\\hpky0\\Desktop\\판다스\\data\\billboard-by_week\\billboard-49.csv\n",
      "C:\\Users\\hpky0\\Desktop\\판다스\\data\\billboard-by_week\\billboard-50.csv\n",
      "C:\\Users\\hpky0\\Desktop\\판다스\\data\\billboard-by_week\\billboard-51.csv\n",
      "C:\\Users\\hpky0\\Desktop\\판다스\\data\\billboard-by_week\\billboard-52.csv\n",
      "C:\\Users\\hpky0\\Desktop\\판다스\\data\\billboard-by_week\\billboard-53.csv\n",
      "C:\\Users\\hpky0\\Desktop\\판다스\\data\\billboard-by_week\\billboard-54.csv\n",
      "C:\\Users\\hpky0\\Desktop\\판다스\\data\\billboard-by_week\\billboard-55.csv\n",
      "C:\\Users\\hpky0\\Desktop\\판다스\\data\\billboard-by_week\\billboard-56.csv\n",
      "C:\\Users\\hpky0\\Desktop\\판다스\\data\\billboard-by_week\\billboard-57.csv\n",
      "C:\\Users\\hpky0\\Desktop\\판다스\\data\\billboard-by_week\\billboard-58.csv\n",
      "C:\\Users\\hpky0\\Desktop\\판다스\\data\\billboard-by_week\\billboard-59.csv\n",
      "C:\\Users\\hpky0\\Desktop\\판다스\\data\\billboard-by_week\\billboard-60.csv\n",
      "C:\\Users\\hpky0\\Desktop\\판다스\\data\\billboard-by_week\\billboard-61.csv\n",
      "C:\\Users\\hpky0\\Desktop\\판다스\\data\\billboard-by_week\\billboard-62.csv\n",
      "C:\\Users\\hpky0\\Desktop\\판다스\\data\\billboard-by_week\\billboard-63.csv\n",
      "C:\\Users\\hpky0\\Desktop\\판다스\\data\\billboard-by_week\\billboard-64.csv\n",
      "C:\\Users\\hpky0\\Desktop\\판다스\\data\\billboard-by_week\\billboard-65.csv\n",
      "C:\\Users\\hpky0\\Desktop\\판다스\\data\\billboard-by_week\\billboard-66.csv\n",
      "C:\\Users\\hpky0\\Desktop\\판다스\\data\\billboard-by_week\\billboard-67.csv\n",
      "C:\\Users\\hpky0\\Desktop\\판다스\\data\\billboard-by_week\\billboard-68.csv\n",
      "C:\\Users\\hpky0\\Desktop\\판다스\\data\\billboard-by_week\\billboard-69.csv\n",
      "C:\\Users\\hpky0\\Desktop\\판다스\\data\\billboard-by_week\\billboard-70.csv\n",
      "C:\\Users\\hpky0\\Desktop\\판다스\\data\\billboard-by_week\\billboard-71.csv\n",
      "C:\\Users\\hpky0\\Desktop\\판다스\\data\\billboard-by_week\\billboard-72.csv\n",
      "C:\\Users\\hpky0\\Desktop\\판다스\\data\\billboard-by_week\\billboard-73.csv\n",
      "C:\\Users\\hpky0\\Desktop\\판다스\\data\\billboard-by_week\\billboard-74.csv\n",
      "C:\\Users\\hpky0\\Desktop\\판다스\\data\\billboard-by_week\\billboard-75.csv\n",
      "C:\\Users\\hpky0\\Desktop\\판다스\\data\\billboard-by_week\\billboard-76.csv\n"
     ]
    }
   ],
   "source": [
    "from pathlib import Path\n",
    "billboard_data_files = sorted(list(Path(r'C:\\Users\\hpky0\\Desktop\\판다스\\data\\billboard-by_week').glob('billboard-*.csv')))\n",
    "\n",
    "list_billboard_df = []\n",
    "\n",
    "for csv_filename in billboard_data_files:\n",
    "    print(csv_filename) "
   ]
  },
  {
   "cell_type": "markdown",
   "id": "004b884b",
   "metadata": {},
   "source": [
    "#### 참고 : [for문 뒤에 작성된 print는 들여쓰기를 해야한다.](https://korbillgates.tistory.com/92)"
   ]
  },
  {
   "cell_type": "code",
   "execution_count": 48,
   "id": "d99aa10b",
   "metadata": {},
   "outputs": [
    {
     "name": "stdout",
     "output_type": "stream",
     "text": [
      "76\n"
     ]
    }
   ],
   "source": [
    "from pathlib import Path\n",
    "billboard_data_files = sorted(list(Path(r'C:\\Users\\hpky0\\Desktop\\판다스\\data\\billboard-by_week').glob('billboard-*.csv')))\n",
    "\n",
    "list_billboard_df = []\n",
    "\n",
    "for csv_filename in billboard_data_files:\n",
    "#     print(csv_filename) \n",
    "\n",
    "    df = pd.read_csv(csv_filename)\n",
    "\n",
    "    list_billboard_df.append(df)\n",
    "\n",
    "print(len(list_billboard_df))"
   ]
  },
  {
   "cell_type": "markdown",
   "id": "aa3529a9",
   "metadata": {},
   "source": [
    "#### 참고 : print(len(list_billboard_df)) 작성 시 위치에 따라 나오는 결과가 다르다.\n",
    "> for 반복문 안에 있을 경우 1에서 76까지 순서대로 나옴.\n",
    "```\n",
    "from pathlib import Path\n",
    "billboard_data_files = sorted(list(Path(r'C:\\Users\\hpky0\\Desktop\\판다스\\data\\billboard-by_week').glob('billboard-*.csv')))\n",
    "\n",
    "list_billboard_df = []\n",
    "\n",
    "for csv_filename in billboard_data_files:\n",
    "#     print(csv_filename) \n",
    "\n",
    "    df = pd.read_csv(csv_filename)\n",
    "\n",
    "    list_billboard_df.append(df)\n",
    "\n",
    "    print(len(list_billboard_df))\n",
    "```\n",
    "\n",
    "> for 반복문 밖에 있을 경우 결괏값인 76만 나옴.\n",
    "```\n",
    "from pathlib import Path\n",
    "billboard_data_files = sorted(list(Path(r'C:\\Users\\hpky0\\Desktop\\판다스\\data\\billboard-by_week').glob('billboard-*.csv')))\n",
    "\n",
    "list_billboard_df = []\n",
    "\n",
    "for csv_filename in billboard_data_files:\n",
    "#     print(csv_filename) \n",
    "\n",
    "    df = pd.read_csv(csv_filename)\n",
    "\n",
    "    list_billboard_df.append(df)\n",
    "\n",
    "print(len(list_billboard_df))\n",
    "```"
   ]
  },
  {
   "cell_type": "code",
   "execution_count": 49,
   "id": "955d141f",
   "metadata": {},
   "outputs": [
    {
     "name": "stdout",
     "output_type": "stream",
     "text": [
      "<class 'pandas.core.frame.DataFrame'>\n"
     ]
    }
   ],
   "source": [
    "print(type(list_billboard_df[0]))"
   ]
  },
  {
   "cell_type": "code",
   "execution_count": 50,
   "id": "164add7d",
   "metadata": {},
   "outputs": [
    {
     "name": "stdout",
     "output_type": "stream",
     "text": [
      "     year            artist                    track  time date.entered week  \\\n",
      "0    2000             2 Pac  Baby Don't Cry (Keep...  4:22   2000-02-26  wk1   \n",
      "1    2000           2Ge+her  The Hardest Part Of ...  3:15   2000-09-02  wk1   \n",
      "2    2000      3 Doors Down               Kryptonite  3:53   2000-04-08  wk1   \n",
      "3    2000      3 Doors Down                    Loser  4:24   2000-10-21  wk1   \n",
      "4    2000          504 Boyz            Wobble Wobble  3:35   2000-04-15  wk1   \n",
      "..    ...               ...                      ...   ...          ...  ...   \n",
      "312  2000       Yankee Grey     Another Nine Minutes  3:10   2000-04-29  wk1   \n",
      "313  2000  Yearwood, Trisha          Real Live Woman  3:55   2000-04-01  wk1   \n",
      "314  2000   Ying Yang Twins  Whistle While You Tw...  4:19   2000-03-18  wk1   \n",
      "315  2000     Zombie Nation            Kernkraft 400  3:30   2000-09-02  wk1   \n",
      "316  2000   matchbox twenty                     Bent  4:12   2000-04-29  wk1   \n",
      "\n",
      "     rating  \n",
      "0      87.0  \n",
      "1      91.0  \n",
      "2      81.0  \n",
      "3      76.0  \n",
      "4      57.0  \n",
      "..      ...  \n",
      "312    86.0  \n",
      "313    85.0  \n",
      "314    95.0  \n",
      "315    99.0  \n",
      "316    60.0  \n",
      "\n",
      "[317 rows x 7 columns]\n"
     ]
    }
   ],
   "source": [
    "print(list_billboard_df[0])"
   ]
  },
  {
   "cell_type": "code",
   "execution_count": 51,
   "id": "b9ab5349",
   "metadata": {},
   "outputs": [
    {
     "name": "stdout",
     "output_type": "stream",
     "text": [
      "(24092, 7)\n"
     ]
    }
   ],
   "source": [
    "billboard_loop_concat = pd.concat(list_billboard_df)\n",
    "print(billboard_loop_concat.shape)"
   ]
  },
  {
   "cell_type": "code",
   "execution_count": 52,
   "id": "536bcbfe",
   "metadata": {},
   "outputs": [],
   "source": [
    "from pathlib import Path\n",
    "billboard_data_files = sorted(list(Path(r'C:\\Users\\hpky0\\Desktop\\판다스\\data\\billboard-by_week').glob('billboard-*.csv')))\n",
    "\n",
    "list_billboard_df = []\n",
    "\n",
    "for csv_filename in billboard_data_files:\n",
    "    df = pd.read_csv(csv_filename)\n",
    "    list_billboard_df.append(df)\n",
    "    \n",
    "billboard_data_files = sorted(list(Path(r'C:\\Users\\hpky0\\Desktop\\판다스\\data\\billboard-by_week').glob('billboard-*.csv')))\n",
    "\n",
    "billboard_dfs = [pd.read_csv(data) for data in billboard_data_files]"
   ]
  },
  {
   "cell_type": "code",
   "execution_count": 53,
   "id": "cd114abd",
   "metadata": {},
   "outputs": [
    {
     "name": "stdout",
     "output_type": "stream",
     "text": [
      "<class 'list'>\n"
     ]
    }
   ],
   "source": [
    "print(type(billboard_dfs))"
   ]
  },
  {
   "cell_type": "code",
   "execution_count": 54,
   "id": "cfa12b45",
   "metadata": {},
   "outputs": [
    {
     "name": "stdout",
     "output_type": "stream",
     "text": [
      "76\n"
     ]
    }
   ],
   "source": [
    "print(len(billboard_dfs))"
   ]
  },
  {
   "cell_type": "code",
   "execution_count": 55,
   "id": "5cf03a2f",
   "metadata": {},
   "outputs": [
    {
     "name": "stdout",
     "output_type": "stream",
     "text": [
      "     year            artist                    track  time date.entered  week  \\\n",
      "0    2000             2 Pac  Baby Don't Cry (Keep...  4:22   2000-02-26   wk1   \n",
      "1    2000           2Ge+her  The Hardest Part Of ...  3:15   2000-09-02   wk1   \n",
      "2    2000      3 Doors Down               Kryptonite  3:53   2000-04-08   wk1   \n",
      "3    2000      3 Doors Down                    Loser  4:24   2000-10-21   wk1   \n",
      "4    2000          504 Boyz            Wobble Wobble  3:35   2000-04-15   wk1   \n",
      "..    ...               ...                      ...   ...          ...   ...   \n",
      "312  2000       Yankee Grey     Another Nine Minutes  3:10   2000-04-29  wk76   \n",
      "313  2000  Yearwood, Trisha          Real Live Woman  3:55   2000-04-01  wk76   \n",
      "314  2000   Ying Yang Twins  Whistle While You Tw...  4:19   2000-03-18  wk76   \n",
      "315  2000     Zombie Nation            Kernkraft 400  3:30   2000-09-02  wk76   \n",
      "316  2000   matchbox twenty                     Bent  4:12   2000-04-29  wk76   \n",
      "\n",
      "     rating  \n",
      "0      87.0  \n",
      "1      91.0  \n",
      "2      81.0  \n",
      "3      76.0  \n",
      "4      57.0  \n",
      "..      ...  \n",
      "312     NaN  \n",
      "313     NaN  \n",
      "314     NaN  \n",
      "315     NaN  \n",
      "316     NaN  \n",
      "\n",
      "[24092 rows x 7 columns]\n"
     ]
    }
   ],
   "source": [
    "billboard_concat_comp = pd.concat(billboard_dfs)\n",
    "print(billboard_concat_comp)"
   ]
  },
  {
   "cell_type": "markdown",
   "id": "24c9deff",
   "metadata": {},
   "source": [
    "# 7 - 4"
   ]
  },
  {
   "cell_type": "code",
   "execution_count": 56,
   "id": "fff19277",
   "metadata": {},
   "outputs": [
    {
     "name": "stdout",
     "output_type": "stream",
     "text": [
      "      ident   personal    family\n",
      "0      dyer    William      Dyer\n",
      "1        pb      Frank   Pabodie\n",
      "2      lake   Anderson      Lake\n",
      "3       roe  Valentina   Roerich\n",
      "4  danforth      Frank  Danforth\n"
     ]
    }
   ],
   "source": [
    "person = pd.read_csv('data/survey_person.csv')\n",
    "site = pd.read_csv('data/survey_site.csv')\n",
    "survey = pd.read_csv('data/survey_survey.csv')\n",
    "visited = pd.read_csv('data/survey_visited.csv')\n",
    "print(person)"
   ]
  },
  {
   "cell_type": "code",
   "execution_count": 57,
   "id": "9b450ee4",
   "metadata": {},
   "outputs": [
    {
     "name": "stdout",
     "output_type": "stream",
     "text": [
      "    name    lat    long\n",
      "0   DR-1 -49.85 -128.57\n",
      "1   DR-3 -47.15 -126.72\n",
      "2  MSK-4 -48.87 -123.40\n"
     ]
    }
   ],
   "source": [
    "print(site)"
   ]
  },
  {
   "cell_type": "code",
   "execution_count": 58,
   "id": "792a4d29",
   "metadata": {},
   "outputs": [
    {
     "name": "stdout",
     "output_type": "stream",
     "text": [
      "   ident   site       dated\n",
      "0    619   DR-1  1927-02-08\n",
      "1    622   DR-1  1927-02-10\n",
      "2    734   DR-3  1939-01-07\n",
      "3    735   DR-3  1930-01-12\n",
      "4    751   DR-3  1930-02-26\n",
      "5    752   DR-3         NaN\n",
      "6    837  MSK-4  1932-01-14\n",
      "7    844   DR-1  1932-03-22\n"
     ]
    }
   ],
   "source": [
    "print(visited)"
   ]
  },
  {
   "cell_type": "code",
   "execution_count": 59,
   "id": "44ab6885",
   "metadata": {},
   "outputs": [
    {
     "name": "stdout",
     "output_type": "stream",
     "text": [
      "    taken person quant  reading\n",
      "0     619   dyer   rad     9.82\n",
      "1     619   dyer   sal     0.13\n",
      "2     622   dyer   rad     7.80\n",
      "3     622   dyer   sal     0.09\n",
      "4     734     pb   rad     8.41\n",
      "5     734   lake   sal     0.05\n",
      "6     734     pb  temp   -21.50\n",
      "7     735     pb   rad     7.22\n",
      "8     735    NaN   sal     0.06\n",
      "9     735    NaN  temp   -26.00\n",
      "10    751     pb   rad     4.35\n",
      "11    751     pb  temp   -18.50\n",
      "12    751   lake   sal     0.10\n",
      "13    752   lake   rad     2.19\n",
      "14    752   lake   sal     0.09\n",
      "15    752   lake  temp   -16.00\n",
      "16    752    roe   sal    41.60\n",
      "17    837   lake   rad     1.46\n",
      "18    837   lake   sal     0.21\n",
      "19    837    roe   sal    22.50\n",
      "20    844    roe   rad    11.25\n"
     ]
    }
   ],
   "source": [
    "print(survey)"
   ]
  },
  {
   "cell_type": "code",
   "execution_count": 60,
   "id": "886f64a0",
   "metadata": {},
   "outputs": [
    {
     "name": "stdout",
     "output_type": "stream",
     "text": [
      "   ident   site       dated\n",
      "0    619   DR-1  1927-02-08\n",
      "2    734   DR-3  1939-01-07\n",
      "6    837  MSK-4  1932-01-14\n"
     ]
    }
   ],
   "source": [
    "visited_subset = visited.loc[[0, 2, 6], :]\n",
    "print(visited_subset)"
   ]
  },
  {
   "cell_type": "code",
   "execution_count": 62,
   "id": "55fe8ad4",
   "metadata": {},
   "outputs": [
    {
     "name": "stdout",
     "output_type": "stream",
     "text": [
      "site\n",
      "DR-1     1\n",
      "DR-3     1\n",
      "MSK-4    1\n",
      "Name: count, dtype: int64\n"
     ]
    }
   ],
   "source": [
    "print(visited_subset['site'].value_counts())"
   ]
  },
  {
   "cell_type": "code",
   "execution_count": 63,
   "id": "b522a13f",
   "metadata": {},
   "outputs": [
    {
     "name": "stdout",
     "output_type": "stream",
     "text": [
      "    name    lat    long  ident   site       dated\n",
      "0   DR-1 -49.85 -128.57    619   DR-1  1927-02-08\n",
      "1   DR-3 -47.15 -126.72    734   DR-3  1939-01-07\n",
      "2  MSK-4 -48.87 -123.40    837  MSK-4  1932-01-14\n"
     ]
    }
   ],
   "source": [
    "o2o_merge = site.merge(visited_subset, left_on = 'name', right_on = 'site')\n",
    "print(o2o_merge)"
   ]
  },
  {
   "cell_type": "code",
   "execution_count": 65,
   "id": "a053d99b",
   "metadata": {},
   "outputs": [
    {
     "name": "stdout",
     "output_type": "stream",
     "text": [
      "site\n",
      "DR-3     4\n",
      "DR-1     3\n",
      "MSK-4    1\n",
      "Name: count, dtype: int64\n"
     ]
    }
   ],
   "source": [
    "print(visited['site'].value_counts())"
   ]
  },
  {
   "cell_type": "code",
   "execution_count": 66,
   "id": "e79f38a0",
   "metadata": {},
   "outputs": [
    {
     "name": "stdout",
     "output_type": "stream",
     "text": [
      "    name    lat    long  ident   site       dated\n",
      "0   DR-1 -49.85 -128.57    619   DR-1  1927-02-08\n",
      "1   DR-1 -49.85 -128.57    622   DR-1  1927-02-10\n",
      "2   DR-1 -49.85 -128.57    844   DR-1  1932-03-22\n",
      "3   DR-3 -47.15 -126.72    734   DR-3  1939-01-07\n",
      "4   DR-3 -47.15 -126.72    735   DR-3  1930-01-12\n",
      "5   DR-3 -47.15 -126.72    751   DR-3  1930-02-26\n",
      "6   DR-3 -47.15 -126.72    752   DR-3         NaN\n",
      "7  MSK-4 -48.87 -123.40    837  MSK-4  1932-01-14\n"
     ]
    }
   ],
   "source": [
    "m2o_merge = site.merge(visited, left_on = 'name', right_on = 'site')\n",
    "print(m2o_merge)"
   ]
  },
  {
   "cell_type": "code",
   "execution_count": 67,
   "id": "2b1f88d1",
   "metadata": {},
   "outputs": [
    {
     "name": "stdout",
     "output_type": "stream",
     "text": [
      "   ident   personal   family  taken person quant  reading\n",
      "0   dyer    William     Dyer    619   dyer   rad     9.82\n",
      "1   dyer    William     Dyer    619   dyer   sal     0.13\n",
      "2   dyer    William     Dyer    622   dyer   rad     7.80\n",
      "3   dyer    William     Dyer    622   dyer   sal     0.09\n",
      "4     pb      Frank  Pabodie    734     pb   rad     8.41\n",
      "5     pb      Frank  Pabodie    734     pb  temp   -21.50\n",
      "6     pb      Frank  Pabodie    735     pb   rad     7.22\n",
      "7     pb      Frank  Pabodie    751     pb   rad     4.35\n",
      "8     pb      Frank  Pabodie    751     pb  temp   -18.50\n",
      "9   lake   Anderson     Lake    734   lake   sal     0.05\n",
      "10  lake   Anderson     Lake    751   lake   sal     0.10\n",
      "11  lake   Anderson     Lake    752   lake   rad     2.19\n",
      "12  lake   Anderson     Lake    752   lake   sal     0.09\n",
      "13  lake   Anderson     Lake    752   lake  temp   -16.00\n",
      "14  lake   Anderson     Lake    837   lake   rad     1.46\n",
      "15  lake   Anderson     Lake    837   lake   sal     0.21\n",
      "16   roe  Valentina  Roerich    752    roe   sal    41.60\n",
      "17   roe  Valentina  Roerich    837    roe   sal    22.50\n",
      "18   roe  Valentina  Roerich    844    roe   rad    11.25\n"
     ]
    }
   ],
   "source": [
    "ps = person.merge(survey, left_on = 'ident', right_on = 'person')\n",
    "vs = visited.merge(survey, left_on = 'ident', right_on = 'taken')\n",
    "print(ps)"
   ]
  },
  {
   "cell_type": "code",
   "execution_count": 68,
   "id": "e7a8d6fb",
   "metadata": {},
   "outputs": [
    {
     "name": "stdout",
     "output_type": "stream",
     "text": [
      "    ident   site       dated  taken person quant  reading\n",
      "0     619   DR-1  1927-02-08    619   dyer   rad     9.82\n",
      "1     619   DR-1  1927-02-08    619   dyer   sal     0.13\n",
      "2     622   DR-1  1927-02-10    622   dyer   rad     7.80\n",
      "3     622   DR-1  1927-02-10    622   dyer   sal     0.09\n",
      "4     734   DR-3  1939-01-07    734     pb   rad     8.41\n",
      "5     734   DR-3  1939-01-07    734   lake   sal     0.05\n",
      "6     734   DR-3  1939-01-07    734     pb  temp   -21.50\n",
      "7     735   DR-3  1930-01-12    735     pb   rad     7.22\n",
      "8     735   DR-3  1930-01-12    735    NaN   sal     0.06\n",
      "9     735   DR-3  1930-01-12    735    NaN  temp   -26.00\n",
      "10    751   DR-3  1930-02-26    751     pb   rad     4.35\n",
      "11    751   DR-3  1930-02-26    751     pb  temp   -18.50\n",
      "12    751   DR-3  1930-02-26    751   lake   sal     0.10\n",
      "13    752   DR-3         NaN    752   lake   rad     2.19\n",
      "14    752   DR-3         NaN    752   lake   sal     0.09\n",
      "15    752   DR-3         NaN    752   lake  temp   -16.00\n",
      "16    752   DR-3         NaN    752    roe   sal    41.60\n",
      "17    837  MSK-4  1932-01-14    837   lake   rad     1.46\n",
      "18    837  MSK-4  1932-01-14    837   lake   sal     0.21\n",
      "19    837  MSK-4  1932-01-14    837    roe   sal    22.50\n",
      "20    844   DR-1  1932-03-22    844    roe   rad    11.25\n"
     ]
    }
   ],
   "source": [
    "print(vs)"
   ]
  },
  {
   "cell_type": "code",
   "execution_count": 69,
   "id": "5ebd2041",
   "metadata": {},
   "outputs": [
    {
     "name": "stdout",
     "output_type": "stream",
     "text": [
      "quant\n",
      "rad     8\n",
      "sal     8\n",
      "temp    3\n",
      "Name: count, dtype: int64\n"
     ]
    }
   ],
   "source": [
    "print(ps['quant'].value_counts())"
   ]
  },
  {
   "cell_type": "code",
   "execution_count": 70,
   "id": "66d79bf1",
   "metadata": {},
   "outputs": [
    {
     "name": "stdout",
     "output_type": "stream",
     "text": [
      "quant\n",
      "sal     9\n",
      "rad     8\n",
      "temp    4\n",
      "Name: count, dtype: int64\n"
     ]
    }
   ],
   "source": [
    "print(vs['quant'].value_counts())"
   ]
  },
  {
   "cell_type": "code",
   "execution_count": 71,
   "id": "9e645f78",
   "metadata": {},
   "outputs": [],
   "source": [
    "ps_vs = ps.merge(\n",
    "    vs,\n",
    "    left_on = ['quant'],\n",
    "    right_on = ['quant'],\n",
    ")"
   ]
  },
  {
   "cell_type": "code",
   "execution_count": 72,
   "id": "d55ace98",
   "metadata": {},
   "outputs": [
    {
     "name": "stdout",
     "output_type": "stream",
     "text": [
      "ident_x            dyer\n",
      "personal        William\n",
      "family             Dyer\n",
      "taken_x             619\n",
      "person_x           dyer\n",
      "quant               rad\n",
      "reading_x          9.82\n",
      "ident_y             619\n",
      "site               DR-1\n",
      "dated        1927-02-08\n",
      "taken_y             619\n",
      "person_y           dyer\n",
      "reading_y          9.82\n",
      "Name: 0, dtype: object\n"
     ]
    }
   ],
   "source": [
    "print(ps_vs.loc[0, :])"
   ]
  },
  {
   "cell_type": "code",
   "execution_count": 73,
   "id": "48a8828d",
   "metadata": {},
   "outputs": [
    {
     "name": "stdout",
     "output_type": "stream",
     "text": [
      "(19, 7)\n"
     ]
    }
   ],
   "source": [
    "print(ps.shape)"
   ]
  },
  {
   "cell_type": "code",
   "execution_count": 74,
   "id": "246bf996",
   "metadata": {},
   "outputs": [
    {
     "name": "stdout",
     "output_type": "stream",
     "text": [
      "(21, 7)\n"
     ]
    }
   ],
   "source": [
    "print(vs.shape)"
   ]
  },
  {
   "cell_type": "code",
   "execution_count": 75,
   "id": "ba7c5694",
   "metadata": {},
   "outputs": [
    {
     "name": "stdout",
     "output_type": "stream",
     "text": [
      "(148, 13)\n"
     ]
    }
   ],
   "source": [
    "print(ps_vs.shape)"
   ]
  },
  {
   "cell_type": "code",
   "execution_count": 76,
   "id": "4ef3bb0e",
   "metadata": {},
   "outputs": [],
   "source": [
    "assert vs.shape[0] == 21"
   ]
  },
  {
   "cell_type": "code",
   "execution_count": 78,
   "id": "e91802b9",
   "metadata": {
    "scrolled": true
   },
   "outputs": [
    {
     "ename": "AssertionError",
     "evalue": "",
     "output_type": "error",
     "traceback": [
      "\u001b[1;31m---------------------------------------------------------------------------\u001b[0m",
      "\u001b[1;31mAssertionError\u001b[0m                            Traceback (most recent call last)",
      "Cell \u001b[1;32mIn[78], line 1\u001b[0m\n\u001b[1;32m----> 1\u001b[0m \u001b[38;5;28;01massert\u001b[39;00m ps_vs\u001b[38;5;241m.\u001b[39mshape[\u001b[38;5;241m0\u001b[39m] \u001b[38;5;241m<\u001b[39m\u001b[38;5;241m=\u001b[39m vs\u001b[38;5;241m.\u001b[39mshape[\u001b[38;5;241m0\u001b[39m]\n",
      "\u001b[1;31mAssertionError\u001b[0m: "
     ]
    }
   ],
   "source": [
    "assert ps_vs.shape[0] <= vs.shape[0]"
   ]
  },
  {
   "cell_type": "markdown",
   "id": "6c36ecd2",
   "metadata": {},
   "source": [
    "# 7 - 5"
   ]
  },
  {
   "cell_type": "code",
   "execution_count": 79,
   "id": "d95a8eac",
   "metadata": {},
   "outputs": [
    {
     "name": "stdout",
     "output_type": "stream",
     "text": [
      "       year            artist                    track  time date.entered  \\\n",
      "0      2000             2 Pac  Baby Don't Cry (Keep...  4:22   2000-02-26   \n",
      "1      2000           2Ge+her  The Hardest Part Of ...  3:15   2000-09-02   \n",
      "2      2000      3 Doors Down               Kryptonite  3:53   2000-04-08   \n",
      "3      2000      3 Doors Down                    Loser  4:24   2000-10-21   \n",
      "4      2000          504 Boyz            Wobble Wobble  3:35   2000-04-15   \n",
      "...     ...               ...                      ...   ...          ...   \n",
      "24087  2000       Yankee Grey     Another Nine Minutes  3:10   2000-04-29   \n",
      "24088  2000  Yearwood, Trisha          Real Live Woman  3:55   2000-04-01   \n",
      "24089  2000   Ying Yang Twins  Whistle While You Tw...  4:19   2000-03-18   \n",
      "24090  2000     Zombie Nation            Kernkraft 400  3:30   2000-09-02   \n",
      "24091  2000   matchbox twenty                     Bent  4:12   2000-04-29   \n",
      "\n",
      "       week  rating  \n",
      "0       wk1    87.0  \n",
      "1       wk1    91.0  \n",
      "2       wk1    81.0  \n",
      "3       wk1    76.0  \n",
      "4       wk1    57.0  \n",
      "...     ...     ...  \n",
      "24087  wk76     NaN  \n",
      "24088  wk76     NaN  \n",
      "24089  wk76     NaN  \n",
      "24090  wk76     NaN  \n",
      "24091  wk76     NaN  \n",
      "\n",
      "[24092 rows x 7 columns]\n"
     ]
    }
   ],
   "source": [
    "import pandas as pd\n",
    "\n",
    "billboard = pd.read_csv('data/billboard.csv')\n",
    "\n",
    "billboard_long = billboard.melt(\n",
    "    id_vars = ['year', 'artist', 'track', 'time', 'date.entered'],\n",
    "    var_name = 'week',\n",
    "    value_name = 'rating',\n",
    ")\n",
    "\n",
    "print(billboard_long)"
   ]
  },
  {
   "cell_type": "code",
   "execution_count": 80,
   "id": "55ae935e",
   "metadata": {},
   "outputs": [
    {
     "name": "stdout",
     "output_type": "stream",
     "text": [
      "       year        artist  track  time date.entered  week  rating\n",
      "3      2000  3 Doors Down  Loser  4:24   2000-10-21   wk1    76.0\n",
      "320    2000  3 Doors Down  Loser  4:24   2000-10-21   wk2    76.0\n",
      "637    2000  3 Doors Down  Loser  4:24   2000-10-21   wk3    72.0\n",
      "954    2000  3 Doors Down  Loser  4:24   2000-10-21   wk4    69.0\n",
      "1271   2000  3 Doors Down  Loser  4:24   2000-10-21   wk5    67.0\n",
      "...     ...           ...    ...   ...          ...   ...     ...\n",
      "22510  2000  3 Doors Down  Loser  4:24   2000-10-21  wk72     NaN\n",
      "22827  2000  3 Doors Down  Loser  4:24   2000-10-21  wk73     NaN\n",
      "23144  2000  3 Doors Down  Loser  4:24   2000-10-21  wk74     NaN\n",
      "23461  2000  3 Doors Down  Loser  4:24   2000-10-21  wk75     NaN\n",
      "23778  2000  3 Doors Down  Loser  4:24   2000-10-21  wk76     NaN\n",
      "\n",
      "[76 rows x 7 columns]\n"
     ]
    }
   ],
   "source": [
    "print(billboard_long.loc[billboard_long.track == 'Loser'])"
   ]
  },
  {
   "cell_type": "code",
   "execution_count": 81,
   "id": "eb0136c1",
   "metadata": {},
   "outputs": [
    {
     "name": "stdout",
     "output_type": "stream",
     "text": [
      "(24092, 5)\n"
     ]
    }
   ],
   "source": [
    "billboard_songs = billboard_long[\n",
    "    ['year', 'artist', 'track', 'time', 'date.entered']\n",
    "]\n",
    "print(billboard_songs.shape)"
   ]
  },
  {
   "cell_type": "code",
   "execution_count": 83,
   "id": "c850bbbb",
   "metadata": {},
   "outputs": [
    {
     "name": "stdout",
     "output_type": "stream",
     "text": [
      "(317, 5)\n"
     ]
    }
   ],
   "source": [
    "billboard_songs = billboard_songs.drop_duplicates()\n",
    "print(billboard_songs.shape)"
   ]
  },
  {
   "cell_type": "code",
   "execution_count": 84,
   "id": "bbaa495f",
   "metadata": {},
   "outputs": [
    {
     "name": "stdout",
     "output_type": "stream",
     "text": [
      "     year            artist                    track  time date.entered   id\n",
      "0    2000             2 Pac  Baby Don't Cry (Keep...  4:22   2000-02-26    1\n",
      "1    2000           2Ge+her  The Hardest Part Of ...  3:15   2000-09-02    2\n",
      "2    2000      3 Doors Down               Kryptonite  3:53   2000-04-08    3\n",
      "3    2000      3 Doors Down                    Loser  4:24   2000-10-21    4\n",
      "4    2000          504 Boyz            Wobble Wobble  3:35   2000-04-15    5\n",
      "..    ...               ...                      ...   ...          ...  ...\n",
      "312  2000       Yankee Grey     Another Nine Minutes  3:10   2000-04-29  313\n",
      "313  2000  Yearwood, Trisha          Real Live Woman  3:55   2000-04-01  314\n",
      "314  2000   Ying Yang Twins  Whistle While You Tw...  4:19   2000-03-18  315\n",
      "315  2000     Zombie Nation            Kernkraft 400  3:30   2000-09-02  316\n",
      "316  2000   matchbox twenty                     Bent  4:12   2000-04-29  317\n",
      "\n",
      "[317 rows x 6 columns]\n"
     ]
    }
   ],
   "source": [
    "billboard_songs['id'] = billboard_songs.index + 1\n",
    "print(billboard_songs)"
   ]
  },
  {
   "cell_type": "code",
   "execution_count": 85,
   "id": "46f4b9e0",
   "metadata": {},
   "outputs": [
    {
     "name": "stdout",
     "output_type": "stream",
     "text": [
      "(24092, 8)\n"
     ]
    }
   ],
   "source": [
    "billboard_ratings = billboard_long.merge(\n",
    "    billboard_songs, on = ['year', 'artist', 'track', 'time', 'date.entered']\n",
    ")\n",
    "print(billboard_ratings.shape)"
   ]
  },
  {
   "cell_type": "code",
   "execution_count": 86,
   "id": "7411fa18",
   "metadata": {},
   "outputs": [
    {
     "name": "stdout",
     "output_type": "stream",
     "text": [
      "       year           artist                    track  time date.entered  \\\n",
      "0      2000            2 Pac  Baby Don't Cry (Keep...  4:22   2000-02-26   \n",
      "1      2000            2 Pac  Baby Don't Cry (Keep...  4:22   2000-02-26   \n",
      "2      2000            2 Pac  Baby Don't Cry (Keep...  4:22   2000-02-26   \n",
      "3      2000            2 Pac  Baby Don't Cry (Keep...  4:22   2000-02-26   \n",
      "4      2000            2 Pac  Baby Don't Cry (Keep...  4:22   2000-02-26   \n",
      "...     ...              ...                      ...   ...          ...   \n",
      "24087  2000  matchbox twenty                     Bent  4:12   2000-04-29   \n",
      "24088  2000  matchbox twenty                     Bent  4:12   2000-04-29   \n",
      "24089  2000  matchbox twenty                     Bent  4:12   2000-04-29   \n",
      "24090  2000  matchbox twenty                     Bent  4:12   2000-04-29   \n",
      "24091  2000  matchbox twenty                     Bent  4:12   2000-04-29   \n",
      "\n",
      "       week  rating   id  \n",
      "0       wk1    87.0    1  \n",
      "1       wk2    82.0    1  \n",
      "2       wk3    72.0    1  \n",
      "3       wk4    77.0    1  \n",
      "4       wk5    87.0    1  \n",
      "...     ...     ...  ...  \n",
      "24087  wk72     NaN  317  \n",
      "24088  wk73     NaN  317  \n",
      "24089  wk74     NaN  317  \n",
      "24090  wk75     NaN  317  \n",
      "24091  wk76     NaN  317  \n",
      "\n",
      "[24092 rows x 8 columns]\n"
     ]
    }
   ],
   "source": [
    "print(billboard_ratings)"
   ]
  },
  {
   "cell_type": "code",
   "execution_count": 88,
   "id": "70563e82",
   "metadata": {},
   "outputs": [
    {
     "name": "stdout",
     "output_type": "stream",
     "text": [
      "        id  week  rating\n",
      "0        1   wk1    87.0\n",
      "1        1   wk2    82.0\n",
      "2        1   wk3    72.0\n",
      "3        1   wk4    77.0\n",
      "4        1   wk5    87.0\n",
      "...    ...   ...     ...\n",
      "24087  317  wk72     NaN\n",
      "24088  317  wk73     NaN\n",
      "24089  317  wk74     NaN\n",
      "24090  317  wk75     NaN\n",
      "24091  317  wk76     NaN\n",
      "\n",
      "[24092 rows x 3 columns]\n"
     ]
    }
   ],
   "source": [
    "billboard_ratings = billboard_ratings[\n",
    "    ['id', 'week', 'rating']\n",
    "]\n",
    "print(billboard_ratings)"
   ]
  }
 ],
 "metadata": {
  "kernelspec": {
   "display_name": "Python 3 (ipykernel)",
   "language": "python",
   "name": "python3"
  },
  "language_info": {
   "codemirror_mode": {
    "name": "ipython",
    "version": 3
   },
   "file_extension": ".py",
   "mimetype": "text/x-python",
   "name": "python",
   "nbconvert_exporter": "python",
   "pygments_lexer": "ipython3",
   "version": "3.11.5"
  }
 },
 "nbformat": 4,
 "nbformat_minor": 5
}
