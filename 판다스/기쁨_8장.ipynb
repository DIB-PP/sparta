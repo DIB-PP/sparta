{
 "cells": [
  {
   "cell_type": "markdown",
   "id": "4420bb07",
   "metadata": {},
   "source": [
    "# 8 - 1"
   ]
  },
  {
   "cell_type": "code",
   "execution_count": 1,
   "id": "95781a22",
   "metadata": {},
   "outputs": [],
   "source": [
    "import pandas as pd\n",
    "\n",
    "df = pd.read_csv('data/gapminder.tsv', sep = '\\t')"
   ]
  },
  {
   "cell_type": "code",
   "execution_count": 2,
   "id": "7e4f2b08",
   "metadata": {},
   "outputs": [
    {
     "name": "stdout",
     "output_type": "stream",
     "text": [
      "year\n",
      "1952    49.057620\n",
      "1957    51.507401\n",
      "1962    53.609249\n",
      "1967    55.678290\n",
      "1972    57.647386\n",
      "1977    59.570157\n",
      "1982    61.533197\n",
      "1987    63.212613\n",
      "1992    64.160338\n",
      "1997    65.014676\n",
      "2002    65.694923\n",
      "2007    67.007423\n",
      "Name: lifeExp, dtype: float64\n"
     ]
    }
   ],
   "source": [
    "avg_life_exp_by_year = df.groupby('year')['lifeExp'].mean()\n",
    "print(avg_life_exp_by_year)"
   ]
  },
  {
   "cell_type": "code",
   "execution_count": 3,
   "id": "c0a2cc2b",
   "metadata": {},
   "outputs": [
    {
     "name": "stdout",
     "output_type": "stream",
     "text": [
      "[1952 1957 1962 1967 1972 1977 1982 1987 1992 1997 2002 2007]\n"
     ]
    }
   ],
   "source": [
    "years = df.year.unique()\n",
    "print(years)"
   ]
  },
  {
   "cell_type": "code",
   "execution_count": 4,
   "id": "30d1cb78",
   "metadata": {},
   "outputs": [
    {
     "name": "stdout",
     "output_type": "stream",
     "text": [
      "                 country continent  year  lifeExp       pop    gdpPercap\n",
      "0            Afghanistan      Asia  1952   28.801   8425333   779.445314\n",
      "12               Albania    Europe  1952   55.230   1282697  1601.056136\n",
      "24               Algeria    Africa  1952   43.077   9279525  2449.008185\n",
      "36                Angola    Africa  1952   30.015   4232095  3520.610273\n",
      "48             Argentina  Americas  1952   62.485  17876956  5911.315053\n",
      "...                  ...       ...   ...      ...       ...          ...\n",
      "1644             Vietnam      Asia  1952   40.412  26246839   605.066492\n",
      "1656  West Bank and Gaza      Asia  1952   43.160   1030585  1515.592329\n",
      "1668         Yemen, Rep.      Asia  1952   32.548   4963829   781.717576\n",
      "1680              Zambia    Africa  1952   42.038   2672000  1147.388831\n",
      "1692            Zimbabwe    Africa  1952   48.451   3080907   406.884115\n",
      "\n",
      "[142 rows x 6 columns]\n"
     ]
    }
   ],
   "source": [
    "y1952 = df.loc[df.year == 1952, :]\n",
    "print(y1952)"
   ]
  },
  {
   "cell_type": "code",
   "execution_count": 5,
   "id": "7dddc3be",
   "metadata": {},
   "outputs": [
    {
     "name": "stdout",
     "output_type": "stream",
     "text": [
      "49.057619718309866\n"
     ]
    }
   ],
   "source": [
    "y1952_mean = y1952['lifeExp'].mean()\n",
    "print(y1952_mean)"
   ]
  },
  {
   "cell_type": "code",
   "execution_count": 6,
   "id": "73d938cd",
   "metadata": {},
   "outputs": [
    {
     "name": "stdout",
     "output_type": "stream",
     "text": [
      "           count       mean        std     min       25%      50%       75%  \\\n",
      "continent                                                                     \n",
      "Africa     624.0  48.865330   9.150210  23.599  42.37250  47.7920  54.41150   \n",
      "Americas   300.0  64.658737   9.345088  37.579  58.41000  67.0480  71.69950   \n",
      "Asia       396.0  60.064903  11.864532  28.801  51.42625  61.7915  69.50525   \n",
      "Europe     360.0  71.903686   5.433178  43.585  69.57000  72.2410  75.45050   \n",
      "Oceania     24.0  74.326208   3.795611  69.120  71.20500  73.6650  77.55250   \n",
      "\n",
      "              max  \n",
      "continent          \n",
      "Africa     76.442  \n",
      "Americas   80.653  \n",
      "Asia       82.603  \n",
      "Europe     81.757  \n",
      "Oceania    81.235  \n"
     ]
    }
   ],
   "source": [
    "continent_describe = df.groupby('continent')['lifeExp'].describe()\n",
    "print(continent_describe)"
   ]
  },
  {
   "cell_type": "code",
   "execution_count": 7,
   "id": "e256ce87",
   "metadata": {},
   "outputs": [
    {
     "name": "stdout",
     "output_type": "stream",
     "text": [
      "continent\n",
      "Africa      48.865330\n",
      "Americas    64.658737\n",
      "Asia        60.064903\n",
      "Europe      71.903686\n",
      "Oceania     74.326208\n",
      "Name: lifeExp, dtype: float64\n"
     ]
    }
   ],
   "source": [
    "import numpy as np\n",
    "\n",
    "cont_le_agg = df.groupby('continent')['lifeExp'].agg(np.mean)\n",
    "print(cont_le_agg)"
   ]
  },
  {
   "cell_type": "code",
   "execution_count": 10,
   "id": "6940e3d6",
   "metadata": {},
   "outputs": [],
   "source": [
    "def my_mean(values):\n",
    "    n = len(values)\n",
    "    sum = 0\n",
    "    for value in values:\n",
    "        sum += value\n",
    "    return sum / n"
   ]
  },
  {
   "cell_type": "code",
   "execution_count": 11,
   "id": "a4cf5920",
   "metadata": {},
   "outputs": [
    {
     "name": "stdout",
     "output_type": "stream",
     "text": [
      "year\n",
      "1952    49.057620\n",
      "1957    51.507401\n",
      "1962    53.609249\n",
      "1967    55.678290\n",
      "1972    57.647386\n",
      "1977    59.570157\n",
      "1982    61.533197\n",
      "1987    63.212613\n",
      "1992    64.160338\n",
      "1997    65.014676\n",
      "2002    65.694923\n",
      "2007    67.007423\n",
      "Name: lifeExp, dtype: float64\n"
     ]
    }
   ],
   "source": [
    "agg_my_mean = df.groupby('year')['lifeExp'].agg(my_mean)\n",
    "print(agg_my_mean)"
   ]
  },
  {
   "cell_type": "code",
   "execution_count": 12,
   "id": "a48551ce",
   "metadata": {},
   "outputs": [],
   "source": [
    "def my_mean_diff(values, diff_value):\n",
    "    n = len(values)\n",
    "    sum = 0\n",
    "    for value in values:\n",
    "        sum += value\n",
    "    mean = sum / n\n",
    "    return(mean - diff_value)"
   ]
  },
  {
   "cell_type": "code",
   "execution_count": 13,
   "id": "e0726a97",
   "metadata": {},
   "outputs": [
    {
     "name": "stdout",
     "output_type": "stream",
     "text": [
      "59.474439366197174\n"
     ]
    }
   ],
   "source": [
    "global_mean = df['lifeExp'].mean()\n",
    "print(global_mean)"
   ]
  },
  {
   "cell_type": "code",
   "execution_count": 14,
   "id": "6f1b6148",
   "metadata": {},
   "outputs": [
    {
     "name": "stdout",
     "output_type": "stream",
     "text": [
      "year\n",
      "1952   -10.416820\n",
      "1957    -7.967038\n",
      "1962    -5.865190\n",
      "1967    -3.796150\n",
      "1972    -1.827053\n",
      "1977     0.095718\n",
      "1982     2.058758\n",
      "1987     3.738173\n",
      "1992     4.685899\n",
      "1997     5.540237\n",
      "2002     6.220483\n",
      "2007     7.532983\n",
      "Name: lifeExp, dtype: float64\n"
     ]
    }
   ],
   "source": [
    "agg_mean_diff = (\n",
    "    df\n",
    "    .groupby('year')\n",
    "    ['lifeExp']\n",
    "    .agg(my_mean_diff, diff_value = global_mean)\n",
    ")\n",
    "\n",
    "print(agg_mean_diff)\n"
   ]
  },
  {
   "cell_type": "code",
   "execution_count": 15,
   "id": "215e8895",
   "metadata": {},
   "outputs": [
    {
     "name": "stdout",
     "output_type": "stream",
     "text": [
      "      count_nonzero       mean        std\n",
      "year                                     \n",
      "1952            142  49.057620  12.225956\n",
      "1957            142  51.507401  12.231286\n",
      "1962            142  53.609249  12.097245\n",
      "1967            142  55.678290  11.718858\n",
      "1972            142  57.647386  11.381953\n",
      "1977            142  59.570157  11.227229\n",
      "1982            142  61.533197  10.770618\n",
      "1987            142  63.212613  10.556285\n",
      "1992            142  64.160338  11.227380\n",
      "1997            142  65.014676  11.559439\n",
      "2002            142  65.694923  12.279823\n",
      "2007            142  67.007423  12.073021\n"
     ]
    }
   ],
   "source": [
    "gdf = (\n",
    "    df\n",
    "    .groupby('year')\n",
    "    ['lifeExp']\n",
    "    .agg([np.count_nonzero, np.mean, np.std])\n",
    ")\n",
    "\n",
    "print(gdf)"
   ]
  },
  {
   "cell_type": "code",
   "execution_count": 16,
   "id": "5562cd4c",
   "metadata": {},
   "outputs": [
    {
     "name": "stdout",
     "output_type": "stream",
     "text": [
      "        lifeExp         pop    gdpPercap\n",
      "year                                    \n",
      "1952  49.057620   3943953.0  1968.528344\n",
      "1957  51.507401   4282942.0  2173.220291\n",
      "1962  53.609249   4686039.5  2335.439533\n",
      "1967  55.678290   5170175.5  2678.334740\n",
      "1972  57.647386   5877996.5  3339.129407\n",
      "1977  59.570157   6404036.5  3798.609244\n",
      "1982  61.533197   7007320.0  4216.228428\n",
      "1987  63.212613   7774861.5  4280.300366\n",
      "1992  64.160338   8688686.5  4386.085502\n",
      "1997  65.014676   9735063.5  4781.825478\n",
      "2002  65.694923  10372918.5  5319.804524\n",
      "2007  67.007423  10517531.0  6124.371108\n"
     ]
    }
   ],
   "source": [
    "gdf_dict = df.groupby('year').agg(\n",
    "    {\n",
    "        'lifeExp' : 'mean',\n",
    "        'pop' : 'median',\n",
    "        'gdpPercap' : 'median'\n",
    "    }\n",
    ")\n",
    "\n",
    "print(gdf_dict)"
   ]
  },
  {
   "cell_type": "code",
   "execution_count": 17,
   "id": "a2f1fa2f",
   "metadata": {},
   "outputs": [
    {
     "name": "stdout",
     "output_type": "stream",
     "text": [
      "    year  count        avg    ste_dev\n",
      "0   1952    142  49.057620  12.225956\n",
      "1   1957    142  51.507401  12.231286\n",
      "2   1962    142  53.609249  12.097245\n",
      "3   1967    142  55.678290  11.718858\n",
      "4   1972    142  57.647386  11.381953\n",
      "5   1977    142  59.570157  11.227229\n",
      "6   1982    142  61.533197  10.770618\n",
      "7   1987    142  63.212613  10.556285\n",
      "8   1992    142  64.160338  11.227380\n",
      "9   1997    142  65.014676  11.559439\n",
      "10  2002    142  65.694923  12.279823\n",
      "11  2007    142  67.007423  12.073021\n"
     ]
    }
   ],
   "source": [
    "gdf = (\n",
    "    df\n",
    "    .groupby('year')\n",
    "    ['lifeExp']\n",
    "    .agg(\n",
    "        [\n",
    "            np.count_nonzero,\n",
    "            np.mean,\n",
    "            np.std,\n",
    "        ]\n",
    "    )\n",
    "    .rename(\n",
    "        columns = {\n",
    "            'count_nonzero' : 'count',\n",
    "            'mean' : 'avg',\n",
    "            'std' : 'ste_dev',\n",
    "        }\n",
    "    )\n",
    "    .reset_index()\n",
    ")\n",
    "\n",
    "print(gdf)"
   ]
  },
  {
   "cell_type": "markdown",
   "id": "bed376c7",
   "metadata": {},
   "source": [
    "# 8 - 2"
   ]
  },
  {
   "cell_type": "code",
   "execution_count": 18,
   "id": "00e1fddc",
   "metadata": {},
   "outputs": [],
   "source": [
    "def my_zscore(x):\n",
    "    return((x - x.mean() / x.std()))"
   ]
  },
  {
   "cell_type": "code",
   "execution_count": 19,
   "id": "a82370e6",
   "metadata": {},
   "outputs": [
    {
     "name": "stdout",
     "output_type": "stream",
     "text": [
      "0       24.788420\n",
      "1       26.120881\n",
      "2       27.565475\n",
      "3       29.268830\n",
      "4       31.023194\n",
      "          ...    \n",
      "1699    56.362851\n",
      "1700    54.662368\n",
      "1701    41.184620\n",
      "1702    34.639173\n",
      "1703    37.936821\n",
      "Name: lifeExp, Length: 1704, dtype: float64\n"
     ]
    }
   ],
   "source": [
    "transform_z = df.groupby('year')['lifeExp'].transform(my_zscore)\n",
    "print(transform_z)"
   ]
  },
  {
   "cell_type": "code",
   "execution_count": 20,
   "id": "67b728c8",
   "metadata": {},
   "outputs": [
    {
     "name": "stdout",
     "output_type": "stream",
     "text": [
      "(1704, 6)\n"
     ]
    }
   ],
   "source": [
    "print(df.shape)"
   ]
  },
  {
   "cell_type": "code",
   "execution_count": 21,
   "id": "ca9471b1",
   "metadata": {},
   "outputs": [
    {
     "name": "stdout",
     "output_type": "stream",
     "text": [
      "(1704,)\n"
     ]
    }
   ],
   "source": [
    "print(transform_z.shape)"
   ]
  },
  {
   "cell_type": "code",
   "execution_count": 22,
   "id": "91ba6d1d",
   "metadata": {},
   "outputs": [],
   "source": [
    "from scipy.stats import zscore"
   ]
  },
  {
   "cell_type": "code",
   "execution_count": 23,
   "id": "4a7ff2df",
   "metadata": {},
   "outputs": [],
   "source": [
    "sp_z_grouped = df.groupby('year')['lifeExp'].transform(zscore)"
   ]
  },
  {
   "cell_type": "code",
   "execution_count": 25,
   "id": "bd14e20b",
   "metadata": {},
   "outputs": [],
   "source": [
    "sp_z_nogroup = zscore(df['lifeExp'])"
   ]
  },
  {
   "cell_type": "code",
   "execution_count": 26,
   "id": "bd471729",
   "metadata": {},
   "outputs": [
    {
     "name": "stdout",
     "output_type": "stream",
     "text": [
      "0    24.788420\n",
      "1    26.120881\n",
      "2    27.565475\n",
      "3    29.268830\n",
      "4    31.023194\n",
      "Name: lifeExp, dtype: float64\n"
     ]
    }
   ],
   "source": [
    "print(transform_z.head())"
   ]
  },
  {
   "cell_type": "code",
   "execution_count": 28,
   "id": "67281ec3",
   "metadata": {},
   "outputs": [
    {
     "name": "stdout",
     "output_type": "stream",
     "text": [
      "0   -1.662719\n",
      "1   -1.737377\n",
      "2   -1.792867\n",
      "3   -1.854699\n",
      "4   -1.900878\n",
      "Name: lifeExp, dtype: float64\n"
     ]
    }
   ],
   "source": [
    "print(sp_z_grouped.head())"
   ]
  },
  {
   "cell_type": "code",
   "execution_count": 29,
   "id": "b633bbbf",
   "metadata": {},
   "outputs": [],
   "source": [
    "import seaborn as sns\n",
    "import numpy as np\n",
    "\n",
    "np.random.seed(42)\n",
    "\n",
    "tips_10 = sns.load_dataset('tips').sample(10)"
   ]
  },
  {
   "cell_type": "code",
   "execution_count": 31,
   "id": "50d3885a",
   "metadata": {},
   "outputs": [
    {
     "name": "stdout",
     "output_type": "stream",
     "text": [
      "     total_bill   tip     sex smoker   day    time  size\n",
      "24        19.82  3.18    Male     No   Sat  Dinner     2\n",
      "6          8.77  2.00    Male     No   Sun  Dinner     2\n",
      "153         NaN  2.00    Male     No   Sun  Dinner     4\n",
      "211         NaN  5.16    Male    Yes   Sat  Dinner     4\n",
      "198         NaN  2.00  Female    Yes  Thur   Lunch     2\n",
      "176         NaN  2.00    Male    Yes   Sun  Dinner     2\n",
      "192       28.44  2.56    Male    Yes  Thur   Lunch     2\n",
      "124       12.48  2.52  Female     No  Thur   Lunch     2\n",
      "9         14.78  3.23    Male     No   Sun  Dinner     2\n",
      "101       15.38  3.00  Female    Yes   Fri  Dinner     2\n"
     ]
    }
   ],
   "source": [
    "tips_10.loc[\n",
    "    np.random.permutation(tips_10.index)[:4],\n",
    "    'total_bill'\n",
    "] = np.NaN\n",
    "\n",
    "print(tips_10)"
   ]
  },
  {
   "cell_type": "code",
   "execution_count": 32,
   "id": "fee39c20",
   "metadata": {},
   "outputs": [
    {
     "name": "stdout",
     "output_type": "stream",
     "text": [
      "        total_bill  tip  smoker  day  time  size\n",
      "sex                                             \n",
      "Male             4    7       7    7     7     7\n",
      "Female           2    3       3    3     3     3\n"
     ]
    }
   ],
   "source": [
    "count_sex = tips_10.groupby('sex').count()\n",
    "print(count_sex)"
   ]
  },
  {
   "cell_type": "code",
   "execution_count": 34,
   "id": "4edddec9",
   "metadata": {},
   "outputs": [],
   "source": [
    "def fill_na_mean(x):\n",
    "    avg = x.mean()\n",
    "    return x.fillna(avg)\n",
    "\n",
    "total_bill_group_mean = (\n",
    "    tips_10\n",
    "    .groupby('sex')\n",
    "    .total_bill\n",
    "    .transform(fill_na_mean)\n",
    ")"
   ]
  },
  {
   "cell_type": "code",
   "execution_count": 35,
   "id": "5268ab5d",
   "metadata": {},
   "outputs": [],
   "source": [
    "tips_10['fill_total_bill'] = total_bill_group_mean"
   ]
  },
  {
   "cell_type": "code",
   "execution_count": 36,
   "id": "b1a09719",
   "metadata": {},
   "outputs": [
    {
     "name": "stdout",
     "output_type": "stream",
     "text": [
      "        sex  total_bill  fill_total_bill\n",
      "24     Male       19.82          19.8200\n",
      "6      Male        8.77           8.7700\n",
      "153    Male         NaN          17.9525\n",
      "211    Male         NaN          17.9525\n",
      "198  Female         NaN          13.9300\n",
      "176    Male         NaN          17.9525\n",
      "192    Male       28.44          28.4400\n",
      "124  Female       12.48          12.4800\n",
      "9      Male       14.78          14.7800\n",
      "101  Female       15.38          15.3800\n"
     ]
    }
   ],
   "source": [
    "print(tips_10[['sex', 'total_bill', 'fill_total_bill']])"
   ]
  },
  {
   "cell_type": "markdown",
   "id": "71484ba6",
   "metadata": {},
   "source": [
    "# 8 - 3"
   ]
  },
  {
   "cell_type": "code",
   "execution_count": 37,
   "id": "462511d0",
   "metadata": {},
   "outputs": [
    {
     "name": "stdout",
     "output_type": "stream",
     "text": [
      "(244, 7)\n"
     ]
    }
   ],
   "source": [
    "tips = sns.load_dataset('tips')\n",
    "print(tips.shape)"
   ]
  },
  {
   "cell_type": "code",
   "execution_count": 38,
   "id": "cc3cba28",
   "metadata": {},
   "outputs": [
    {
     "name": "stdout",
     "output_type": "stream",
     "text": [
      "size\n",
      "2    156\n",
      "3     38\n",
      "4     37\n",
      "5      5\n",
      "1      4\n",
      "6      4\n",
      "Name: count, dtype: int64\n"
     ]
    }
   ],
   "source": [
    "print(tips['size'].value_counts())"
   ]
  },
  {
   "cell_type": "code",
   "execution_count": 39,
   "id": "926c172a",
   "metadata": {},
   "outputs": [],
   "source": [
    "tips_filtered = (\n",
    "    tips\n",
    "    .groupby('size')\n",
    "    .filter(lambda x : x['size'].count() > 30)\n",
    ")"
   ]
  },
  {
   "cell_type": "code",
   "execution_count": 40,
   "id": "ba279aa0",
   "metadata": {},
   "outputs": [
    {
     "name": "stdout",
     "output_type": "stream",
     "text": [
      "(231, 7)\n"
     ]
    }
   ],
   "source": [
    "print(tips_filtered.shape)"
   ]
  },
  {
   "cell_type": "code",
   "execution_count": 41,
   "id": "76985db0",
   "metadata": {},
   "outputs": [
    {
     "name": "stdout",
     "output_type": "stream",
     "text": [
      "size\n",
      "2    156\n",
      "3     38\n",
      "4     37\n",
      "Name: count, dtype: int64\n"
     ]
    }
   ],
   "source": [
    "print(tips_filtered['size'].value_counts())"
   ]
  },
  {
   "cell_type": "markdown",
   "id": "338d253a",
   "metadata": {},
   "source": [
    "# 8 - 4"
   ]
  },
  {
   "cell_type": "code",
   "execution_count": 42,
   "id": "067e3934",
   "metadata": {},
   "outputs": [
    {
     "name": "stdout",
     "output_type": "stream",
     "text": [
      "     total_bill   tip     sex smoker   day    time  size\n",
      "24        19.82  3.18    Male     No   Sat  Dinner     2\n",
      "6          8.77  2.00    Male     No   Sun  Dinner     2\n",
      "153       24.55  2.00    Male     No   Sun  Dinner     4\n",
      "211       25.89  5.16    Male    Yes   Sat  Dinner     4\n",
      "198       13.00  2.00  Female    Yes  Thur   Lunch     2\n",
      "176       17.89  2.00    Male    Yes   Sun  Dinner     2\n",
      "192       28.44  2.56    Male    Yes  Thur   Lunch     2\n",
      "124       12.48  2.52  Female     No  Thur   Lunch     2\n",
      "9         14.78  3.23    Male     No   Sun  Dinner     2\n",
      "101       15.38  3.00  Female    Yes   Fri  Dinner     2\n"
     ]
    }
   ],
   "source": [
    "tips_10 = sns.load_dataset('tips').sample(10, random_state = 42)\n",
    "print(tips_10)"
   ]
  },
  {
   "cell_type": "code",
   "execution_count": 43,
   "id": "9ab7eea6",
   "metadata": {},
   "outputs": [
    {
     "name": "stdout",
     "output_type": "stream",
     "text": [
      "<pandas.core.groupby.generic.DataFrameGroupBy object at 0x0000015BCA0FE750>\n"
     ]
    }
   ],
   "source": [
    "grouped = tips_10.groupby('sex')\n",
    "print(grouped)"
   ]
  },
  {
   "cell_type": "code",
   "execution_count": 44,
   "id": "300aae05",
   "metadata": {},
   "outputs": [
    {
     "name": "stdout",
     "output_type": "stream",
     "text": [
      "{'Male': [24, 6, 153, 211, 176, 192, 9], 'Female': [198, 124, 101]}\n"
     ]
    }
   ],
   "source": [
    "print(grouped.groups)"
   ]
  },
  {
   "cell_type": "code",
   "execution_count": 45,
   "id": "326eedff",
   "metadata": {},
   "outputs": [
    {
     "name": "stdout",
     "output_type": "stream",
     "text": [
      "        total_bill       tip      size\n",
      "sex                                   \n",
      "Male         20.02  2.875714  2.571429\n",
      "Female       13.62  2.506667  2.000000\n"
     ]
    }
   ],
   "source": [
    "avgs = grouped.mean(numeric_only = True)\n",
    "print(avgs)"
   ]
  },
  {
   "cell_type": "code",
   "execution_count": 46,
   "id": "94ca2f82",
   "metadata": {},
   "outputs": [
    {
     "name": "stdout",
     "output_type": "stream",
     "text": [
      "Index(['total_bill', 'tip', 'sex', 'smoker', 'day', 'time', 'size'], dtype='object')\n"
     ]
    }
   ],
   "source": [
    "print(tips_10.columns)"
   ]
  },
  {
   "cell_type": "code",
   "execution_count": 47,
   "id": "6e6262a6",
   "metadata": {},
   "outputs": [
    {
     "name": "stdout",
     "output_type": "stream",
     "text": [
      "     total_bill   tip     sex smoker   day    time  size\n",
      "198       13.00  2.00  Female    Yes  Thur   Lunch     2\n",
      "124       12.48  2.52  Female     No  Thur   Lunch     2\n",
      "101       15.38  3.00  Female    Yes   Fri  Dinner     2\n"
     ]
    }
   ],
   "source": [
    "female = grouped.get_group('Female')\n",
    "print(female)"
   ]
  },
  {
   "cell_type": "code",
   "execution_count": 48,
   "id": "99d18b03",
   "metadata": {},
   "outputs": [
    {
     "name": "stdout",
     "output_type": "stream",
     "text": [
      "('Male',      total_bill   tip   sex smoker   day    time  size\n",
      "24        19.82  3.18  Male     No   Sat  Dinner     2\n",
      "6          8.77  2.00  Male     No   Sun  Dinner     2\n",
      "153       24.55  2.00  Male     No   Sun  Dinner     4\n",
      "211       25.89  5.16  Male    Yes   Sat  Dinner     4\n",
      "176       17.89  2.00  Male    Yes   Sun  Dinner     2\n",
      "192       28.44  2.56  Male    Yes  Thur   Lunch     2\n",
      "9         14.78  3.23  Male     No   Sun  Dinner     2)\n",
      "('Female',      total_bill   tip     sex smoker   day    time  size\n",
      "198       13.00  2.00  Female    Yes  Thur   Lunch     2\n",
      "124       12.48  2.52  Female     No  Thur   Lunch     2\n",
      "101       15.38  3.00  Female    Yes   Fri  Dinner     2)\n"
     ]
    }
   ],
   "source": [
    "for sex_group in grouped:\n",
    "    print(sex_group)"
   ]
  },
  {
   "cell_type": "code",
   "execution_count": 49,
   "id": "31e32c8e",
   "metadata": {},
   "outputs": [
    {
     "ename": "KeyError",
     "evalue": "'Column not found: 0'",
     "output_type": "error",
     "traceback": [
      "\u001b[1;31m---------------------------------------------------------------------------\u001b[0m",
      "\u001b[1;31mKeyError\u001b[0m                                  Traceback (most recent call last)",
      "Cell \u001b[1;32mIn[49], line 1\u001b[0m\n\u001b[1;32m----> 1\u001b[0m \u001b[38;5;28mprint\u001b[39m(grouped[\u001b[38;5;241m0\u001b[39m])\n",
      "File \u001b[1;32m~\\anaconda3\\Lib\\site-packages\\pandas\\core\\groupby\\generic.py:1771\u001b[0m, in \u001b[0;36mDataFrameGroupBy.__getitem__\u001b[1;34m(self, key)\u001b[0m\n\u001b[0;32m   1764\u001b[0m \u001b[38;5;28;01mif\u001b[39;00m \u001b[38;5;28misinstance\u001b[39m(key, \u001b[38;5;28mtuple\u001b[39m) \u001b[38;5;129;01mand\u001b[39;00m \u001b[38;5;28mlen\u001b[39m(key) \u001b[38;5;241m>\u001b[39m \u001b[38;5;241m1\u001b[39m:\n\u001b[0;32m   1765\u001b[0m     \u001b[38;5;66;03m# if len == 1, then it becomes a SeriesGroupBy and this is actually\u001b[39;00m\n\u001b[0;32m   1766\u001b[0m     \u001b[38;5;66;03m# valid syntax, so don't raise\u001b[39;00m\n\u001b[0;32m   1767\u001b[0m     \u001b[38;5;28;01mraise\u001b[39;00m \u001b[38;5;167;01mValueError\u001b[39;00m(\n\u001b[0;32m   1768\u001b[0m         \u001b[38;5;124m\"\u001b[39m\u001b[38;5;124mCannot subset columns with a tuple with more than one element. \u001b[39m\u001b[38;5;124m\"\u001b[39m\n\u001b[0;32m   1769\u001b[0m         \u001b[38;5;124m\"\u001b[39m\u001b[38;5;124mUse a list instead.\u001b[39m\u001b[38;5;124m\"\u001b[39m\n\u001b[0;32m   1770\u001b[0m     )\n\u001b[1;32m-> 1771\u001b[0m \u001b[38;5;28;01mreturn\u001b[39;00m \u001b[38;5;28msuper\u001b[39m()\u001b[38;5;241m.\u001b[39m\u001b[38;5;21m__getitem__\u001b[39m(key)\n",
      "File \u001b[1;32m~\\anaconda3\\Lib\\site-packages\\pandas\\core\\base.py:244\u001b[0m, in \u001b[0;36mSelectionMixin.__getitem__\u001b[1;34m(self, key)\u001b[0m\n\u001b[0;32m    242\u001b[0m \u001b[38;5;28;01melse\u001b[39;00m:\n\u001b[0;32m    243\u001b[0m     \u001b[38;5;28;01mif\u001b[39;00m key \u001b[38;5;129;01mnot\u001b[39;00m \u001b[38;5;129;01min\u001b[39;00m \u001b[38;5;28mself\u001b[39m\u001b[38;5;241m.\u001b[39mobj:\n\u001b[1;32m--> 244\u001b[0m         \u001b[38;5;28;01mraise\u001b[39;00m \u001b[38;5;167;01mKeyError\u001b[39;00m(\u001b[38;5;124mf\u001b[39m\u001b[38;5;124m\"\u001b[39m\u001b[38;5;124mColumn not found: \u001b[39m\u001b[38;5;132;01m{\u001b[39;00mkey\u001b[38;5;132;01m}\u001b[39;00m\u001b[38;5;124m\"\u001b[39m)\n\u001b[0;32m    245\u001b[0m     ndim \u001b[38;5;241m=\u001b[39m \u001b[38;5;28mself\u001b[39m\u001b[38;5;241m.\u001b[39mobj[key]\u001b[38;5;241m.\u001b[39mndim\n\u001b[0;32m    246\u001b[0m     \u001b[38;5;28;01mreturn\u001b[39;00m \u001b[38;5;28mself\u001b[39m\u001b[38;5;241m.\u001b[39m_gotitem(key, ndim\u001b[38;5;241m=\u001b[39mndim)\n",
      "\u001b[1;31mKeyError\u001b[0m: 'Column not found: 0'"
     ]
    }
   ],
   "source": [
    "print(grouped[0])"
   ]
  },
  {
   "cell_type": "code",
   "execution_count": 51,
   "id": "ef0316eb",
   "metadata": {},
   "outputs": [
    {
     "name": "stdout",
     "output_type": "stream",
     "text": [
      "the type is : <class 'tuple'>\n",
      "\n",
      "the length is : 2\n",
      "\n",
      "the first element is : Male\n",
      "\n",
      "it has a type of : <class 'str'>\n",
      "\n",
      "the second element is : \n",
      "     total_bill   tip   sex smoker   day    time  size\n",
      "24        19.82  3.18  Male     No   Sat  Dinner     2\n",
      "6          8.77  2.00  Male     No   Sun  Dinner     2\n",
      "153       24.55  2.00  Male     No   Sun  Dinner     4\n",
      "211       25.89  5.16  Male    Yes   Sat  Dinner     4\n",
      "176       17.89  2.00  Male    Yes   Sun  Dinner     2\n",
      "192       28.44  2.56  Male    Yes  Thur   Lunch     2\n",
      "9         14.78  3.23  Male     No   Sun  Dinner     2\n",
      "\n",
      "it has a type of : <class 'pandas.core.frame.DataFrame'>\n",
      "\n",
      "what we have:\n",
      "('Male',      total_bill   tip   sex smoker   day    time  size\n",
      "24        19.82  3.18  Male     No   Sat  Dinner     2\n",
      "6          8.77  2.00  Male     No   Sun  Dinner     2\n",
      "153       24.55  2.00  Male     No   Sun  Dinner     4\n",
      "211       25.89  5.16  Male    Yes   Sat  Dinner     4\n",
      "176       17.89  2.00  Male    Yes   Sun  Dinner     2\n",
      "192       28.44  2.56  Male    Yes  Thur   Lunch     2\n",
      "9         14.78  3.23  Male     No   Sun  Dinner     2)\n"
     ]
    }
   ],
   "source": [
    "for sex_group in grouped:\n",
    "    print(f'the type is : {type(sex_group)}\\n')\n",
    "    print(f'the length is : {len(sex_group)}\\n')\n",
    "          \n",
    "    first_element = sex_group[0]\n",
    "    print(f'the first element is : {first_element}\\n')\n",
    "          \n",
    "    print(f'it has a type of : {type(sex_group[0])}\\n')\n",
    "          \n",
    "    second_element = sex_group[1]\n",
    "    print(f'the second element is : \\n{second_element}\\n')\n",
    "          \n",
    "    print(f'it has a type of : {type(second_element)}\\n')\n",
    "          \n",
    "    print(f'what we have:')\n",
    "    print(sex_group)\n",
    "          \n",
    "    break"
   ]
  },
  {
   "cell_type": "code",
   "execution_count": 52,
   "id": "70ec9db5",
   "metadata": {},
   "outputs": [],
   "source": [
    "bill_sex_time = tips_10.groupby(['sex', 'time'])\n",
    "\n",
    "group_avg = bill_sex_time.mean(numeric_only = True)"
   ]
  },
  {
   "cell_type": "code",
   "execution_count": 53,
   "id": "61ee9aee",
   "metadata": {},
   "outputs": [
    {
     "name": "stdout",
     "output_type": "stream",
     "text": [
      "<class 'pandas.core.frame.DataFrame'>\n"
     ]
    }
   ],
   "source": [
    "print(type(group_avg))"
   ]
  },
  {
   "cell_type": "code",
   "execution_count": 54,
   "id": "e47d1269",
   "metadata": {},
   "outputs": [
    {
     "name": "stdout",
     "output_type": "stream",
     "text": [
      "               total_bill       tip      size\n",
      "sex    time                                  \n",
      "Male   Lunch    28.440000  2.560000  2.000000\n",
      "       Dinner   18.616667  2.928333  2.666667\n",
      "Female Lunch    12.740000  2.260000  2.000000\n",
      "       Dinner   15.380000  3.000000  2.000000\n"
     ]
    }
   ],
   "source": [
    "print(group_avg)"
   ]
  },
  {
   "cell_type": "code",
   "execution_count": 55,
   "id": "afd80dd8",
   "metadata": {},
   "outputs": [
    {
     "name": "stdout",
     "output_type": "stream",
     "text": [
      "Index(['total_bill', 'tip', 'size'], dtype='object')\n"
     ]
    }
   ],
   "source": [
    "print(group_avg.columns)"
   ]
  },
  {
   "cell_type": "code",
   "execution_count": 56,
   "id": "13d2e8ef",
   "metadata": {},
   "outputs": [
    {
     "name": "stdout",
     "output_type": "stream",
     "text": [
      "MultiIndex([(  'Male',  'Lunch'),\n",
      "            (  'Male', 'Dinner'),\n",
      "            ('Female',  'Lunch'),\n",
      "            ('Female', 'Dinner')],\n",
      "           names=['sex', 'time'])\n"
     ]
    }
   ],
   "source": [
    "print(group_avg.index)"
   ]
  },
  {
   "cell_type": "code",
   "execution_count": 57,
   "id": "ab303945",
   "metadata": {},
   "outputs": [
    {
     "name": "stdout",
     "output_type": "stream",
     "text": [
      "      sex    time  total_bill       tip      size\n",
      "0    Male   Lunch   28.440000  2.560000  2.000000\n",
      "1    Male  Dinner   18.616667  2.928333  2.666667\n",
      "2  Female   Lunch   12.740000  2.260000  2.000000\n",
      "3  Female  Dinner   15.380000  3.000000  2.000000\n"
     ]
    }
   ],
   "source": [
    "group_method = tips_10.groupby(['sex',\n",
    "                               'time']).mean(numeric_only = True).reset_index()\n",
    "print(group_method)"
   ]
  },
  {
   "cell_type": "code",
   "execution_count": 59,
   "id": "5cd2999d",
   "metadata": {},
   "outputs": [
    {
     "name": "stdout",
     "output_type": "stream",
     "text": [
      "      sex    time  total_bill       tip      size\n",
      "0    Male   Lunch   28.440000  2.560000  2.000000\n",
      "1    Male  Dinner   18.616667  2.928333  2.666667\n",
      "2  Female   Lunch   12.740000  2.260000  2.000000\n",
      "3  Female  Dinner   15.380000  3.000000  2.000000\n"
     ]
    }
   ],
   "source": [
    "group_param = tips_10.groupby(['sex', 'time'],\n",
    "                             as_index = False).mean(numeric_only = True)\n",
    "print(group_param)"
   ]
  },
  {
   "cell_type": "markdown",
   "id": "d7e00fcf",
   "metadata": {},
   "source": [
    "# 8 - 5"
   ]
  },
  {
   "cell_type": "code",
   "execution_count": 61,
   "id": "0fd36da3",
   "metadata": {
    "scrolled": false
   },
   "outputs": [
    {
     "name": "stdout",
     "output_type": "stream",
     "text": [
      "         ig_type  intervened        pid  rep  sid        tr\n",
      "0              3          40  294524448    1  201  0.000135\n",
      "1              3          40  294571037    1  201  0.000135\n",
      "2              3          40  290699504    1  201  0.000135\n",
      "3              3          40  288354895    1  201  0.000135\n",
      "4              3          40  292271290    1  201  0.000135\n",
      "...          ...         ...        ...  ...  ...       ...\n",
      "9434648        2          87  345636694    2  201  0.000166\n",
      "9434649        3          87  295125214    2  201  0.000166\n",
      "9434650        2          89  292571119    2  201  0.000166\n",
      "9434651        3          89  292528142    2  201  0.000166\n",
      "9434652        2          95  291956763    2  201  0.000166\n",
      "\n",
      "[9434653 rows x 6 columns]\n"
     ]
    }
   ],
   "source": [
    "intv_df = pd.read_csv('data/epi_sim.zip')\n",
    "print(intv_df)"
   ]
  },
  {
   "cell_type": "code",
   "execution_count": 62,
   "id": "d8647045",
   "metadata": {},
   "outputs": [
    {
     "name": "stdout",
     "output_type": "stream",
     "text": [
      "rep  intervened  tr      \n",
      "0    8           0.000166    1\n",
      "     9           0.000152    3\n",
      "                 0.000166    1\n",
      "     10          0.000152    1\n",
      "                 0.000166    1\n",
      "                            ..\n",
      "2    193         0.000135    1\n",
      "                 0.000152    1\n",
      "     195         0.000135    1\n",
      "     198         0.000166    1\n",
      "     199         0.000135    1\n",
      "Name: ig_type, Length: 1196, dtype: int64\n"
     ]
    }
   ],
   "source": [
    "count_only = (\n",
    "    intv_df\n",
    "    .groupby(['rep', 'intervened', 'tr'])\n",
    "    ['ig_type']\n",
    "    .count()\n",
    ")\n",
    "\n",
    "print(count_only)"
   ]
  },
  {
   "cell_type": "code",
   "execution_count": 63,
   "id": "0d6325ac",
   "metadata": {},
   "outputs": [
    {
     "name": "stdout",
     "output_type": "stream",
     "text": [
      "<class 'pandas.core.series.Series'>\n"
     ]
    }
   ],
   "source": [
    "print(type(count_only))"
   ]
  },
  {
   "cell_type": "code",
   "execution_count": 64,
   "id": "b36556ad",
   "metadata": {},
   "outputs": [
    {
     "name": "stdout",
     "output_type": "stream",
     "text": [
      "MultiIndex([(0,   8, 0.000166),\n",
      "            (0,   9, 0.000152),\n",
      "            (0,   9, 0.000166),\n",
      "            (0,  10, 0.000152),\n",
      "            (0,  10, 0.000166),\n",
      "            (0,  12, 0.000152),\n",
      "            (0,  12, 0.000166),\n",
      "            (0,  13, 0.000152),\n",
      "            (0,  13, 0.000166),\n",
      "            (0,  14, 0.000152),\n",
      "            ...\n",
      "            (2, 187, 0.000152),\n",
      "            (2, 187, 0.000166),\n",
      "            (2, 189, 0.000135),\n",
      "            (2, 189, 0.000152),\n",
      "            (2, 190, 0.000166),\n",
      "            (2, 193, 0.000135),\n",
      "            (2, 193, 0.000152),\n",
      "            (2, 195, 0.000135),\n",
      "            (2, 198, 0.000166),\n",
      "            (2, 199, 0.000135)],\n",
      "           names=['rep', 'intervened', 'tr'], length=1196)\n"
     ]
    }
   ],
   "source": [
    "print(count_only.index)"
   ]
  },
  {
   "cell_type": "code",
   "execution_count": 65,
   "id": "4423c29c",
   "metadata": {},
   "outputs": [
    {
     "name": "stdout",
     "output_type": "stream",
     "text": [
      "rep  intervened  tr      \n",
      "0    8           0.000166    1.0\n",
      "     9           0.000152    3.0\n",
      "                 0.000166    1.0\n",
      "     10          0.000152    1.0\n",
      "                 0.000166    1.0\n",
      "Name: ig_type, dtype: float64\n"
     ]
    }
   ],
   "source": [
    "count_mean = count_only.groupby(level = [0, 1, 2]).mean()\n",
    "print(count_mean.head())"
   ]
  },
  {
   "cell_type": "code",
   "execution_count": 66,
   "id": "12f0dcca",
   "metadata": {},
   "outputs": [
    {
     "name": "stdout",
     "output_type": "stream",
     "text": [
      "rep  intervened  tr      \n",
      "0    8           0.000166    1.0\n",
      "     9           0.000152    3.0\n",
      "                 0.000166    1.0\n",
      "     10          0.000152    1.0\n",
      "                 0.000166    1.0\n",
      "Name: ig_type, dtype: float64\n"
     ]
    }
   ],
   "source": [
    "count_mean = (\n",
    "    intv_df\n",
    "    .groupby(['rep', 'intervened', 'tr'])['ig_type']\n",
    "    .count()\n",
    "    .groupby(level = [0, 1, 2])\n",
    "    .mean()\n",
    ")\n",
    "print(count_mean.head())"
   ]
  },
  {
   "cell_type": "code",
   "execution_count": 67,
   "id": "0a9746e9",
   "metadata": {},
   "outputs": [
    {
     "data": {
      "image/png": "[encoded data removed]",
      "text/plain": [
       "<Figure size 1558.88x500 with 3 Axes>"
      ]
     },
     "metadata": {},
     "output_type": "display_data"
    }
   ],
   "source": [
    "import seaborn as sns\n",
    "import matplotlib.pyplot as plt\n",
    "\n",
    "fig = sns.lmplot(\n",
    "    data = count_mean.reset_index(),\n",
    "    x = 'intervened',\n",
    "    y = 'ig_type',\n",
    "    hue = 'rep',\n",
    "    col = 'tr',\n",
    "    fit_reg = False,\n",
    "    palette = 'viridis'\n",
    ")\n",
    "\n",
    "plt.show()"
   ]
  },
  {
   "cell_type": "code",
   "execution_count": 69,
   "id": "64ae6cbe",
   "metadata": {},
   "outputs": [
    {
     "data": {
      "image/png": "[encoded data removed]",
      "text/plain": [
       "<Figure size 1558.88x500 with 3 Axes>"
      ]
     },
     "metadata": {},
     "output_type": "display_data"
    }
   ],
   "source": [
    "cumulative_count = (\n",
    "    intv_df\n",
    "    .groupby(['rep', 'intervened', 'tr'])['ig_type']\n",
    "    .count()\n",
    "    .groupby(level = ['rep'])\n",
    "    .cumsum()\n",
    "    .reset_index()\n",
    ")\n",
    "\n",
    "fig = sns.lmplot(\n",
    "    data = cumulative_count,\n",
    "    x = 'intervened',\n",
    "    y = 'ig_type',\n",
    "    hue = 'rep',\n",
    "    col = 'tr',\n",
    "    fit_reg = False,\n",
    "    palette = 'viridis'\n",
    ")\n",
    "\n",
    "plt.show()"
   ]
  }
 ],
 "metadata": {
  "kernelspec": {
   "display_name": "Python 3 (ipykernel)",
   "language": "python",
   "name": "python3"
  },
  "language_info": {
   "codemirror_mode": {
    "name": "ipython",
    "version": 3
   },
   "file_extension": ".py",
   "mimetype": "text/x-python",
   "name": "python",
   "nbconvert_exporter": "python",
   "pygments_lexer": "ipython3",
   "version": "3.11.5"
  }
 },
 "nbformat": 4,
 "nbformat_minor": 5
}
